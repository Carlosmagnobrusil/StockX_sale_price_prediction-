{
  "nbformat": 4,
  "nbformat_minor": 0,
  "metadata": {
    "colab": {
      "name": "StockX.ipynb",
      "provenance": [],
      "collapsed_sections": [],
      "authorship_tag": "ABX9TyPu83khL47T/3W8E3riISet",
      "include_colab_link": true
    },
    "kernelspec": {
      "name": "python3",
      "display_name": "Python 3"
    },
    "language_info": {
      "name": "python"
    }
  },
  "cells": [
    {
      "cell_type": "markdown",
      "metadata": {
        "id": "view-in-github",
        "colab_type": "text"
      },
      "source": [
        "<a href=\"https://colab.research.google.com/github/Carlosmagnobrusil/StockX_sale_price_prediction-/blob/main/StockX.ipynb\" target=\"_parent\"><img src=\"https://colab.research.google.com/assets/colab-badge.svg\" alt=\"Open In Colab\"/></a>"
      ]
    },
    {
      "cell_type": "markdown",
      "source": [
        "#**Estudio de variacion de los precios**\n",
        "## *Creado por: Carlos Brusil*\n",
        "\n",
        "\n",
        "\n",
        "*   Fecha de Creación: 21 de febrero de 2022 \n",
        "*   Fechad de actualización: 22 de febrero de 2022\n",
        "*   Descripción: En el presente script se busca trabajar la base de datos de Sock X una tienda en linea de reventa de zapatos, la cual busca reponder cuales son las variables que determinan el precio de reventa."
      ],
      "metadata": {
        "id": "RtVyhHn8u6KV"
      }
    },
    {
      "cell_type": "markdown",
      "source": [
        "## Carga de datos y librerías principales "
      ],
      "metadata": {
        "id": "LTk_vNZE2dcT"
      }
    },
    {
      "cell_type": "code",
      "execution_count": null,
      "metadata": {
        "colab": {
          "base_uri": "https://localhost:8080/"
        },
        "id": "-rxXGxvxucbD",
        "outputId": "5aee471f-5ec8-4c30-9447-c3fb1530311f"
      },
      "outputs": [
        {
          "output_type": "stream",
          "name": "stdout",
          "text": [
            "Drive already mounted at /content/drive; to attempt to forcibly remount, call drive.mount(\"/content/drive\", force_remount=True).\n"
          ]
        }
      ],
      "source": [
        "from google.colab import drive\n",
        "drive.mount('/content/drive') # uno my Drive al nuevo cuaderno"
      ]
    },
    {
      "cell_type": "code",
      "source": [
        "import pandas as pd #importo la libreria panda permite manipular y molderar los datos \n",
        "import numpy as np #importo la libreria numpy manipular y molderar los datos \n",
        "import matplotlib.pyplot as plt #importo libreria matplotlib que es una libreria que me permite realizar graficas en 2 dimensiones de de mis datos\n",
        "import seaborn as sns #Esta libreria nos permite modificar la vizualizacion de los datos atraves de los coleres y mejorar presetancion de los mismo "
      ],
      "metadata": {
        "id": "GjsO_tNhx9yE"
      },
      "execution_count": null,
      "outputs": []
    },
    {
      "cell_type": "code",
      "source": [
        "stock =  '/content/drive/MyDrive/Coding_Dojo/Proyecto 2 /Data/StockX-Data-Contest-2019-3.csv' #Nombro a la base\n",
        "stockx_df = pd.read_csv(stock) #le doy un nombre a la trama tener en cuenta que tipo dearchivo estoy leyendo\n",
        "stockx_df #Observo que los datos hayan sido leidos de forma correcta"
      ],
      "metadata": {
        "colab": {
          "base_uri": "https://localhost:8080/"
        },
        "id": "kHo6qBxDwSQ7",
        "outputId": "00b8d7e9-1959-4cbe-fa9f-96a27d7fc4d2"
      },
      "execution_count": null,
      "outputs": [
        {
          "output_type": "execute_result",
          "data": {
            "text/plain": [
              "      Order Date   Brand                                   Sneaker Name  \\\n",
              "0         9/1/17   Yeezy           Adidas-Yeezy-Boost-350-Low-V2-Beluga   \n",
              "1         9/1/17   Yeezy    Adidas-Yeezy-Boost-350-V2-Core-Black-Copper   \n",
              "2         9/1/17   Yeezy     Adidas-Yeezy-Boost-350-V2-Core-Black-Green   \n",
              "3         9/1/17   Yeezy       Adidas-Yeezy-Boost-350-V2-Core-Black-Red   \n",
              "4         9/1/17   Yeezy  Adidas-Yeezy-Boost-350-V2-Core-Black-Red-2017   \n",
              "...          ...     ...                                            ...   \n",
              "99951    2/13/19   Yeezy    adidas-Yeezy-Boost-350-V2-Static-Reflective   \n",
              "99952    2/13/19   Yeezy    adidas-Yeezy-Boost-350-V2-Static-Reflective   \n",
              "99953    2/13/19   Yeezy    adidas-Yeezy-Boost-350-V2-Static-Reflective   \n",
              "99954    2/13/19   Yeezy    adidas-Yeezy-Boost-350-V2-Static-Reflective   \n",
              "99955    2/13/19   Yeezy    adidas-Yeezy-Boost-350-V2-Static-Reflective   \n",
              "\n",
              "      Sale Price Retail Price Release Date  Shoe Size  Buyer Region  \n",
              "0         $1,097         $220      9/24/16       11.0    California  \n",
              "1           $685         $220     11/23/16       11.0    California  \n",
              "2           $690         $220     11/23/16       11.0    California  \n",
              "3         $1,075         $220     11/23/16       11.5      Kentucky  \n",
              "4           $828         $220      2/11/17       11.0  Rhode Island  \n",
              "...          ...          ...          ...        ...           ...  \n",
              "99951       $565         $220     12/26/18        8.0        Oregon  \n",
              "99952       $598         $220     12/26/18        8.5    California  \n",
              "99953       $605         $220     12/26/18        5.5      New York  \n",
              "99954       $650         $220     12/26/18       11.0    California  \n",
              "99955       $640         $220     12/26/18       11.5         Texas  \n",
              "\n",
              "[99956 rows x 8 columns]"
            ],
            "text/html": [
              "\n",
              "  <div id=\"df-39383914-0b83-4f97-b577-79c99483d232\">\n",
              "    <div class=\"colab-df-container\">\n",
              "      <div>\n",
              "<style scoped>\n",
              "    .dataframe tbody tr th:only-of-type {\n",
              "        vertical-align: middle;\n",
              "    }\n",
              "\n",
              "    .dataframe tbody tr th {\n",
              "        vertical-align: top;\n",
              "    }\n",
              "\n",
              "    .dataframe thead th {\n",
              "        text-align: right;\n",
              "    }\n",
              "</style>\n",
              "<table border=\"1\" class=\"dataframe\">\n",
              "  <thead>\n",
              "    <tr style=\"text-align: right;\">\n",
              "      <th></th>\n",
              "      <th>Order Date</th>\n",
              "      <th>Brand</th>\n",
              "      <th>Sneaker Name</th>\n",
              "      <th>Sale Price</th>\n",
              "      <th>Retail Price</th>\n",
              "      <th>Release Date</th>\n",
              "      <th>Shoe Size</th>\n",
              "      <th>Buyer Region</th>\n",
              "    </tr>\n",
              "  </thead>\n",
              "  <tbody>\n",
              "    <tr>\n",
              "      <th>0</th>\n",
              "      <td>9/1/17</td>\n",
              "      <td>Yeezy</td>\n",
              "      <td>Adidas-Yeezy-Boost-350-Low-V2-Beluga</td>\n",
              "      <td>$1,097</td>\n",
              "      <td>$220</td>\n",
              "      <td>9/24/16</td>\n",
              "      <td>11.0</td>\n",
              "      <td>California</td>\n",
              "    </tr>\n",
              "    <tr>\n",
              "      <th>1</th>\n",
              "      <td>9/1/17</td>\n",
              "      <td>Yeezy</td>\n",
              "      <td>Adidas-Yeezy-Boost-350-V2-Core-Black-Copper</td>\n",
              "      <td>$685</td>\n",
              "      <td>$220</td>\n",
              "      <td>11/23/16</td>\n",
              "      <td>11.0</td>\n",
              "      <td>California</td>\n",
              "    </tr>\n",
              "    <tr>\n",
              "      <th>2</th>\n",
              "      <td>9/1/17</td>\n",
              "      <td>Yeezy</td>\n",
              "      <td>Adidas-Yeezy-Boost-350-V2-Core-Black-Green</td>\n",
              "      <td>$690</td>\n",
              "      <td>$220</td>\n",
              "      <td>11/23/16</td>\n",
              "      <td>11.0</td>\n",
              "      <td>California</td>\n",
              "    </tr>\n",
              "    <tr>\n",
              "      <th>3</th>\n",
              "      <td>9/1/17</td>\n",
              "      <td>Yeezy</td>\n",
              "      <td>Adidas-Yeezy-Boost-350-V2-Core-Black-Red</td>\n",
              "      <td>$1,075</td>\n",
              "      <td>$220</td>\n",
              "      <td>11/23/16</td>\n",
              "      <td>11.5</td>\n",
              "      <td>Kentucky</td>\n",
              "    </tr>\n",
              "    <tr>\n",
              "      <th>4</th>\n",
              "      <td>9/1/17</td>\n",
              "      <td>Yeezy</td>\n",
              "      <td>Adidas-Yeezy-Boost-350-V2-Core-Black-Red-2017</td>\n",
              "      <td>$828</td>\n",
              "      <td>$220</td>\n",
              "      <td>2/11/17</td>\n",
              "      <td>11.0</td>\n",
              "      <td>Rhode Island</td>\n",
              "    </tr>\n",
              "    <tr>\n",
              "      <th>...</th>\n",
              "      <td>...</td>\n",
              "      <td>...</td>\n",
              "      <td>...</td>\n",
              "      <td>...</td>\n",
              "      <td>...</td>\n",
              "      <td>...</td>\n",
              "      <td>...</td>\n",
              "      <td>...</td>\n",
              "    </tr>\n",
              "    <tr>\n",
              "      <th>99951</th>\n",
              "      <td>2/13/19</td>\n",
              "      <td>Yeezy</td>\n",
              "      <td>adidas-Yeezy-Boost-350-V2-Static-Reflective</td>\n",
              "      <td>$565</td>\n",
              "      <td>$220</td>\n",
              "      <td>12/26/18</td>\n",
              "      <td>8.0</td>\n",
              "      <td>Oregon</td>\n",
              "    </tr>\n",
              "    <tr>\n",
              "      <th>99952</th>\n",
              "      <td>2/13/19</td>\n",
              "      <td>Yeezy</td>\n",
              "      <td>adidas-Yeezy-Boost-350-V2-Static-Reflective</td>\n",
              "      <td>$598</td>\n",
              "      <td>$220</td>\n",
              "      <td>12/26/18</td>\n",
              "      <td>8.5</td>\n",
              "      <td>California</td>\n",
              "    </tr>\n",
              "    <tr>\n",
              "      <th>99953</th>\n",
              "      <td>2/13/19</td>\n",
              "      <td>Yeezy</td>\n",
              "      <td>adidas-Yeezy-Boost-350-V2-Static-Reflective</td>\n",
              "      <td>$605</td>\n",
              "      <td>$220</td>\n",
              "      <td>12/26/18</td>\n",
              "      <td>5.5</td>\n",
              "      <td>New York</td>\n",
              "    </tr>\n",
              "    <tr>\n",
              "      <th>99954</th>\n",
              "      <td>2/13/19</td>\n",
              "      <td>Yeezy</td>\n",
              "      <td>adidas-Yeezy-Boost-350-V2-Static-Reflective</td>\n",
              "      <td>$650</td>\n",
              "      <td>$220</td>\n",
              "      <td>12/26/18</td>\n",
              "      <td>11.0</td>\n",
              "      <td>California</td>\n",
              "    </tr>\n",
              "    <tr>\n",
              "      <th>99955</th>\n",
              "      <td>2/13/19</td>\n",
              "      <td>Yeezy</td>\n",
              "      <td>adidas-Yeezy-Boost-350-V2-Static-Reflective</td>\n",
              "      <td>$640</td>\n",
              "      <td>$220</td>\n",
              "      <td>12/26/18</td>\n",
              "      <td>11.5</td>\n",
              "      <td>Texas</td>\n",
              "    </tr>\n",
              "  </tbody>\n",
              "</table>\n",
              "<p>99956 rows × 8 columns</p>\n",
              "</div>\n",
              "      <button class=\"colab-df-convert\" onclick=\"convertToInteractive('df-39383914-0b83-4f97-b577-79c99483d232')\"\n",
              "              title=\"Convert this dataframe to an interactive table.\"\n",
              "              style=\"display:none;\">\n",
              "        \n",
              "  <svg xmlns=\"http://www.w3.org/2000/svg\" height=\"24px\"viewBox=\"0 0 24 24\"\n",
              "       width=\"24px\">\n",
              "    <path d=\"M0 0h24v24H0V0z\" fill=\"none\"/>\n",
              "    <path d=\"M18.56 5.44l.94 2.06.94-2.06 2.06-.94-2.06-.94-.94-2.06-.94 2.06-2.06.94zm-11 1L8.5 8.5l.94-2.06 2.06-.94-2.06-.94L8.5 2.5l-.94 2.06-2.06.94zm10 10l.94 2.06.94-2.06 2.06-.94-2.06-.94-.94-2.06-.94 2.06-2.06.94z\"/><path d=\"M17.41 7.96l-1.37-1.37c-.4-.4-.92-.59-1.43-.59-.52 0-1.04.2-1.43.59L10.3 9.45l-7.72 7.72c-.78.78-.78 2.05 0 2.83L4 21.41c.39.39.9.59 1.41.59.51 0 1.02-.2 1.41-.59l7.78-7.78 2.81-2.81c.8-.78.8-2.07 0-2.86zM5.41 20L4 18.59l7.72-7.72 1.47 1.35L5.41 20z\"/>\n",
              "  </svg>\n",
              "      </button>\n",
              "      \n",
              "  <style>\n",
              "    .colab-df-container {\n",
              "      display:flex;\n",
              "      flex-wrap:wrap;\n",
              "      gap: 12px;\n",
              "    }\n",
              "\n",
              "    .colab-df-convert {\n",
              "      background-color: #E8F0FE;\n",
              "      border: none;\n",
              "      border-radius: 50%;\n",
              "      cursor: pointer;\n",
              "      display: none;\n",
              "      fill: #1967D2;\n",
              "      height: 32px;\n",
              "      padding: 0 0 0 0;\n",
              "      width: 32px;\n",
              "    }\n",
              "\n",
              "    .colab-df-convert:hover {\n",
              "      background-color: #E2EBFA;\n",
              "      box-shadow: 0px 1px 2px rgba(60, 64, 67, 0.3), 0px 1px 3px 1px rgba(60, 64, 67, 0.15);\n",
              "      fill: #174EA6;\n",
              "    }\n",
              "\n",
              "    [theme=dark] .colab-df-convert {\n",
              "      background-color: #3B4455;\n",
              "      fill: #D2E3FC;\n",
              "    }\n",
              "\n",
              "    [theme=dark] .colab-df-convert:hover {\n",
              "      background-color: #434B5C;\n",
              "      box-shadow: 0px 1px 3px 1px rgba(0, 0, 0, 0.15);\n",
              "      filter: drop-shadow(0px 1px 2px rgba(0, 0, 0, 0.3));\n",
              "      fill: #FFFFFF;\n",
              "    }\n",
              "  </style>\n",
              "\n",
              "      <script>\n",
              "        const buttonEl =\n",
              "          document.querySelector('#df-39383914-0b83-4f97-b577-79c99483d232 button.colab-df-convert');\n",
              "        buttonEl.style.display =\n",
              "          google.colab.kernel.accessAllowed ? 'block' : 'none';\n",
              "\n",
              "        async function convertToInteractive(key) {\n",
              "          const element = document.querySelector('#df-39383914-0b83-4f97-b577-79c99483d232');\n",
              "          const dataTable =\n",
              "            await google.colab.kernel.invokeFunction('convertToInteractive',\n",
              "                                                     [key], {});\n",
              "          if (!dataTable) return;\n",
              "\n",
              "          const docLinkHtml = 'Like what you see? Visit the ' +\n",
              "            '<a target=\"_blank\" href=https://colab.research.google.com/notebooks/data_table.ipynb>data table notebook</a>'\n",
              "            + ' to learn more about interactive tables.';\n",
              "          element.innerHTML = '';\n",
              "          dataTable['output_type'] = 'display_data';\n",
              "          await google.colab.output.renderOutput(dataTable, element);\n",
              "          const docLink = document.createElement('div');\n",
              "          docLink.innerHTML = docLinkHtml;\n",
              "          element.appendChild(docLink);\n",
              "        }\n",
              "      </script>\n",
              "    </div>\n",
              "  </div>\n",
              "  "
            ]
          },
          "metadata": {},
          "execution_count": 5
        }
      ]
    },
    {
      "cell_type": "markdown",
      "source": [
        "## Exploración de la base "
      ],
      "metadata": {
        "id": "1f7HDExH8Tfd"
      }
    },
    {
      "cell_type": "code",
      "source": [
        "stockx_df.info()"
      ],
      "metadata": {
        "colab": {
          "base_uri": "https://localhost:8080/"
        },
        "id": "7CQla69qyiQ4",
        "outputId": "463b213c-88ef-4610-bc0b-d231df7e446b"
      },
      "execution_count": null,
      "outputs": [
        {
          "output_type": "stream",
          "name": "stdout",
          "text": [
            "<class 'pandas.core.frame.DataFrame'>\n",
            "RangeIndex: 99956 entries, 0 to 99955\n",
            "Data columns (total 8 columns):\n",
            " #   Column        Non-Null Count  Dtype  \n",
            "---  ------        --------------  -----  \n",
            " 0   Order Date    99956 non-null  object \n",
            " 1   Brand         99956 non-null  object \n",
            " 2   Sneaker Name  99956 non-null  object \n",
            " 3   Sale Price    99956 non-null  object \n",
            " 4   Retail Price  99956 non-null  object \n",
            " 5   Release Date  99956 non-null  object \n",
            " 6   Shoe Size     99956 non-null  float64\n",
            " 7   Buyer Region  99956 non-null  object \n",
            "dtypes: float64(1), object(7)\n",
            "memory usage: 6.1+ MB\n"
          ]
        }
      ]
    },
    {
      "cell_type": "code",
      "source": [
        "stockx_df.columns= stockx_df.columns.str.lower()#primero defino a todos los nombres de las columnas en letra minuscula"
      ],
      "metadata": {
        "id": "tDqh0VG27RnY"
      },
      "execution_count": null,
      "outputs": []
    },
    {
      "cell_type": "code",
      "source": [
        "stockx_df.columns = stockx_df.columns.str.replace(' ', '_') #en esta linea realizo el cambio de los espacios del nombre de las columnas por \n",
        "#el '_' "
      ],
      "metadata": {
        "id": "woVlTPLO7anK"
      },
      "execution_count": null,
      "outputs": []
    },
    {
      "cell_type": "code",
      "source": [
        "stockx_df['sneaker_name'] = stockx_df['sneaker_name'].str.upper() #convierto todos los nombres de mi columna en mayusculas "
      ],
      "metadata": {
        "id": "E-IoTfriF-il"
      },
      "execution_count": null,
      "outputs": []
    },
    {
      "cell_type": "code",
      "source": [
        "stockx_df.info()"
      ],
      "metadata": {
        "colab": {
          "base_uri": "https://localhost:8080/"
        },
        "id": "Nr6iLVir7lQh",
        "outputId": "ed5e0123-1fd0-4a7b-98d3-77979a01ed6a"
      },
      "execution_count": null,
      "outputs": [
        {
          "output_type": "stream",
          "name": "stdout",
          "text": [
            "<class 'pandas.core.frame.DataFrame'>\n",
            "RangeIndex: 99956 entries, 0 to 99955\n",
            "Data columns (total 8 columns):\n",
            " #   Column        Non-Null Count  Dtype  \n",
            "---  ------        --------------  -----  \n",
            " 0   order_date    99956 non-null  object \n",
            " 1   brand         99956 non-null  object \n",
            " 2   sneaker_name  99956 non-null  object \n",
            " 3   sale_price    99956 non-null  object \n",
            " 4   retail_price  99956 non-null  object \n",
            " 5   release_date  99956 non-null  object \n",
            " 6   shoe_size     99956 non-null  float64\n",
            " 7   buyer_region  99956 non-null  object \n",
            "dtypes: float64(1), object(7)\n",
            "memory usage: 6.1+ MB\n"
          ]
        }
      ]
    },
    {
      "cell_type": "code",
      "source": [
        "stockx_df['brand'].unique()"
      ],
      "metadata": {
        "colab": {
          "base_uri": "https://localhost:8080/"
        },
        "id": "CNdBlPBfyqCc",
        "outputId": "361ddb3b-cd03-4347-8602-83df46bc50a6"
      },
      "execution_count": null,
      "outputs": [
        {
          "output_type": "execute_result",
          "data": {
            "text/plain": [
              "array([' Yeezy', 'Off-White'], dtype=object)"
            ]
          },
          "metadata": {},
          "execution_count": 11
        }
      ]
    },
    {
      "cell_type": "code",
      "source": [
        "stockx_df['sneaker_name'].unique()"
      ],
      "metadata": {
        "colab": {
          "base_uri": "https://localhost:8080/"
        },
        "id": "IQWEdQzv2Psl",
        "outputId": "abc4b248-35d9-4b37-f761-fabbebd87469"
      },
      "execution_count": null,
      "outputs": [
        {
          "output_type": "execute_result",
          "data": {
            "text/plain": [
              "array(['ADIDAS-YEEZY-BOOST-350-LOW-V2-BELUGA',\n",
              "       'ADIDAS-YEEZY-BOOST-350-V2-CORE-BLACK-COPPER',\n",
              "       'ADIDAS-YEEZY-BOOST-350-V2-CORE-BLACK-GREEN',\n",
              "       'ADIDAS-YEEZY-BOOST-350-V2-CORE-BLACK-RED',\n",
              "       'ADIDAS-YEEZY-BOOST-350-V2-CORE-BLACK-RED-2017',\n",
              "       'ADIDAS-YEEZY-BOOST-350-V2-CORE-BLACK-WHITE',\n",
              "       'ADIDAS-YEEZY-BOOST-350-V2-CREAM-WHITE',\n",
              "       'ADIDAS-YEEZY-BOOST-350-V2-ZEBRA',\n",
              "       'ADIDAS-YEEZY-BOOST-350-LOW-MOONROCK', 'NIKE-AIR-MAX-90-OFF-WHITE',\n",
              "       'NIKE-AIR-PRESTO-OFF-WHITE', 'NIKE-AIR-VAPORMAX-OFF-WHITE',\n",
              "       'AIR-JORDAN-1-RETRO-HIGH-OFF-WHITE-CHICAGO',\n",
              "       'NIKE-BLAZER-MID-OFF-WHITE',\n",
              "       'ADIDAS-YEEZY-BOOST-350-LOW-PIRATE-BLACK-2016',\n",
              "       'ADIDAS-YEEZY-BOOST-350-LOW-OXFORD-TAN',\n",
              "       'ADIDAS-YEEZY-BOOST-350-LOW-TURTLEDOVE',\n",
              "       'ADIDAS-YEEZY-BOOST-350-LOW-PIRATE-BLACK-2015',\n",
              "       'ADIDAS-YEEZY-BOOST-350-V2-SEMI-FROZEN-YELLOW',\n",
              "       'NIKE-AIR-FORCE-1-LOW-OFF-WHITE', 'NIKE-AIR-MAX-97-OFF-WHITE',\n",
              "       'NIKE-AIR-FORCE-1-LOW-VIRGIL-ABLOH-OFF-WHITE-AF100',\n",
              "       'NIKE-REACT-HYPERDUNK-2017-FLYKNIT-OFF-WHITE',\n",
              "       'NIKE-ZOOM-FLY-OFF-WHITE', 'ADIDAS-YEEZY-BOOST-350-V2-BELUGA-2PT0',\n",
              "       'ADIDAS-YEEZY-BOOST-350-V2-BLUE-TINT',\n",
              "       'NIKE-AIR-VAPORMAX-OFF-WHITE-2018',\n",
              "       'AIR-JORDAN-1-RETRO-HIGH-OFF-WHITE-WHITE',\n",
              "       'NIKE-AIR-VAPORMAX-OFF-WHITE-BLACK',\n",
              "       'AIR-JORDAN-1-RETRO-HIGH-OFF-WHITE-UNIVERSITY-BLUE',\n",
              "       'NIKE-AIR-PRESTO-OFF-WHITE-BLACK-2018',\n",
              "       'NIKE-AIR-PRESTO-OFF-WHITE-WHITE-2018',\n",
              "       'NIKE-ZOOM-FLY-MERCURIAL-OFF-WHITE-BLACK',\n",
              "       'NIKE-ZOOM-FLY-MERCURIAL-OFF-WHITE-TOTAL-ORANGE',\n",
              "       'ADIDAS-YEEZY-BOOST-350-V2-BUTTER',\n",
              "       'NIKE-AIR-MAX-97-OFF-WHITE-ELEMENTAL-ROSE-QUEEN',\n",
              "       'NIKE-BLAZER-MID-OFF-WHITE-ALL-HALLOWS-EVE',\n",
              "       'NIKE-BLAZER-MID-OFF-WHITE-GRIM-REAPER',\n",
              "       'ADIDAS-YEEZY-BOOST-350-V2-SESAME',\n",
              "       'NIKE-BLAZER-MID-OFF-WHITE-WOLF-GREY',\n",
              "       'NIKE-AIR-MAX-97-OFF-WHITE-MENTA',\n",
              "       'NIKE-AIR-MAX-97-OFF-WHITE-BLACK',\n",
              "       'NIKE-ZOOM-FLY-OFF-WHITE-BLACK-SILVER',\n",
              "       'NIKE-ZOOM-FLY-OFF-WHITE-PINK',\n",
              "       'NIKE-AIR-FORCE-1-LOW-OFF-WHITE-VOLT',\n",
              "       'NIKE-AIR-FORCE-1-LOW-OFF-WHITE-BLACK-WHITE',\n",
              "       'ADIDAS-YEEZY-BOOST-350-V2-STATIC',\n",
              "       'ADIDAS-YEEZY-BOOST-350-V2-STATIC-REFLECTIVE',\n",
              "       'NIKE-AIR-MAX-90-OFF-WHITE-BLACK',\n",
              "       'NIKE-AIR-MAX-90-OFF-WHITE-DESERT-ORE'], dtype=object)"
            ]
          },
          "metadata": {},
          "execution_count": 12
        }
      ]
    },
    {
      "cell_type": "code",
      "source": [
        "number_of_siluettes = len(stockx_df['sneaker_name'].unique())\n",
        "print(\"Numero de Siluetas  que existen en la base de datos:\", number_of_siluettes)"
      ],
      "metadata": {
        "colab": {
          "base_uri": "https://localhost:8080/"
        },
        "id": "zowH5CR06hG6",
        "outputId": "d3252e29-faf7-473f-caf5-9b9effae9b7f"
      },
      "execution_count": null,
      "outputs": [
        {
          "output_type": "stream",
          "name": "stdout",
          "text": [
            "Numero de Siluetas  que existen en la base de datos: 50\n"
          ]
        }
      ]
    },
    {
      "cell_type": "markdown",
      "source": [
        "##### Durante la priemra explaración se ha tomado un pequeño vistazo a la base, esta base parce bastante limpia ya que no cuenta con valores perdidos, además se revisa dos de las varables mas importantes dentro del **\"Sneaker Game\"** es decir el mecado de reventa de zapatos, estas son la marca donde se devela que el estudio solo cuenta con dos marcas y estas son NIKE en su colaboración con la marca OFF WHITE del difunto diseñador Virgil Abloh y Adidas con su marca YEZZY del rapero y diseñador Kayne West dos iconos de la cultura pop en los ultimos años. dentro de esto podemos observar que la marca Nike cuenta con su coleccion de 10 y Adidas con la silueta Yezzy 350 en sus diferentes color ways. \n",
        "\n",
        "##### Para mayor informacion podemos revisar los siguientes Links \n",
        "* https://www.farfetch.com/uk/style-guide/how-to/the-history-of-the-yeezy-boost-350/\n",
        "\n",
        "* https://www.nssmag.com/en/fashion/12262/virgil-abloh-explains-the-off-white-x-nike-collection-the-ten\n",
        "  "
      ],
      "metadata": {
        "id": "eUYL1nFw78f-"
      }
    },
    {
      "cell_type": "code",
      "source": [
        "prices = ['retail_price',\"sale_price\"]\n",
        "\n",
        "for p in prices:\n",
        "    stockx_df[p] = stockx_df[p].str.replace('$','')\n",
        "    \n"
      ],
      "metadata": {
        "colab": {
          "base_uri": "https://localhost:8080/"
        },
        "id": "5F36dK22-_06",
        "outputId": "eab16137-2937-4bab-d92c-45231bd07ea7"
      },
      "execution_count": null,
      "outputs": [
        {
          "output_type": "stream",
          "name": "stderr",
          "text": [
            "/usr/local/lib/python3.7/dist-packages/ipykernel_launcher.py:4: FutureWarning: The default value of regex will change from True to False in a future version. In addition, single character regular expressions will *not* be treated as literal strings when regex=True.\n",
            "  after removing the cwd from sys.path.\n"
          ]
        }
      ]
    },
    {
      "cell_type": "code",
      "source": [
        "prices = ['retail_price',\"sale_price\"]\n",
        "\n",
        "for p in prices:\n",
        "    stockx_df[p] = stockx_df[p].str.replace(',','')\n",
        "    "
      ],
      "metadata": {
        "id": "T8U35UQ8Arpu"
      },
      "execution_count": null,
      "outputs": []
    },
    {
      "cell_type": "code",
      "source": [
        "prices = ['retail_price',\"sale_price\"]\n",
        "\n",
        "for p in prices:\n",
        "    stockx_df[p] = stockx_df[p].astype(str).astype(int)"
      ],
      "metadata": {
        "id": "kPvTFj3sAfCV"
      },
      "execution_count": null,
      "outputs": []
    },
    {
      "cell_type": "code",
      "source": [
        "dates = [\"order_date\",\"release_date\"]\n",
        "\n",
        "for d in dates:\n",
        "    stockx_df[d] = stockx_df[d].astype(\"datetime64\")"
      ],
      "metadata": {
        "id": "moM0RpzsYqX0"
      },
      "execution_count": null,
      "outputs": []
    },
    {
      "cell_type": "code",
      "source": [
        "categoricals = [\"brand\", \"sneaker_name\", \"buyer_region\" ]\n",
        "\n",
        "for c in categoricals:\n",
        "  stockx_df[c] = stockx_df[c].astype('category')"
      ],
      "metadata": {
        "id": "sf-YkTfcbikk"
      },
      "execution_count": null,
      "outputs": []
    },
    {
      "cell_type": "code",
      "source": [
        "stockx_df.info()"
      ],
      "metadata": {
        "colab": {
          "base_uri": "https://localhost:8080/"
        },
        "id": "C_KcejUiALAv",
        "outputId": "749a7da1-8a20-4cfc-b5df-0efd1dc03624"
      },
      "execution_count": null,
      "outputs": [
        {
          "output_type": "stream",
          "name": "stdout",
          "text": [
            "<class 'pandas.core.frame.DataFrame'>\n",
            "RangeIndex: 99956 entries, 0 to 99955\n",
            "Data columns (total 8 columns):\n",
            " #   Column        Non-Null Count  Dtype         \n",
            "---  ------        --------------  -----         \n",
            " 0   order_date    99956 non-null  datetime64[ns]\n",
            " 1   brand         99956 non-null  category      \n",
            " 2   sneaker_name  99956 non-null  category      \n",
            " 3   sale_price    99956 non-null  int64         \n",
            " 4   retail_price  99956 non-null  int64         \n",
            " 5   release_date  99956 non-null  datetime64[ns]\n",
            " 6   shoe_size     99956 non-null  float64       \n",
            " 7   buyer_region  99956 non-null  category      \n",
            "dtypes: category(3), datetime64[ns](2), float64(1), int64(2)\n",
            "memory usage: 4.1 MB\n"
          ]
        }
      ]
    },
    {
      "cell_type": "markdown",
      "source": [
        "## Primeras impresiones "
      ],
      "metadata": {
        "id": "CRQ58YZyO2-S"
      }
    },
    {
      "cell_type": "code",
      "source": [
        "round(stockx_df.groupby([\"brand\",\"sneaker_name\"])[\"sale_price\"].mean(),2) #ojo revisar esta clasificación "
      ],
      "metadata": {
        "colab": {
          "base_uri": "https://localhost:8080/"
        },
        "id": "hj8smfdR7HFx",
        "outputId": "3cd55933-d939-4f16-aef3-5acac7254c3b"
      },
      "execution_count": null,
      "outputs": [
        {
          "output_type": "execute_result",
          "data": {
            "text/plain": [
              "brand      sneaker_name                                  \n",
              " Yeezy     ADIDAS-YEEZY-BOOST-350-LOW-MOONROCK                996.71\n",
              "           ADIDAS-YEEZY-BOOST-350-LOW-OXFORD-TAN             1011.51\n",
              "           ADIDAS-YEEZY-BOOST-350-LOW-PIRATE-BLACK-2015       895.09\n",
              "           ADIDAS-YEEZY-BOOST-350-LOW-PIRATE-BLACK-2016       984.24\n",
              "           ADIDAS-YEEZY-BOOST-350-LOW-TURTLEDOVE             1531.66\n",
              "                                                              ...   \n",
              "Off-White  NIKE-ZOOM-FLY-MERCURIAL-OFF-WHITE-BLACK            354.13\n",
              "           NIKE-ZOOM-FLY-MERCURIAL-OFF-WHITE-TOTAL-ORANGE     287.91\n",
              "           NIKE-ZOOM-FLY-OFF-WHITE                            534.82\n",
              "           NIKE-ZOOM-FLY-OFF-WHITE-BLACK-SILVER               316.69\n",
              "           NIKE-ZOOM-FLY-OFF-WHITE-PINK                       271.17\n",
              "Name: sale_price, Length: 100, dtype: float64"
            ]
          },
          "metadata": {},
          "execution_count": 20
        }
      ]
    },
    {
      "cell_type": "code",
      "source": [
        "round(stockx_df.groupby([\"brand\"])[\"retail_price\"].mean(),2)"
      ],
      "metadata": {
        "colab": {
          "base_uri": "https://localhost:8080/"
        },
        "id": "XvHJwpeEH0f6",
        "outputId": "0dfb2adc-bc94-44f8-93de-99564e271ae0"
      },
      "execution_count": null,
      "outputs": [
        {
          "output_type": "execute_result",
          "data": {
            "text/plain": [
              "brand\n",
              " Yeezy       219.87\n",
              "Off-White    179.38\n",
              "Name: retail_price, dtype: float64"
            ]
          },
          "metadata": {},
          "execution_count": 21
        }
      ]
    },
    {
      "cell_type": "code",
      "source": [
        "Yeezy = 219.87\n",
        "OffWhite = 179.38\n",
        "x = Yeezy - OffWhite \n",
        "y = np.around((x / OffWhite)*100,2)\n",
        "print(\"La diferencia de precios de salida de Yeezy supera a Off-White en \", y ,\"%\")"
      ],
      "metadata": {
        "colab": {
          "base_uri": "https://localhost:8080/"
        },
        "id": "s3-W9dnfKsp7",
        "outputId": "5448b1eb-0b07-4a9c-9ef3-4f507d22f0ed"
      },
      "execution_count": null,
      "outputs": [
        {
          "output_type": "stream",
          "name": "stdout",
          "text": [
            "La diferencia de precios de salida de Yeezy supera a Off-White en  22.57 %\n"
          ]
        }
      ]
    },
    {
      "cell_type": "code",
      "source": [
        "round(stockx_df.groupby([\"brand\"])[\"sale_price\"].mean(),2)"
      ],
      "metadata": {
        "colab": {
          "base_uri": "https://localhost:8080/"
        },
        "id": "z9EIOD36MhUw",
        "outputId": "428bc44b-1ddc-43c1-8cf2-c246ed799b8a"
      },
      "execution_count": null,
      "outputs": [
        {
          "output_type": "execute_result",
          "data": {
            "text/plain": [
              "brand\n",
              " Yeezy       360.03\n",
              "Off-White    671.48\n",
              "Name: sale_price, dtype: float64"
            ]
          },
          "metadata": {},
          "execution_count": 23
        }
      ]
    },
    {
      "cell_type": "code",
      "source": [
        "Yeezys = 360.03\n",
        "OffWhites = 671.48\n",
        "x1 =  OffWhites - Yeezys\n",
        "y1 = np.around((x1 / Yeezys )*100,2)\n",
        "print(\"La diferencia de precios de salida de Yeezy supera a Off-White en \", y1 ,\"%\")"
      ],
      "metadata": {
        "colab": {
          "base_uri": "https://localhost:8080/"
        },
        "id": "pg3jO2WcMlhA",
        "outputId": "abd839bf-f9d5-4217-9592-efb3f040d4e8"
      },
      "execution_count": null,
      "outputs": [
        {
          "output_type": "stream",
          "name": "stdout",
          "text": [
            "La diferencia de precios de salida de Yeezy supera a Off-White en  86.51 %\n"
          ]
        }
      ]
    },
    {
      "cell_type": "code",
      "source": [
        "OffWhites/OffWhite"
      ],
      "metadata": {
        "colab": {
          "base_uri": "https://localhost:8080/"
        },
        "id": "DBkyQldJlTcq",
        "outputId": "c7de887d-2635-4b46-f692-23ea76156db6"
      },
      "execution_count": null,
      "outputs": [
        {
          "output_type": "execute_result",
          "data": {
            "text/plain": [
              "3.743338164789832"
            ]
          },
          "metadata": {},
          "execution_count": 106
        }
      ]
    },
    {
      "cell_type": "markdown",
      "source": [
        "##### Dentro de esta exploracion preliminar encontramos que la marca Yezzy tiene un precio de salida mayor al de Off-White, con un 22.57% de diferencia, sin embargo, el publico paga mas en reventa por un par Off-white con una diferencia del 86.51%"
      ],
      "metadata": {
        "id": "5GtH1BzjNCLa"
      }
    },
    {
      "cell_type": "markdown",
      "source": [
        "### Graficos de las primeras impresiones "
      ],
      "metadata": {
        "id": "oIT2m0PoPBcr"
      }
    },
    {
      "cell_type": "code",
      "source": [
        "round(stockx_df.groupby([\"brand\"])[\"retail_price\"].mean(),2).plot(kind = \"bar\", colormap = \"inferno\")"
      ],
      "metadata": {
        "colab": {
          "base_uri": "https://localhost:8080/"
        },
        "id": "SVsyb2AVOxfq",
        "outputId": "d28483b1-de93-4717-9cff-a1e8901a232a"
      },
      "execution_count": null,
      "outputs": [
        {
          "output_type": "execute_result",
          "data": {
            "text/plain": [
              "<matplotlib.axes._subplots.AxesSubplot at 0x7f34d4575d90>"
            ]
          },
          "metadata": {},
          "execution_count": 25
        },
        {
          "output_type": "display_data",
          "data": {
            "text/plain": [
              "<Figure size 432x288 with 1 Axes>"
            ],
            "image/png": "[encoded data removed]"
          },
          "metadata": {
            "needs_background": "light"
          }
        }
      ]
    },
    {
      "cell_type": "code",
      "source": [
        "round(stockx_df.groupby([\"brand\"])[\"sale_price\"].mean(),2).plot(kind = \"bar\", colormap = \"inferno\")"
      ],
      "metadata": {
        "colab": {
          "base_uri": "https://localhost:8080/"
        },
        "id": "Lsek-B7n7exi",
        "outputId": "f5c7d972-682c-4ba6-847b-1a1d470edb51"
      },
      "execution_count": null,
      "outputs": [
        {
          "output_type": "execute_result",
          "data": {
            "text/plain": [
              "<matplotlib.axes._subplots.AxesSubplot at 0x7f34d4625c90>"
            ]
          },
          "metadata": {},
          "execution_count": 26
        },
        {
          "output_type": "display_data",
          "data": {
            "text/plain": [
              "<Figure size 432x288 with 1 Axes>"
            ],
            "image/png": "[encoded data removed]"
          },
          "metadata": {
            "needs_background": "light"
          }
        }
      ]
    },
    {
      "cell_type": "markdown",
      "source": [
        "## Manipulación de la base "
      ],
      "metadata": {
        "id": "8reZ36exDDuj"
      }
    },
    {
      "cell_type": "code",
      "source": [
        "#separo mis base la columna snaker name \n",
        "stockx_df1 = stockx_df.copy()\n",
        "stockx_df1['sneaker_name'] = stockx_df1['sneaker_name'].str.upper() #convierto todos los nombres de mi columna en mayusculas \n"
      ],
      "metadata": {
        "id": "dT8FqjVX7z9E"
      },
      "execution_count": null,
      "outputs": []
    },
    {
      "cell_type": "code",
      "source": [
        "stockx_df1.head(5)"
      ],
      "metadata": {
        "colab": {
          "base_uri": "https://localhost:8080/",
          "height": 206
        },
        "id": "k-YLxkVxMqPI",
        "outputId": "b9c2e8cb-bd72-4bfc-fed6-976553415cca"
      },
      "execution_count": null,
      "outputs": [
        {
          "output_type": "execute_result",
          "data": {
            "text/plain": [
              "  order_date   brand                                   sneaker_name  \\\n",
              "0 2017-09-01   Yeezy           ADIDAS-YEEZY-BOOST-350-LOW-V2-BELUGA   \n",
              "1 2017-09-01   Yeezy    ADIDAS-YEEZY-BOOST-350-V2-CORE-BLACK-COPPER   \n",
              "2 2017-09-01   Yeezy     ADIDAS-YEEZY-BOOST-350-V2-CORE-BLACK-GREEN   \n",
              "3 2017-09-01   Yeezy       ADIDAS-YEEZY-BOOST-350-V2-CORE-BLACK-RED   \n",
              "4 2017-09-01   Yeezy  ADIDAS-YEEZY-BOOST-350-V2-CORE-BLACK-RED-2017   \n",
              "\n",
              "   sale_price  retail_price release_date  shoe_size  buyer_region  \n",
              "0        1097           220   2016-09-24       11.0    California  \n",
              "1         685           220   2016-11-23       11.0    California  \n",
              "2         690           220   2016-11-23       11.0    California  \n",
              "3        1075           220   2016-11-23       11.5      Kentucky  \n",
              "4         828           220   2017-02-11       11.0  Rhode Island  "
            ],
            "text/html": [
              "\n",
              "  <div id=\"df-a2f9a2cf-5845-4e74-9597-5fdeaf0d3fc1\">\n",
              "    <div class=\"colab-df-container\">\n",
              "      <div>\n",
              "<style scoped>\n",
              "    .dataframe tbody tr th:only-of-type {\n",
              "        vertical-align: middle;\n",
              "    }\n",
              "\n",
              "    .dataframe tbody tr th {\n",
              "        vertical-align: top;\n",
              "    }\n",
              "\n",
              "    .dataframe thead th {\n",
              "        text-align: right;\n",
              "    }\n",
              "</style>\n",
              "<table border=\"1\" class=\"dataframe\">\n",
              "  <thead>\n",
              "    <tr style=\"text-align: right;\">\n",
              "      <th></th>\n",
              "      <th>order_date</th>\n",
              "      <th>brand</th>\n",
              "      <th>sneaker_name</th>\n",
              "      <th>sale_price</th>\n",
              "      <th>retail_price</th>\n",
              "      <th>release_date</th>\n",
              "      <th>shoe_size</th>\n",
              "      <th>buyer_region</th>\n",
              "    </tr>\n",
              "  </thead>\n",
              "  <tbody>\n",
              "    <tr>\n",
              "      <th>0</th>\n",
              "      <td>2017-09-01</td>\n",
              "      <td>Yeezy</td>\n",
              "      <td>ADIDAS-YEEZY-BOOST-350-LOW-V2-BELUGA</td>\n",
              "      <td>1097</td>\n",
              "      <td>220</td>\n",
              "      <td>2016-09-24</td>\n",
              "      <td>11.0</td>\n",
              "      <td>California</td>\n",
              "    </tr>\n",
              "    <tr>\n",
              "      <th>1</th>\n",
              "      <td>2017-09-01</td>\n",
              "      <td>Yeezy</td>\n",
              "      <td>ADIDAS-YEEZY-BOOST-350-V2-CORE-BLACK-COPPER</td>\n",
              "      <td>685</td>\n",
              "      <td>220</td>\n",
              "      <td>2016-11-23</td>\n",
              "      <td>11.0</td>\n",
              "      <td>California</td>\n",
              "    </tr>\n",
              "    <tr>\n",
              "      <th>2</th>\n",
              "      <td>2017-09-01</td>\n",
              "      <td>Yeezy</td>\n",
              "      <td>ADIDAS-YEEZY-BOOST-350-V2-CORE-BLACK-GREEN</td>\n",
              "      <td>690</td>\n",
              "      <td>220</td>\n",
              "      <td>2016-11-23</td>\n",
              "      <td>11.0</td>\n",
              "      <td>California</td>\n",
              "    </tr>\n",
              "    <tr>\n",
              "      <th>3</th>\n",
              "      <td>2017-09-01</td>\n",
              "      <td>Yeezy</td>\n",
              "      <td>ADIDAS-YEEZY-BOOST-350-V2-CORE-BLACK-RED</td>\n",
              "      <td>1075</td>\n",
              "      <td>220</td>\n",
              "      <td>2016-11-23</td>\n",
              "      <td>11.5</td>\n",
              "      <td>Kentucky</td>\n",
              "    </tr>\n",
              "    <tr>\n",
              "      <th>4</th>\n",
              "      <td>2017-09-01</td>\n",
              "      <td>Yeezy</td>\n",
              "      <td>ADIDAS-YEEZY-BOOST-350-V2-CORE-BLACK-RED-2017</td>\n",
              "      <td>828</td>\n",
              "      <td>220</td>\n",
              "      <td>2017-02-11</td>\n",
              "      <td>11.0</td>\n",
              "      <td>Rhode Island</td>\n",
              "    </tr>\n",
              "  </tbody>\n",
              "</table>\n",
              "</div>\n",
              "      <button class=\"colab-df-convert\" onclick=\"convertToInteractive('df-a2f9a2cf-5845-4e74-9597-5fdeaf0d3fc1')\"\n",
              "              title=\"Convert this dataframe to an interactive table.\"\n",
              "              style=\"display:none;\">\n",
              "        \n",
              "  <svg xmlns=\"http://www.w3.org/2000/svg\" height=\"24px\"viewBox=\"0 0 24 24\"\n",
              "       width=\"24px\">\n",
              "    <path d=\"M0 0h24v24H0V0z\" fill=\"none\"/>\n",
              "    <path d=\"M18.56 5.44l.94 2.06.94-2.06 2.06-.94-2.06-.94-.94-2.06-.94 2.06-2.06.94zm-11 1L8.5 8.5l.94-2.06 2.06-.94-2.06-.94L8.5 2.5l-.94 2.06-2.06.94zm10 10l.94 2.06.94-2.06 2.06-.94-2.06-.94-.94-2.06-.94 2.06-2.06.94z\"/><path d=\"M17.41 7.96l-1.37-1.37c-.4-.4-.92-.59-1.43-.59-.52 0-1.04.2-1.43.59L10.3 9.45l-7.72 7.72c-.78.78-.78 2.05 0 2.83L4 21.41c.39.39.9.59 1.41.59.51 0 1.02-.2 1.41-.59l7.78-7.78 2.81-2.81c.8-.78.8-2.07 0-2.86zM5.41 20L4 18.59l7.72-7.72 1.47 1.35L5.41 20z\"/>\n",
              "  </svg>\n",
              "      </button>\n",
              "      \n",
              "  <style>\n",
              "    .colab-df-container {\n",
              "      display:flex;\n",
              "      flex-wrap:wrap;\n",
              "      gap: 12px;\n",
              "    }\n",
              "\n",
              "    .colab-df-convert {\n",
              "      background-color: #E8F0FE;\n",
              "      border: none;\n",
              "      border-radius: 50%;\n",
              "      cursor: pointer;\n",
              "      display: none;\n",
              "      fill: #1967D2;\n",
              "      height: 32px;\n",
              "      padding: 0 0 0 0;\n",
              "      width: 32px;\n",
              "    }\n",
              "\n",
              "    .colab-df-convert:hover {\n",
              "      background-color: #E2EBFA;\n",
              "      box-shadow: 0px 1px 2px rgba(60, 64, 67, 0.3), 0px 1px 3px 1px rgba(60, 64, 67, 0.15);\n",
              "      fill: #174EA6;\n",
              "    }\n",
              "\n",
              "    [theme=dark] .colab-df-convert {\n",
              "      background-color: #3B4455;\n",
              "      fill: #D2E3FC;\n",
              "    }\n",
              "\n",
              "    [theme=dark] .colab-df-convert:hover {\n",
              "      background-color: #434B5C;\n",
              "      box-shadow: 0px 1px 3px 1px rgba(0, 0, 0, 0.15);\n",
              "      filter: drop-shadow(0px 1px 2px rgba(0, 0, 0, 0.3));\n",
              "      fill: #FFFFFF;\n",
              "    }\n",
              "  </style>\n",
              "\n",
              "      <script>\n",
              "        const buttonEl =\n",
              "          document.querySelector('#df-a2f9a2cf-5845-4e74-9597-5fdeaf0d3fc1 button.colab-df-convert');\n",
              "        buttonEl.style.display =\n",
              "          google.colab.kernel.accessAllowed ? 'block' : 'none';\n",
              "\n",
              "        async function convertToInteractive(key) {\n",
              "          const element = document.querySelector('#df-a2f9a2cf-5845-4e74-9597-5fdeaf0d3fc1');\n",
              "          const dataTable =\n",
              "            await google.colab.kernel.invokeFunction('convertToInteractive',\n",
              "                                                     [key], {});\n",
              "          if (!dataTable) return;\n",
              "\n",
              "          const docLinkHtml = 'Like what you see? Visit the ' +\n",
              "            '<a target=\"_blank\" href=https://colab.research.google.com/notebooks/data_table.ipynb>data table notebook</a>'\n",
              "            + ' to learn more about interactive tables.';\n",
              "          element.innerHTML = '';\n",
              "          dataTable['output_type'] = 'display_data';\n",
              "          await google.colab.output.renderOutput(dataTable, element);\n",
              "          const docLink = document.createElement('div');\n",
              "          docLink.innerHTML = docLinkHtml;\n",
              "          element.appendChild(docLink);\n",
              "        }\n",
              "      </script>\n",
              "    </div>\n",
              "  </div>\n",
              "  "
            ]
          },
          "metadata": {},
          "execution_count": 28
        }
      ]
    },
    {
      "cell_type": "code",
      "source": [
        "stockx_df1 = stockx_df1.sneaker_name.apply(lambda x : pd.Series (str (x).split('-')))"
      ],
      "metadata": {
        "id": "6tqpOdoTOyw9"
      },
      "execution_count": null,
      "outputs": []
    },
    {
      "cell_type": "code",
      "source": [
        "stockx_df1"
      ],
      "metadata": {
        "colab": {
          "base_uri": "https://localhost:8080/",
          "height": 423
        },
        "id": "gPa0H5p9d1R7",
        "outputId": "b63424a9-2c3e-4f95-80b2-8a0758b9d562"
      },
      "execution_count": null,
      "outputs": [
        {
          "output_type": "execute_result",
          "data": {
            "text/plain": [
              "            0      1      2    3    4       5           6       7     8    9\n",
              "0      ADIDAS  YEEZY  BOOST  350  LOW      V2      BELUGA     NaN   NaN  NaN\n",
              "1      ADIDAS  YEEZY  BOOST  350   V2    CORE       BLACK  COPPER   NaN  NaN\n",
              "2      ADIDAS  YEEZY  BOOST  350   V2    CORE       BLACK   GREEN   NaN  NaN\n",
              "3      ADIDAS  YEEZY  BOOST  350   V2    CORE       BLACK     RED   NaN  NaN\n",
              "4      ADIDAS  YEEZY  BOOST  350   V2    CORE       BLACK     RED  2017  NaN\n",
              "...       ...    ...    ...  ...  ...     ...         ...     ...   ...  ...\n",
              "99951  ADIDAS  YEEZY  BOOST  350   V2  STATIC  REFLECTIVE     NaN   NaN  NaN\n",
              "99952  ADIDAS  YEEZY  BOOST  350   V2  STATIC  REFLECTIVE     NaN   NaN  NaN\n",
              "99953  ADIDAS  YEEZY  BOOST  350   V2  STATIC  REFLECTIVE     NaN   NaN  NaN\n",
              "99954  ADIDAS  YEEZY  BOOST  350   V2  STATIC  REFLECTIVE     NaN   NaN  NaN\n",
              "99955  ADIDAS  YEEZY  BOOST  350   V2  STATIC  REFLECTIVE     NaN   NaN  NaN\n",
              "\n",
              "[99956 rows x 10 columns]"
            ],
            "text/html": [
              "\n",
              "  <div id=\"df-e14f295a-58d0-4530-843b-f8a92d4b643a\">\n",
              "    <div class=\"colab-df-container\">\n",
              "      <div>\n",
              "<style scoped>\n",
              "    .dataframe tbody tr th:only-of-type {\n",
              "        vertical-align: middle;\n",
              "    }\n",
              "\n",
              "    .dataframe tbody tr th {\n",
              "        vertical-align: top;\n",
              "    }\n",
              "\n",
              "    .dataframe thead th {\n",
              "        text-align: right;\n",
              "    }\n",
              "</style>\n",
              "<table border=\"1\" class=\"dataframe\">\n",
              "  <thead>\n",
              "    <tr style=\"text-align: right;\">\n",
              "      <th></th>\n",
              "      <th>0</th>\n",
              "      <th>1</th>\n",
              "      <th>2</th>\n",
              "      <th>3</th>\n",
              "      <th>4</th>\n",
              "      <th>5</th>\n",
              "      <th>6</th>\n",
              "      <th>7</th>\n",
              "      <th>8</th>\n",
              "      <th>9</th>\n",
              "    </tr>\n",
              "  </thead>\n",
              "  <tbody>\n",
              "    <tr>\n",
              "      <th>0</th>\n",
              "      <td>ADIDAS</td>\n",
              "      <td>YEEZY</td>\n",
              "      <td>BOOST</td>\n",
              "      <td>350</td>\n",
              "      <td>LOW</td>\n",
              "      <td>V2</td>\n",
              "      <td>BELUGA</td>\n",
              "      <td>NaN</td>\n",
              "      <td>NaN</td>\n",
              "      <td>NaN</td>\n",
              "    </tr>\n",
              "    <tr>\n",
              "      <th>1</th>\n",
              "      <td>ADIDAS</td>\n",
              "      <td>YEEZY</td>\n",
              "      <td>BOOST</td>\n",
              "      <td>350</td>\n",
              "      <td>V2</td>\n",
              "      <td>CORE</td>\n",
              "      <td>BLACK</td>\n",
              "      <td>COPPER</td>\n",
              "      <td>NaN</td>\n",
              "      <td>NaN</td>\n",
              "    </tr>\n",
              "    <tr>\n",
              "      <th>2</th>\n",
              "      <td>ADIDAS</td>\n",
              "      <td>YEEZY</td>\n",
              "      <td>BOOST</td>\n",
              "      <td>350</td>\n",
              "      <td>V2</td>\n",
              "      <td>CORE</td>\n",
              "      <td>BLACK</td>\n",
              "      <td>GREEN</td>\n",
              "      <td>NaN</td>\n",
              "      <td>NaN</td>\n",
              "    </tr>\n",
              "    <tr>\n",
              "      <th>3</th>\n",
              "      <td>ADIDAS</td>\n",
              "      <td>YEEZY</td>\n",
              "      <td>BOOST</td>\n",
              "      <td>350</td>\n",
              "      <td>V2</td>\n",
              "      <td>CORE</td>\n",
              "      <td>BLACK</td>\n",
              "      <td>RED</td>\n",
              "      <td>NaN</td>\n",
              "      <td>NaN</td>\n",
              "    </tr>\n",
              "    <tr>\n",
              "      <th>4</th>\n",
              "      <td>ADIDAS</td>\n",
              "      <td>YEEZY</td>\n",
              "      <td>BOOST</td>\n",
              "      <td>350</td>\n",
              "      <td>V2</td>\n",
              "      <td>CORE</td>\n",
              "      <td>BLACK</td>\n",
              "      <td>RED</td>\n",
              "      <td>2017</td>\n",
              "      <td>NaN</td>\n",
              "    </tr>\n",
              "    <tr>\n",
              "      <th>...</th>\n",
              "      <td>...</td>\n",
              "      <td>...</td>\n",
              "      <td>...</td>\n",
              "      <td>...</td>\n",
              "      <td>...</td>\n",
              "      <td>...</td>\n",
              "      <td>...</td>\n",
              "      <td>...</td>\n",
              "      <td>...</td>\n",
              "      <td>...</td>\n",
              "    </tr>\n",
              "    <tr>\n",
              "      <th>99951</th>\n",
              "      <td>ADIDAS</td>\n",
              "      <td>YEEZY</td>\n",
              "      <td>BOOST</td>\n",
              "      <td>350</td>\n",
              "      <td>V2</td>\n",
              "      <td>STATIC</td>\n",
              "      <td>REFLECTIVE</td>\n",
              "      <td>NaN</td>\n",
              "      <td>NaN</td>\n",
              "      <td>NaN</td>\n",
              "    </tr>\n",
              "    <tr>\n",
              "      <th>99952</th>\n",
              "      <td>ADIDAS</td>\n",
              "      <td>YEEZY</td>\n",
              "      <td>BOOST</td>\n",
              "      <td>350</td>\n",
              "      <td>V2</td>\n",
              "      <td>STATIC</td>\n",
              "      <td>REFLECTIVE</td>\n",
              "      <td>NaN</td>\n",
              "      <td>NaN</td>\n",
              "      <td>NaN</td>\n",
              "    </tr>\n",
              "    <tr>\n",
              "      <th>99953</th>\n",
              "      <td>ADIDAS</td>\n",
              "      <td>YEEZY</td>\n",
              "      <td>BOOST</td>\n",
              "      <td>350</td>\n",
              "      <td>V2</td>\n",
              "      <td>STATIC</td>\n",
              "      <td>REFLECTIVE</td>\n",
              "      <td>NaN</td>\n",
              "      <td>NaN</td>\n",
              "      <td>NaN</td>\n",
              "    </tr>\n",
              "    <tr>\n",
              "      <th>99954</th>\n",
              "      <td>ADIDAS</td>\n",
              "      <td>YEEZY</td>\n",
              "      <td>BOOST</td>\n",
              "      <td>350</td>\n",
              "      <td>V2</td>\n",
              "      <td>STATIC</td>\n",
              "      <td>REFLECTIVE</td>\n",
              "      <td>NaN</td>\n",
              "      <td>NaN</td>\n",
              "      <td>NaN</td>\n",
              "    </tr>\n",
              "    <tr>\n",
              "      <th>99955</th>\n",
              "      <td>ADIDAS</td>\n",
              "      <td>YEEZY</td>\n",
              "      <td>BOOST</td>\n",
              "      <td>350</td>\n",
              "      <td>V2</td>\n",
              "      <td>STATIC</td>\n",
              "      <td>REFLECTIVE</td>\n",
              "      <td>NaN</td>\n",
              "      <td>NaN</td>\n",
              "      <td>NaN</td>\n",
              "    </tr>\n",
              "  </tbody>\n",
              "</table>\n",
              "<p>99956 rows × 10 columns</p>\n",
              "</div>\n",
              "      <button class=\"colab-df-convert\" onclick=\"convertToInteractive('df-e14f295a-58d0-4530-843b-f8a92d4b643a')\"\n",
              "              title=\"Convert this dataframe to an interactive table.\"\n",
              "              style=\"display:none;\">\n",
              "        \n",
              "  <svg xmlns=\"http://www.w3.org/2000/svg\" height=\"24px\"viewBox=\"0 0 24 24\"\n",
              "       width=\"24px\">\n",
              "    <path d=\"M0 0h24v24H0V0z\" fill=\"none\"/>\n",
              "    <path d=\"M18.56 5.44l.94 2.06.94-2.06 2.06-.94-2.06-.94-.94-2.06-.94 2.06-2.06.94zm-11 1L8.5 8.5l.94-2.06 2.06-.94-2.06-.94L8.5 2.5l-.94 2.06-2.06.94zm10 10l.94 2.06.94-2.06 2.06-.94-2.06-.94-.94-2.06-.94 2.06-2.06.94z\"/><path d=\"M17.41 7.96l-1.37-1.37c-.4-.4-.92-.59-1.43-.59-.52 0-1.04.2-1.43.59L10.3 9.45l-7.72 7.72c-.78.78-.78 2.05 0 2.83L4 21.41c.39.39.9.59 1.41.59.51 0 1.02-.2 1.41-.59l7.78-7.78 2.81-2.81c.8-.78.8-2.07 0-2.86zM5.41 20L4 18.59l7.72-7.72 1.47 1.35L5.41 20z\"/>\n",
              "  </svg>\n",
              "      </button>\n",
              "      \n",
              "  <style>\n",
              "    .colab-df-container {\n",
              "      display:flex;\n",
              "      flex-wrap:wrap;\n",
              "      gap: 12px;\n",
              "    }\n",
              "\n",
              "    .colab-df-convert {\n",
              "      background-color: #E8F0FE;\n",
              "      border: none;\n",
              "      border-radius: 50%;\n",
              "      cursor: pointer;\n",
              "      display: none;\n",
              "      fill: #1967D2;\n",
              "      height: 32px;\n",
              "      padding: 0 0 0 0;\n",
              "      width: 32px;\n",
              "    }\n",
              "\n",
              "    .colab-df-convert:hover {\n",
              "      background-color: #E2EBFA;\n",
              "      box-shadow: 0px 1px 2px rgba(60, 64, 67, 0.3), 0px 1px 3px 1px rgba(60, 64, 67, 0.15);\n",
              "      fill: #174EA6;\n",
              "    }\n",
              "\n",
              "    [theme=dark] .colab-df-convert {\n",
              "      background-color: #3B4455;\n",
              "      fill: #D2E3FC;\n",
              "    }\n",
              "\n",
              "    [theme=dark] .colab-df-convert:hover {\n",
              "      background-color: #434B5C;\n",
              "      box-shadow: 0px 1px 3px 1px rgba(0, 0, 0, 0.15);\n",
              "      filter: drop-shadow(0px 1px 2px rgba(0, 0, 0, 0.3));\n",
              "      fill: #FFFFFF;\n",
              "    }\n",
              "  </style>\n",
              "\n",
              "      <script>\n",
              "        const buttonEl =\n",
              "          document.querySelector('#df-e14f295a-58d0-4530-843b-f8a92d4b643a button.colab-df-convert');\n",
              "        buttonEl.style.display =\n",
              "          google.colab.kernel.accessAllowed ? 'block' : 'none';\n",
              "\n",
              "        async function convertToInteractive(key) {\n",
              "          const element = document.querySelector('#df-e14f295a-58d0-4530-843b-f8a92d4b643a');\n",
              "          const dataTable =\n",
              "            await google.colab.kernel.invokeFunction('convertToInteractive',\n",
              "                                                     [key], {});\n",
              "          if (!dataTable) return;\n",
              "\n",
              "          const docLinkHtml = 'Like what you see? Visit the ' +\n",
              "            '<a target=\"_blank\" href=https://colab.research.google.com/notebooks/data_table.ipynb>data table notebook</a>'\n",
              "            + ' to learn more about interactive tables.';\n",
              "          element.innerHTML = '';\n",
              "          dataTable['output_type'] = 'display_data';\n",
              "          await google.colab.output.renderOutput(dataTable, element);\n",
              "          const docLink = document.createElement('div');\n",
              "          docLink.innerHTML = docLinkHtml;\n",
              "          element.appendChild(docLink);\n",
              "        }\n",
              "      </script>\n",
              "    </div>\n",
              "  </div>\n",
              "  "
            ]
          },
          "metadata": {},
          "execution_count": 30
        }
      ]
    },
    {
      "cell_type": "code",
      "source": [
        "stockx_df1.info()"
      ],
      "metadata": {
        "colab": {
          "base_uri": "https://localhost:8080/"
        },
        "id": "LZqtTEDNfuSf",
        "outputId": "f846ecc1-9b7b-4ed1-f7e4-6962ac55aa61"
      },
      "execution_count": null,
      "outputs": [
        {
          "output_type": "stream",
          "name": "stdout",
          "text": [
            "<class 'pandas.core.frame.DataFrame'>\n",
            "RangeIndex: 99956 entries, 0 to 99955\n",
            "Data columns (total 10 columns):\n",
            " #   Column  Non-Null Count  Dtype \n",
            "---  ------  --------------  ----- \n",
            " 0   0       99956 non-null  object\n",
            " 1   1       99956 non-null  object\n",
            " 2   2       99956 non-null  object\n",
            " 3   3       99956 non-null  object\n",
            " 4   4       99956 non-null  object\n",
            " 5   5       97899 non-null  object\n",
            " 6   6       60228 non-null  object\n",
            " 7   7       18053 non-null  object\n",
            " 8   8       6811 non-null   object\n",
            " 9   9       31 non-null     object\n",
            "dtypes: object(10)\n",
            "memory usage: 7.6+ MB\n"
          ]
        }
      ]
    },
    {
      "cell_type": "code",
      "source": [
        "stockx_df1[0].unique()"
      ],
      "metadata": {
        "colab": {
          "base_uri": "https://localhost:8080/"
        },
        "id": "pSLQZpDC1iup",
        "outputId": "bed62daa-4e7c-4e86-c18e-3c428ee1dab2"
      },
      "execution_count": null,
      "outputs": [
        {
          "output_type": "execute_result",
          "data": {
            "text/plain": [
              "array(['ADIDAS', 'NIKE', 'AIR'], dtype=object)"
            ]
          },
          "metadata": {},
          "execution_count": 32
        }
      ]
    },
    {
      "cell_type": "code",
      "source": [
        "stockx_df1[1].unique()"
      ],
      "metadata": {
        "colab": {
          "base_uri": "https://localhost:8080/"
        },
        "id": "QBuewYzj2ggI",
        "outputId": "5f85bc30-c388-4c9b-9a0b-97f7f98fdabd"
      },
      "execution_count": null,
      "outputs": [
        {
          "output_type": "execute_result",
          "data": {
            "text/plain": [
              "array(['YEEZY', 'AIR', 'JORDAN', 'BLAZER', 'REACT', 'ZOOM'], dtype=object)"
            ]
          },
          "metadata": {},
          "execution_count": 33
        }
      ]
    },
    {
      "cell_type": "code",
      "source": [
        "stockx_df1.rename(columns={0:\"main_brand\", 1:\"label\", 3:\"silhouette\",4: \"colorway\"})\n"
      ],
      "metadata": {
        "id": "stH5izilIY3B",
        "colab": {
          "base_uri": "https://localhost:8080/",
          "height": 423
        },
        "outputId": "15b81d07-93f0-42bb-8b95-71c2cbf66ee6"
      },
      "execution_count": null,
      "outputs": [
        {
          "output_type": "execute_result",
          "data": {
            "text/plain": [
              "      main_brand  label      2 silhouette colorway       5           6  \\\n",
              "0         ADIDAS  YEEZY  BOOST        350      LOW      V2      BELUGA   \n",
              "1         ADIDAS  YEEZY  BOOST        350       V2    CORE       BLACK   \n",
              "2         ADIDAS  YEEZY  BOOST        350       V2    CORE       BLACK   \n",
              "3         ADIDAS  YEEZY  BOOST        350       V2    CORE       BLACK   \n",
              "4         ADIDAS  YEEZY  BOOST        350       V2    CORE       BLACK   \n",
              "...          ...    ...    ...        ...      ...     ...         ...   \n",
              "99951     ADIDAS  YEEZY  BOOST        350       V2  STATIC  REFLECTIVE   \n",
              "99952     ADIDAS  YEEZY  BOOST        350       V2  STATIC  REFLECTIVE   \n",
              "99953     ADIDAS  YEEZY  BOOST        350       V2  STATIC  REFLECTIVE   \n",
              "99954     ADIDAS  YEEZY  BOOST        350       V2  STATIC  REFLECTIVE   \n",
              "99955     ADIDAS  YEEZY  BOOST        350       V2  STATIC  REFLECTIVE   \n",
              "\n",
              "            7     8    9  \n",
              "0         NaN   NaN  NaN  \n",
              "1      COPPER   NaN  NaN  \n",
              "2       GREEN   NaN  NaN  \n",
              "3         RED   NaN  NaN  \n",
              "4         RED  2017  NaN  \n",
              "...       ...   ...  ...  \n",
              "99951     NaN   NaN  NaN  \n",
              "99952     NaN   NaN  NaN  \n",
              "99953     NaN   NaN  NaN  \n",
              "99954     NaN   NaN  NaN  \n",
              "99955     NaN   NaN  NaN  \n",
              "\n",
              "[99956 rows x 10 columns]"
            ],
            "text/html": [
              "\n",
              "  <div id=\"df-f7f93d45-98de-4cb6-ac09-1e9897fc0afd\">\n",
              "    <div class=\"colab-df-container\">\n",
              "      <div>\n",
              "<style scoped>\n",
              "    .dataframe tbody tr th:only-of-type {\n",
              "        vertical-align: middle;\n",
              "    }\n",
              "\n",
              "    .dataframe tbody tr th {\n",
              "        vertical-align: top;\n",
              "    }\n",
              "\n",
              "    .dataframe thead th {\n",
              "        text-align: right;\n",
              "    }\n",
              "</style>\n",
              "<table border=\"1\" class=\"dataframe\">\n",
              "  <thead>\n",
              "    <tr style=\"text-align: right;\">\n",
              "      <th></th>\n",
              "      <th>main_brand</th>\n",
              "      <th>label</th>\n",
              "      <th>2</th>\n",
              "      <th>silhouette</th>\n",
              "      <th>colorway</th>\n",
              "      <th>5</th>\n",
              "      <th>6</th>\n",
              "      <th>7</th>\n",
              "      <th>8</th>\n",
              "      <th>9</th>\n",
              "    </tr>\n",
              "  </thead>\n",
              "  <tbody>\n",
              "    <tr>\n",
              "      <th>0</th>\n",
              "      <td>ADIDAS</td>\n",
              "      <td>YEEZY</td>\n",
              "      <td>BOOST</td>\n",
              "      <td>350</td>\n",
              "      <td>LOW</td>\n",
              "      <td>V2</td>\n",
              "      <td>BELUGA</td>\n",
              "      <td>NaN</td>\n",
              "      <td>NaN</td>\n",
              "      <td>NaN</td>\n",
              "    </tr>\n",
              "    <tr>\n",
              "      <th>1</th>\n",
              "      <td>ADIDAS</td>\n",
              "      <td>YEEZY</td>\n",
              "      <td>BOOST</td>\n",
              "      <td>350</td>\n",
              "      <td>V2</td>\n",
              "      <td>CORE</td>\n",
              "      <td>BLACK</td>\n",
              "      <td>COPPER</td>\n",
              "      <td>NaN</td>\n",
              "      <td>NaN</td>\n",
              "    </tr>\n",
              "    <tr>\n",
              "      <th>2</th>\n",
              "      <td>ADIDAS</td>\n",
              "      <td>YEEZY</td>\n",
              "      <td>BOOST</td>\n",
              "      <td>350</td>\n",
              "      <td>V2</td>\n",
              "      <td>CORE</td>\n",
              "      <td>BLACK</td>\n",
              "      <td>GREEN</td>\n",
              "      <td>NaN</td>\n",
              "      <td>NaN</td>\n",
              "    </tr>\n",
              "    <tr>\n",
              "      <th>3</th>\n",
              "      <td>ADIDAS</td>\n",
              "      <td>YEEZY</td>\n",
              "      <td>BOOST</td>\n",
              "      <td>350</td>\n",
              "      <td>V2</td>\n",
              "      <td>CORE</td>\n",
              "      <td>BLACK</td>\n",
              "      <td>RED</td>\n",
              "      <td>NaN</td>\n",
              "      <td>NaN</td>\n",
              "    </tr>\n",
              "    <tr>\n",
              "      <th>4</th>\n",
              "      <td>ADIDAS</td>\n",
              "      <td>YEEZY</td>\n",
              "      <td>BOOST</td>\n",
              "      <td>350</td>\n",
              "      <td>V2</td>\n",
              "      <td>CORE</td>\n",
              "      <td>BLACK</td>\n",
              "      <td>RED</td>\n",
              "      <td>2017</td>\n",
              "      <td>NaN</td>\n",
              "    </tr>\n",
              "    <tr>\n",
              "      <th>...</th>\n",
              "      <td>...</td>\n",
              "      <td>...</td>\n",
              "      <td>...</td>\n",
              "      <td>...</td>\n",
              "      <td>...</td>\n",
              "      <td>...</td>\n",
              "      <td>...</td>\n",
              "      <td>...</td>\n",
              "      <td>...</td>\n",
              "      <td>...</td>\n",
              "    </tr>\n",
              "    <tr>\n",
              "      <th>99951</th>\n",
              "      <td>ADIDAS</td>\n",
              "      <td>YEEZY</td>\n",
              "      <td>BOOST</td>\n",
              "      <td>350</td>\n",
              "      <td>V2</td>\n",
              "      <td>STATIC</td>\n",
              "      <td>REFLECTIVE</td>\n",
              "      <td>NaN</td>\n",
              "      <td>NaN</td>\n",
              "      <td>NaN</td>\n",
              "    </tr>\n",
              "    <tr>\n",
              "      <th>99952</th>\n",
              "      <td>ADIDAS</td>\n",
              "      <td>YEEZY</td>\n",
              "      <td>BOOST</td>\n",
              "      <td>350</td>\n",
              "      <td>V2</td>\n",
              "      <td>STATIC</td>\n",
              "      <td>REFLECTIVE</td>\n",
              "      <td>NaN</td>\n",
              "      <td>NaN</td>\n",
              "      <td>NaN</td>\n",
              "    </tr>\n",
              "    <tr>\n",
              "      <th>99953</th>\n",
              "      <td>ADIDAS</td>\n",
              "      <td>YEEZY</td>\n",
              "      <td>BOOST</td>\n",
              "      <td>350</td>\n",
              "      <td>V2</td>\n",
              "      <td>STATIC</td>\n",
              "      <td>REFLECTIVE</td>\n",
              "      <td>NaN</td>\n",
              "      <td>NaN</td>\n",
              "      <td>NaN</td>\n",
              "    </tr>\n",
              "    <tr>\n",
              "      <th>99954</th>\n",
              "      <td>ADIDAS</td>\n",
              "      <td>YEEZY</td>\n",
              "      <td>BOOST</td>\n",
              "      <td>350</td>\n",
              "      <td>V2</td>\n",
              "      <td>STATIC</td>\n",
              "      <td>REFLECTIVE</td>\n",
              "      <td>NaN</td>\n",
              "      <td>NaN</td>\n",
              "      <td>NaN</td>\n",
              "    </tr>\n",
              "    <tr>\n",
              "      <th>99955</th>\n",
              "      <td>ADIDAS</td>\n",
              "      <td>YEEZY</td>\n",
              "      <td>BOOST</td>\n",
              "      <td>350</td>\n",
              "      <td>V2</td>\n",
              "      <td>STATIC</td>\n",
              "      <td>REFLECTIVE</td>\n",
              "      <td>NaN</td>\n",
              "      <td>NaN</td>\n",
              "      <td>NaN</td>\n",
              "    </tr>\n",
              "  </tbody>\n",
              "</table>\n",
              "<p>99956 rows × 10 columns</p>\n",
              "</div>\n",
              "      <button class=\"colab-df-convert\" onclick=\"convertToInteractive('df-f7f93d45-98de-4cb6-ac09-1e9897fc0afd')\"\n",
              "              title=\"Convert this dataframe to an interactive table.\"\n",
              "              style=\"display:none;\">\n",
              "        \n",
              "  <svg xmlns=\"http://www.w3.org/2000/svg\" height=\"24px\"viewBox=\"0 0 24 24\"\n",
              "       width=\"24px\">\n",
              "    <path d=\"M0 0h24v24H0V0z\" fill=\"none\"/>\n",
              "    <path d=\"M18.56 5.44l.94 2.06.94-2.06 2.06-.94-2.06-.94-.94-2.06-.94 2.06-2.06.94zm-11 1L8.5 8.5l.94-2.06 2.06-.94-2.06-.94L8.5 2.5l-.94 2.06-2.06.94zm10 10l.94 2.06.94-2.06 2.06-.94-2.06-.94-.94-2.06-.94 2.06-2.06.94z\"/><path d=\"M17.41 7.96l-1.37-1.37c-.4-.4-.92-.59-1.43-.59-.52 0-1.04.2-1.43.59L10.3 9.45l-7.72 7.72c-.78.78-.78 2.05 0 2.83L4 21.41c.39.39.9.59 1.41.59.51 0 1.02-.2 1.41-.59l7.78-7.78 2.81-2.81c.8-.78.8-2.07 0-2.86zM5.41 20L4 18.59l7.72-7.72 1.47 1.35L5.41 20z\"/>\n",
              "  </svg>\n",
              "      </button>\n",
              "      \n",
              "  <style>\n",
              "    .colab-df-container {\n",
              "      display:flex;\n",
              "      flex-wrap:wrap;\n",
              "      gap: 12px;\n",
              "    }\n",
              "\n",
              "    .colab-df-convert {\n",
              "      background-color: #E8F0FE;\n",
              "      border: none;\n",
              "      border-radius: 50%;\n",
              "      cursor: pointer;\n",
              "      display: none;\n",
              "      fill: #1967D2;\n",
              "      height: 32px;\n",
              "      padding: 0 0 0 0;\n",
              "      width: 32px;\n",
              "    }\n",
              "\n",
              "    .colab-df-convert:hover {\n",
              "      background-color: #E2EBFA;\n",
              "      box-shadow: 0px 1px 2px rgba(60, 64, 67, 0.3), 0px 1px 3px 1px rgba(60, 64, 67, 0.15);\n",
              "      fill: #174EA6;\n",
              "    }\n",
              "\n",
              "    [theme=dark] .colab-df-convert {\n",
              "      background-color: #3B4455;\n",
              "      fill: #D2E3FC;\n",
              "    }\n",
              "\n",
              "    [theme=dark] .colab-df-convert:hover {\n",
              "      background-color: #434B5C;\n",
              "      box-shadow: 0px 1px 3px 1px rgba(0, 0, 0, 0.15);\n",
              "      filter: drop-shadow(0px 1px 2px rgba(0, 0, 0, 0.3));\n",
              "      fill: #FFFFFF;\n",
              "    }\n",
              "  </style>\n",
              "\n",
              "      <script>\n",
              "        const buttonEl =\n",
              "          document.querySelector('#df-f7f93d45-98de-4cb6-ac09-1e9897fc0afd button.colab-df-convert');\n",
              "        buttonEl.style.display =\n",
              "          google.colab.kernel.accessAllowed ? 'block' : 'none';\n",
              "\n",
              "        async function convertToInteractive(key) {\n",
              "          const element = document.querySelector('#df-f7f93d45-98de-4cb6-ac09-1e9897fc0afd');\n",
              "          const dataTable =\n",
              "            await google.colab.kernel.invokeFunction('convertToInteractive',\n",
              "                                                     [key], {});\n",
              "          if (!dataTable) return;\n",
              "\n",
              "          const docLinkHtml = 'Like what you see? Visit the ' +\n",
              "            '<a target=\"_blank\" href=https://colab.research.google.com/notebooks/data_table.ipynb>data table notebook</a>'\n",
              "            + ' to learn more about interactive tables.';\n",
              "          element.innerHTML = '';\n",
              "          dataTable['output_type'] = 'display_data';\n",
              "          await google.colab.output.renderOutput(dataTable, element);\n",
              "          const docLink = document.createElement('div');\n",
              "          docLink.innerHTML = docLinkHtml;\n",
              "          element.appendChild(docLink);\n",
              "        }\n",
              "      </script>\n",
              "    </div>\n",
              "  </div>\n",
              "  "
            ]
          },
          "metadata": {},
          "execution_count": 34
        }
      ]
    },
    {
      "cell_type": "code",
      "source": [
        "stockx_df1.info()"
      ],
      "metadata": {
        "colab": {
          "base_uri": "https://localhost:8080/"
        },
        "id": "5AZQ3wyyJAOp",
        "outputId": "7087064b-ee4a-4943-a58e-f31ceadcc208"
      },
      "execution_count": null,
      "outputs": [
        {
          "output_type": "stream",
          "name": "stdout",
          "text": [
            "<class 'pandas.core.frame.DataFrame'>\n",
            "RangeIndex: 99956 entries, 0 to 99955\n",
            "Data columns (total 10 columns):\n",
            " #   Column  Non-Null Count  Dtype \n",
            "---  ------  --------------  ----- \n",
            " 0   0       99956 non-null  object\n",
            " 1   1       99956 non-null  object\n",
            " 2   2       99956 non-null  object\n",
            " 3   3       99956 non-null  object\n",
            " 4   4       99956 non-null  object\n",
            " 5   5       97899 non-null  object\n",
            " 6   6       60228 non-null  object\n",
            " 7   7       18053 non-null  object\n",
            " 8   8       6811 non-null   object\n",
            " 9   9       31 non-null     object\n",
            "dtypes: object(10)\n",
            "memory usage: 7.6+ MB\n"
          ]
        }
      ]
    },
    {
      "cell_type": "code",
      "source": [
        "print('\\n','*'*50,'\\n Marcas :', stockx_df1[0].unique(),'\\n','*'*50,\n",
        "      '\\n','*'*50,'\\n Colaboración :', stockx_df1[1].unique(),'\\n','*'*50,\n",
        "      '\\n','*'*50,'\\n Siluetas :',stockx_df1[2].unique(),'\\n','*'*50,\n",
        "      '\\n','*'*50,'\\n Colores :',stockx_df1[3].unique(),'\\n','*'*50,\n",
        "      '\\n','*'*50,'\\n Otro1 :',stockx_df1[4].unique(),'\\n','*'*50,\n",
        "      '\\n','*'*50,'\\n Otro2 :',stockx_df1[5].unique(),'\\n','*'*50,\n",
        "      '\\n','*'*50,'\\n Otro3 :',stockx_df1[6].unique(),'\\n','*'*50,\n",
        "      '\\n','*'*50,'\\n Otro4 :',stockx_df1[7].unique(),'\\n','*'*50,\n",
        "      '\\n','*'*50,'\\n Otro5 :',stockx_df1[8].unique(),'\\n','*'*50,\n",
        "      '\\n','*'*50,'\\n Otro6 :',stockx_df1[9].unique(),'\\n','*'*50,)"
      ],
      "metadata": {
        "colab": {
          "base_uri": "https://localhost:8080/"
        },
        "id": "44fT74sIFaQg",
        "outputId": "76b2e9ea-c214-4943-8712-6bb07ee7a3d9"
      },
      "execution_count": null,
      "outputs": [
        {
          "output_type": "stream",
          "name": "stdout",
          "text": [
            "\n",
            " ************************************************** \n",
            " Marcas : ['ADIDAS' 'NIKE' 'AIR'] \n",
            " ************************************************** \n",
            " ************************************************** \n",
            " Colaboración : ['YEEZY' 'AIR' 'JORDAN' 'BLAZER' 'REACT' 'ZOOM'] \n",
            " ************************************************** \n",
            " ************************************************** \n",
            " Siluetas : ['BOOST' 'MAX' 'PRESTO' 'VAPORMAX' '1' 'MID' 'FORCE' 'HYPERDUNK' 'FLY'] \n",
            " ************************************************** \n",
            " ************************************************** \n",
            " Colores : ['350' '90' 'OFF' 'RETRO' '1' '97' '2017' 'MERCURIAL'] \n",
            " ************************************************** \n",
            " ************************************************** \n",
            " Otro1 : ['LOW' 'V2' 'OFF' 'WHITE' 'HIGH' 'FLYKNIT'] \n",
            " ************************************************** \n",
            " ************************************************** \n",
            " Otro2 : ['V2' 'CORE' 'CREAM' 'ZEBRA' 'MOONROCK' 'WHITE' nan 'OFF' 'PIRATE'\n",
            " 'OXFORD' 'TURTLEDOVE' 'SEMI' 'VIRGIL' 'BELUGA' 'BLUE' '2018' 'BLACK'\n",
            " 'BUTTER' 'ALL' 'GRIM' 'SESAME' 'WOLF' 'PINK' 'STATIC'] \n",
            " ************************************************** \n",
            " ************************************************** \n",
            " Otro3 : ['BELUGA' 'BLACK' 'WHITE' nan 'TAN' 'FROZEN' 'ABLOH' '2PT0' 'TINT' '2018'\n",
            " 'TOTAL' 'ELEMENTAL' 'HALLOWS' 'REAPER' 'GREY' 'MENTA' 'SILVER'\n",
            " 'REFLECTIVE' 'DESERT'] \n",
            " ************************************************** \n",
            " ************************************************** \n",
            " Otro4 : [nan 'COPPER' 'GREEN' 'RED' 'WHITE' 'CHICAGO' '2016' '2015' 'YELLOW' 'OFF'\n",
            " 'UNIVERSITY' 'ORANGE' 'ROSE' 'EVE' 'VOLT' 'BLACK' 'ORE'] \n",
            " ************************************************** \n",
            " ************************************************** \n",
            " Otro5 : [nan '2017' 'WHITE' 'BLUE' 'QUEEN'] \n",
            " ************************************************** \n",
            " ************************************************** \n",
            " Otro6 : [nan 'AF100'] \n",
            " **************************************************\n"
          ]
        }
      ]
    },
    {
      "cell_type": "code",
      "source": [
        "stockx_df1 = stockx_df1.assign(brand = stockx_df1[0].apply(lambda b:'NIKE' if b == 'AIR' or b == 'NIKE' else 'ADIDAS'))\n",
        "stockx_df1.head(5)"
      ],
      "metadata": {
        "id": "4avCSXq4NPlK",
        "colab": {
          "base_uri": "https://localhost:8080/",
          "height": 206
        },
        "outputId": "29001df0-77f5-47e7-c8ab-27bcfd3c1914"
      },
      "execution_count": null,
      "outputs": [
        {
          "output_type": "execute_result",
          "data": {
            "text/plain": [
              "        0      1      2    3    4     5       6       7     8    9   brand\n",
              "0  ADIDAS  YEEZY  BOOST  350  LOW    V2  BELUGA     NaN   NaN  NaN  ADIDAS\n",
              "1  ADIDAS  YEEZY  BOOST  350   V2  CORE   BLACK  COPPER   NaN  NaN  ADIDAS\n",
              "2  ADIDAS  YEEZY  BOOST  350   V2  CORE   BLACK   GREEN   NaN  NaN  ADIDAS\n",
              "3  ADIDAS  YEEZY  BOOST  350   V2  CORE   BLACK     RED   NaN  NaN  ADIDAS\n",
              "4  ADIDAS  YEEZY  BOOST  350   V2  CORE   BLACK     RED  2017  NaN  ADIDAS"
            ],
            "text/html": [
              "\n",
              "  <div id=\"df-4f519465-3ac1-4b03-a95a-092078bd8a37\">\n",
              "    <div class=\"colab-df-container\">\n",
              "      <div>\n",
              "<style scoped>\n",
              "    .dataframe tbody tr th:only-of-type {\n",
              "        vertical-align: middle;\n",
              "    }\n",
              "\n",
              "    .dataframe tbody tr th {\n",
              "        vertical-align: top;\n",
              "    }\n",
              "\n",
              "    .dataframe thead th {\n",
              "        text-align: right;\n",
              "    }\n",
              "</style>\n",
              "<table border=\"1\" class=\"dataframe\">\n",
              "  <thead>\n",
              "    <tr style=\"text-align: right;\">\n",
              "      <th></th>\n",
              "      <th>0</th>\n",
              "      <th>1</th>\n",
              "      <th>2</th>\n",
              "      <th>3</th>\n",
              "      <th>4</th>\n",
              "      <th>5</th>\n",
              "      <th>6</th>\n",
              "      <th>7</th>\n",
              "      <th>8</th>\n",
              "      <th>9</th>\n",
              "      <th>brand</th>\n",
              "    </tr>\n",
              "  </thead>\n",
              "  <tbody>\n",
              "    <tr>\n",
              "      <th>0</th>\n",
              "      <td>ADIDAS</td>\n",
              "      <td>YEEZY</td>\n",
              "      <td>BOOST</td>\n",
              "      <td>350</td>\n",
              "      <td>LOW</td>\n",
              "      <td>V2</td>\n",
              "      <td>BELUGA</td>\n",
              "      <td>NaN</td>\n",
              "      <td>NaN</td>\n",
              "      <td>NaN</td>\n",
              "      <td>ADIDAS</td>\n",
              "    </tr>\n",
              "    <tr>\n",
              "      <th>1</th>\n",
              "      <td>ADIDAS</td>\n",
              "      <td>YEEZY</td>\n",
              "      <td>BOOST</td>\n",
              "      <td>350</td>\n",
              "      <td>V2</td>\n",
              "      <td>CORE</td>\n",
              "      <td>BLACK</td>\n",
              "      <td>COPPER</td>\n",
              "      <td>NaN</td>\n",
              "      <td>NaN</td>\n",
              "      <td>ADIDAS</td>\n",
              "    </tr>\n",
              "    <tr>\n",
              "      <th>2</th>\n",
              "      <td>ADIDAS</td>\n",
              "      <td>YEEZY</td>\n",
              "      <td>BOOST</td>\n",
              "      <td>350</td>\n",
              "      <td>V2</td>\n",
              "      <td>CORE</td>\n",
              "      <td>BLACK</td>\n",
              "      <td>GREEN</td>\n",
              "      <td>NaN</td>\n",
              "      <td>NaN</td>\n",
              "      <td>ADIDAS</td>\n",
              "    </tr>\n",
              "    <tr>\n",
              "      <th>3</th>\n",
              "      <td>ADIDAS</td>\n",
              "      <td>YEEZY</td>\n",
              "      <td>BOOST</td>\n",
              "      <td>350</td>\n",
              "      <td>V2</td>\n",
              "      <td>CORE</td>\n",
              "      <td>BLACK</td>\n",
              "      <td>RED</td>\n",
              "      <td>NaN</td>\n",
              "      <td>NaN</td>\n",
              "      <td>ADIDAS</td>\n",
              "    </tr>\n",
              "    <tr>\n",
              "      <th>4</th>\n",
              "      <td>ADIDAS</td>\n",
              "      <td>YEEZY</td>\n",
              "      <td>BOOST</td>\n",
              "      <td>350</td>\n",
              "      <td>V2</td>\n",
              "      <td>CORE</td>\n",
              "      <td>BLACK</td>\n",
              "      <td>RED</td>\n",
              "      <td>2017</td>\n",
              "      <td>NaN</td>\n",
              "      <td>ADIDAS</td>\n",
              "    </tr>\n",
              "  </tbody>\n",
              "</table>\n",
              "</div>\n",
              "      <button class=\"colab-df-convert\" onclick=\"convertToInteractive('df-4f519465-3ac1-4b03-a95a-092078bd8a37')\"\n",
              "              title=\"Convert this dataframe to an interactive table.\"\n",
              "              style=\"display:none;\">\n",
              "        \n",
              "  <svg xmlns=\"http://www.w3.org/2000/svg\" height=\"24px\"viewBox=\"0 0 24 24\"\n",
              "       width=\"24px\">\n",
              "    <path d=\"M0 0h24v24H0V0z\" fill=\"none\"/>\n",
              "    <path d=\"M18.56 5.44l.94 2.06.94-2.06 2.06-.94-2.06-.94-.94-2.06-.94 2.06-2.06.94zm-11 1L8.5 8.5l.94-2.06 2.06-.94-2.06-.94L8.5 2.5l-.94 2.06-2.06.94zm10 10l.94 2.06.94-2.06 2.06-.94-2.06-.94-.94-2.06-.94 2.06-2.06.94z\"/><path d=\"M17.41 7.96l-1.37-1.37c-.4-.4-.92-.59-1.43-.59-.52 0-1.04.2-1.43.59L10.3 9.45l-7.72 7.72c-.78.78-.78 2.05 0 2.83L4 21.41c.39.39.9.59 1.41.59.51 0 1.02-.2 1.41-.59l7.78-7.78 2.81-2.81c.8-.78.8-2.07 0-2.86zM5.41 20L4 18.59l7.72-7.72 1.47 1.35L5.41 20z\"/>\n",
              "  </svg>\n",
              "      </button>\n",
              "      \n",
              "  <style>\n",
              "    .colab-df-container {\n",
              "      display:flex;\n",
              "      flex-wrap:wrap;\n",
              "      gap: 12px;\n",
              "    }\n",
              "\n",
              "    .colab-df-convert {\n",
              "      background-color: #E8F0FE;\n",
              "      border: none;\n",
              "      border-radius: 50%;\n",
              "      cursor: pointer;\n",
              "      display: none;\n",
              "      fill: #1967D2;\n",
              "      height: 32px;\n",
              "      padding: 0 0 0 0;\n",
              "      width: 32px;\n",
              "    }\n",
              "\n",
              "    .colab-df-convert:hover {\n",
              "      background-color: #E2EBFA;\n",
              "      box-shadow: 0px 1px 2px rgba(60, 64, 67, 0.3), 0px 1px 3px 1px rgba(60, 64, 67, 0.15);\n",
              "      fill: #174EA6;\n",
              "    }\n",
              "\n",
              "    [theme=dark] .colab-df-convert {\n",
              "      background-color: #3B4455;\n",
              "      fill: #D2E3FC;\n",
              "    }\n",
              "\n",
              "    [theme=dark] .colab-df-convert:hover {\n",
              "      background-color: #434B5C;\n",
              "      box-shadow: 0px 1px 3px 1px rgba(0, 0, 0, 0.15);\n",
              "      filter: drop-shadow(0px 1px 2px rgba(0, 0, 0, 0.3));\n",
              "      fill: #FFFFFF;\n",
              "    }\n",
              "  </style>\n",
              "\n",
              "      <script>\n",
              "        const buttonEl =\n",
              "          document.querySelector('#df-4f519465-3ac1-4b03-a95a-092078bd8a37 button.colab-df-convert');\n",
              "        buttonEl.style.display =\n",
              "          google.colab.kernel.accessAllowed ? 'block' : 'none';\n",
              "\n",
              "        async function convertToInteractive(key) {\n",
              "          const element = document.querySelector('#df-4f519465-3ac1-4b03-a95a-092078bd8a37');\n",
              "          const dataTable =\n",
              "            await google.colab.kernel.invokeFunction('convertToInteractive',\n",
              "                                                     [key], {});\n",
              "          if (!dataTable) return;\n",
              "\n",
              "          const docLinkHtml = 'Like what you see? Visit the ' +\n",
              "            '<a target=\"_blank\" href=https://colab.research.google.com/notebooks/data_table.ipynb>data table notebook</a>'\n",
              "            + ' to learn more about interactive tables.';\n",
              "          element.innerHTML = '';\n",
              "          dataTable['output_type'] = 'display_data';\n",
              "          await google.colab.output.renderOutput(dataTable, element);\n",
              "          const docLink = document.createElement('div');\n",
              "          docLink.innerHTML = docLinkHtml;\n",
              "          element.appendChild(docLink);\n",
              "        }\n",
              "      </script>\n",
              "    </div>\n",
              "  </div>\n",
              "  "
            ]
          },
          "metadata": {},
          "execution_count": 37
        }
      ]
    },
    {
      "cell_type": "code",
      "source": [
        "print('\\n','*'*50,'\\n Marcas :', stockx_df1['brand'].unique(),'\\n','*'*50)"
      ],
      "metadata": {
        "colab": {
          "base_uri": "https://localhost:8080/"
        },
        "id": "D77Y3ugCOQga",
        "outputId": "921c2750-49d8-4270-cabf-f1995fe2e8d4"
      },
      "execution_count": null,
      "outputs": [
        {
          "output_type": "stream",
          "name": "stdout",
          "text": [
            "\n",
            " ************************************************** \n",
            " Marcas : ['ADIDAS' 'NIKE'] \n",
            " **************************************************\n"
          ]
        }
      ]
    },
    {
      "cell_type": "code",
      "source": [
        "stockx_df1 = stockx_df1.assign(colaboration = stockx_df1[1].apply(lambda c:'YEEZY' if c== 'YEEZY' else 'OFF-WITHE'))\n",
        "stockx_df1.head(5)"
      ],
      "metadata": {
        "colab": {
          "base_uri": "https://localhost:8080/",
          "height": 206
        },
        "id": "-0W5PUdTZ10G",
        "outputId": "0ae367a6-9ccf-4e9b-cab4-66f71707026d"
      },
      "execution_count": null,
      "outputs": [
        {
          "output_type": "execute_result",
          "data": {
            "text/plain": [
              "        0      1      2    3    4     5       6       7     8    9   brand  \\\n",
              "0  ADIDAS  YEEZY  BOOST  350  LOW    V2  BELUGA     NaN   NaN  NaN  ADIDAS   \n",
              "1  ADIDAS  YEEZY  BOOST  350   V2  CORE   BLACK  COPPER   NaN  NaN  ADIDAS   \n",
              "2  ADIDAS  YEEZY  BOOST  350   V2  CORE   BLACK   GREEN   NaN  NaN  ADIDAS   \n",
              "3  ADIDAS  YEEZY  BOOST  350   V2  CORE   BLACK     RED   NaN  NaN  ADIDAS   \n",
              "4  ADIDAS  YEEZY  BOOST  350   V2  CORE   BLACK     RED  2017  NaN  ADIDAS   \n",
              "\n",
              "  colaboration  \n",
              "0        YEEZY  \n",
              "1        YEEZY  \n",
              "2        YEEZY  \n",
              "3        YEEZY  \n",
              "4        YEEZY  "
            ],
            "text/html": [
              "\n",
              "  <div id=\"df-d774dc21-3bef-4d56-8736-9d85df68e0a1\">\n",
              "    <div class=\"colab-df-container\">\n",
              "      <div>\n",
              "<style scoped>\n",
              "    .dataframe tbody tr th:only-of-type {\n",
              "        vertical-align: middle;\n",
              "    }\n",
              "\n",
              "    .dataframe tbody tr th {\n",
              "        vertical-align: top;\n",
              "    }\n",
              "\n",
              "    .dataframe thead th {\n",
              "        text-align: right;\n",
              "    }\n",
              "</style>\n",
              "<table border=\"1\" class=\"dataframe\">\n",
              "  <thead>\n",
              "    <tr style=\"text-align: right;\">\n",
              "      <th></th>\n",
              "      <th>0</th>\n",
              "      <th>1</th>\n",
              "      <th>2</th>\n",
              "      <th>3</th>\n",
              "      <th>4</th>\n",
              "      <th>5</th>\n",
              "      <th>6</th>\n",
              "      <th>7</th>\n",
              "      <th>8</th>\n",
              "      <th>9</th>\n",
              "      <th>brand</th>\n",
              "      <th>colaboration</th>\n",
              "    </tr>\n",
              "  </thead>\n",
              "  <tbody>\n",
              "    <tr>\n",
              "      <th>0</th>\n",
              "      <td>ADIDAS</td>\n",
              "      <td>YEEZY</td>\n",
              "      <td>BOOST</td>\n",
              "      <td>350</td>\n",
              "      <td>LOW</td>\n",
              "      <td>V2</td>\n",
              "      <td>BELUGA</td>\n",
              "      <td>NaN</td>\n",
              "      <td>NaN</td>\n",
              "      <td>NaN</td>\n",
              "      <td>ADIDAS</td>\n",
              "      <td>YEEZY</td>\n",
              "    </tr>\n",
              "    <tr>\n",
              "      <th>1</th>\n",
              "      <td>ADIDAS</td>\n",
              "      <td>YEEZY</td>\n",
              "      <td>BOOST</td>\n",
              "      <td>350</td>\n",
              "      <td>V2</td>\n",
              "      <td>CORE</td>\n",
              "      <td>BLACK</td>\n",
              "      <td>COPPER</td>\n",
              "      <td>NaN</td>\n",
              "      <td>NaN</td>\n",
              "      <td>ADIDAS</td>\n",
              "      <td>YEEZY</td>\n",
              "    </tr>\n",
              "    <tr>\n",
              "      <th>2</th>\n",
              "      <td>ADIDAS</td>\n",
              "      <td>YEEZY</td>\n",
              "      <td>BOOST</td>\n",
              "      <td>350</td>\n",
              "      <td>V2</td>\n",
              "      <td>CORE</td>\n",
              "      <td>BLACK</td>\n",
              "      <td>GREEN</td>\n",
              "      <td>NaN</td>\n",
              "      <td>NaN</td>\n",
              "      <td>ADIDAS</td>\n",
              "      <td>YEEZY</td>\n",
              "    </tr>\n",
              "    <tr>\n",
              "      <th>3</th>\n",
              "      <td>ADIDAS</td>\n",
              "      <td>YEEZY</td>\n",
              "      <td>BOOST</td>\n",
              "      <td>350</td>\n",
              "      <td>V2</td>\n",
              "      <td>CORE</td>\n",
              "      <td>BLACK</td>\n",
              "      <td>RED</td>\n",
              "      <td>NaN</td>\n",
              "      <td>NaN</td>\n",
              "      <td>ADIDAS</td>\n",
              "      <td>YEEZY</td>\n",
              "    </tr>\n",
              "    <tr>\n",
              "      <th>4</th>\n",
              "      <td>ADIDAS</td>\n",
              "      <td>YEEZY</td>\n",
              "      <td>BOOST</td>\n",
              "      <td>350</td>\n",
              "      <td>V2</td>\n",
              "      <td>CORE</td>\n",
              "      <td>BLACK</td>\n",
              "      <td>RED</td>\n",
              "      <td>2017</td>\n",
              "      <td>NaN</td>\n",
              "      <td>ADIDAS</td>\n",
              "      <td>YEEZY</td>\n",
              "    </tr>\n",
              "  </tbody>\n",
              "</table>\n",
              "</div>\n",
              "      <button class=\"colab-df-convert\" onclick=\"convertToInteractive('df-d774dc21-3bef-4d56-8736-9d85df68e0a1')\"\n",
              "              title=\"Convert this dataframe to an interactive table.\"\n",
              "              style=\"display:none;\">\n",
              "        \n",
              "  <svg xmlns=\"http://www.w3.org/2000/svg\" height=\"24px\"viewBox=\"0 0 24 24\"\n",
              "       width=\"24px\">\n",
              "    <path d=\"M0 0h24v24H0V0z\" fill=\"none\"/>\n",
              "    <path d=\"M18.56 5.44l.94 2.06.94-2.06 2.06-.94-2.06-.94-.94-2.06-.94 2.06-2.06.94zm-11 1L8.5 8.5l.94-2.06 2.06-.94-2.06-.94L8.5 2.5l-.94 2.06-2.06.94zm10 10l.94 2.06.94-2.06 2.06-.94-2.06-.94-.94-2.06-.94 2.06-2.06.94z\"/><path d=\"M17.41 7.96l-1.37-1.37c-.4-.4-.92-.59-1.43-.59-.52 0-1.04.2-1.43.59L10.3 9.45l-7.72 7.72c-.78.78-.78 2.05 0 2.83L4 21.41c.39.39.9.59 1.41.59.51 0 1.02-.2 1.41-.59l7.78-7.78 2.81-2.81c.8-.78.8-2.07 0-2.86zM5.41 20L4 18.59l7.72-7.72 1.47 1.35L5.41 20z\"/>\n",
              "  </svg>\n",
              "      </button>\n",
              "      \n",
              "  <style>\n",
              "    .colab-df-container {\n",
              "      display:flex;\n",
              "      flex-wrap:wrap;\n",
              "      gap: 12px;\n",
              "    }\n",
              "\n",
              "    .colab-df-convert {\n",
              "      background-color: #E8F0FE;\n",
              "      border: none;\n",
              "      border-radius: 50%;\n",
              "      cursor: pointer;\n",
              "      display: none;\n",
              "      fill: #1967D2;\n",
              "      height: 32px;\n",
              "      padding: 0 0 0 0;\n",
              "      width: 32px;\n",
              "    }\n",
              "\n",
              "    .colab-df-convert:hover {\n",
              "      background-color: #E2EBFA;\n",
              "      box-shadow: 0px 1px 2px rgba(60, 64, 67, 0.3), 0px 1px 3px 1px rgba(60, 64, 67, 0.15);\n",
              "      fill: #174EA6;\n",
              "    }\n",
              "\n",
              "    [theme=dark] .colab-df-convert {\n",
              "      background-color: #3B4455;\n",
              "      fill: #D2E3FC;\n",
              "    }\n",
              "\n",
              "    [theme=dark] .colab-df-convert:hover {\n",
              "      background-color: #434B5C;\n",
              "      box-shadow: 0px 1px 3px 1px rgba(0, 0, 0, 0.15);\n",
              "      filter: drop-shadow(0px 1px 2px rgba(0, 0, 0, 0.3));\n",
              "      fill: #FFFFFF;\n",
              "    }\n",
              "  </style>\n",
              "\n",
              "      <script>\n",
              "        const buttonEl =\n",
              "          document.querySelector('#df-d774dc21-3bef-4d56-8736-9d85df68e0a1 button.colab-df-convert');\n",
              "        buttonEl.style.display =\n",
              "          google.colab.kernel.accessAllowed ? 'block' : 'none';\n",
              "\n",
              "        async function convertToInteractive(key) {\n",
              "          const element = document.querySelector('#df-d774dc21-3bef-4d56-8736-9d85df68e0a1');\n",
              "          const dataTable =\n",
              "            await google.colab.kernel.invokeFunction('convertToInteractive',\n",
              "                                                     [key], {});\n",
              "          if (!dataTable) return;\n",
              "\n",
              "          const docLinkHtml = 'Like what you see? Visit the ' +\n",
              "            '<a target=\"_blank\" href=https://colab.research.google.com/notebooks/data_table.ipynb>data table notebook</a>'\n",
              "            + ' to learn more about interactive tables.';\n",
              "          element.innerHTML = '';\n",
              "          dataTable['output_type'] = 'display_data';\n",
              "          await google.colab.output.renderOutput(dataTable, element);\n",
              "          const docLink = document.createElement('div');\n",
              "          docLink.innerHTML = docLinkHtml;\n",
              "          element.appendChild(docLink);\n",
              "        }\n",
              "      </script>\n",
              "    </div>\n",
              "  </div>\n",
              "  "
            ]
          },
          "metadata": {},
          "execution_count": 39
        }
      ]
    },
    {
      "cell_type": "code",
      "source": [
        "print('\\n','*'*50,'\\n Colaboracion :', stockx_df1['colaboration'].unique(),'\\n','*'*50)"
      ],
      "metadata": {
        "colab": {
          "base_uri": "https://localhost:8080/"
        },
        "id": "q1Bln9RDe6UE",
        "outputId": "5deb9f27-d793-44f1-a076-0125aebef7ea"
      },
      "execution_count": null,
      "outputs": [
        {
          "output_type": "stream",
          "name": "stdout",
          "text": [
            "\n",
            " ************************************************** \n",
            " Colaboracion : ['YEEZY' 'OFF-WITHE'] \n",
            " **************************************************\n"
          ]
        }
      ]
    },
    {
      "cell_type": "code",
      "source": [
        "def sil(s):\n",
        "  if s == 'BOOST':\n",
        "    return  'BOSST 350'\n",
        "  elif s== 'MAX':\n",
        "    return  'AIR MAX'\n",
        "  elif s == 'PRESTO':\n",
        "    return  'AIR PRESTO'\n",
        "  elif s == 'VAPORMAX':\n",
        "    return  'AIR VAPORMAX'\n",
        "  elif s == 'FORCE':\n",
        "    return  'AIR FORCE'\n",
        "  elif s == '1':\n",
        "    return 'JORDAN 1'\n",
        "  elif s == 'HYPERDUNK':\n",
        "    return  'REACT HYPERDUNK'\n",
        "  elif s == 'MID':\n",
        "    return  'BLAZER MID'\n",
        "  else: \n",
        "    return 'FLY ZOOM'"
      ],
      "metadata": {
        "id": "P-PlAVShvEUs"
      },
      "execution_count": null,
      "outputs": []
    },
    {
      "cell_type": "code",
      "source": [
        "stockx_df1 = stockx_df1.assign(silhouette = stockx_df1[2].apply(sil))\n",
        "stockx_df1.head()"
      ],
      "metadata": {
        "colab": {
          "base_uri": "https://localhost:8080/",
          "height": 206
        },
        "id": "oq0UcUOJaqvZ",
        "outputId": "80ad2b1d-f9d5-4070-bc81-6f4951760bca"
      },
      "execution_count": null,
      "outputs": [
        {
          "output_type": "execute_result",
          "data": {
            "text/plain": [
              "        0      1      2    3    4     5       6       7     8    9   brand  \\\n",
              "0  ADIDAS  YEEZY  BOOST  350  LOW    V2  BELUGA     NaN   NaN  NaN  ADIDAS   \n",
              "1  ADIDAS  YEEZY  BOOST  350   V2  CORE   BLACK  COPPER   NaN  NaN  ADIDAS   \n",
              "2  ADIDAS  YEEZY  BOOST  350   V2  CORE   BLACK   GREEN   NaN  NaN  ADIDAS   \n",
              "3  ADIDAS  YEEZY  BOOST  350   V2  CORE   BLACK     RED   NaN  NaN  ADIDAS   \n",
              "4  ADIDAS  YEEZY  BOOST  350   V2  CORE   BLACK     RED  2017  NaN  ADIDAS   \n",
              "\n",
              "  colaboration silhouette  \n",
              "0        YEEZY  BOSST 350  \n",
              "1        YEEZY  BOSST 350  \n",
              "2        YEEZY  BOSST 350  \n",
              "3        YEEZY  BOSST 350  \n",
              "4        YEEZY  BOSST 350  "
            ],
            "text/html": [
              "\n",
              "  <div id=\"df-46c4f6a9-985a-4bcb-9a52-16563b32e0fa\">\n",
              "    <div class=\"colab-df-container\">\n",
              "      <div>\n",
              "<style scoped>\n",
              "    .dataframe tbody tr th:only-of-type {\n",
              "        vertical-align: middle;\n",
              "    }\n",
              "\n",
              "    .dataframe tbody tr th {\n",
              "        vertical-align: top;\n",
              "    }\n",
              "\n",
              "    .dataframe thead th {\n",
              "        text-align: right;\n",
              "    }\n",
              "</style>\n",
              "<table border=\"1\" class=\"dataframe\">\n",
              "  <thead>\n",
              "    <tr style=\"text-align: right;\">\n",
              "      <th></th>\n",
              "      <th>0</th>\n",
              "      <th>1</th>\n",
              "      <th>2</th>\n",
              "      <th>3</th>\n",
              "      <th>4</th>\n",
              "      <th>5</th>\n",
              "      <th>6</th>\n",
              "      <th>7</th>\n",
              "      <th>8</th>\n",
              "      <th>9</th>\n",
              "      <th>brand</th>\n",
              "      <th>colaboration</th>\n",
              "      <th>silhouette</th>\n",
              "    </tr>\n",
              "  </thead>\n",
              "  <tbody>\n",
              "    <tr>\n",
              "      <th>0</th>\n",
              "      <td>ADIDAS</td>\n",
              "      <td>YEEZY</td>\n",
              "      <td>BOOST</td>\n",
              "      <td>350</td>\n",
              "      <td>LOW</td>\n",
              "      <td>V2</td>\n",
              "      <td>BELUGA</td>\n",
              "      <td>NaN</td>\n",
              "      <td>NaN</td>\n",
              "      <td>NaN</td>\n",
              "      <td>ADIDAS</td>\n",
              "      <td>YEEZY</td>\n",
              "      <td>BOSST 350</td>\n",
              "    </tr>\n",
              "    <tr>\n",
              "      <th>1</th>\n",
              "      <td>ADIDAS</td>\n",
              "      <td>YEEZY</td>\n",
              "      <td>BOOST</td>\n",
              "      <td>350</td>\n",
              "      <td>V2</td>\n",
              "      <td>CORE</td>\n",
              "      <td>BLACK</td>\n",
              "      <td>COPPER</td>\n",
              "      <td>NaN</td>\n",
              "      <td>NaN</td>\n",
              "      <td>ADIDAS</td>\n",
              "      <td>YEEZY</td>\n",
              "      <td>BOSST 350</td>\n",
              "    </tr>\n",
              "    <tr>\n",
              "      <th>2</th>\n",
              "      <td>ADIDAS</td>\n",
              "      <td>YEEZY</td>\n",
              "      <td>BOOST</td>\n",
              "      <td>350</td>\n",
              "      <td>V2</td>\n",
              "      <td>CORE</td>\n",
              "      <td>BLACK</td>\n",
              "      <td>GREEN</td>\n",
              "      <td>NaN</td>\n",
              "      <td>NaN</td>\n",
              "      <td>ADIDAS</td>\n",
              "      <td>YEEZY</td>\n",
              "      <td>BOSST 350</td>\n",
              "    </tr>\n",
              "    <tr>\n",
              "      <th>3</th>\n",
              "      <td>ADIDAS</td>\n",
              "      <td>YEEZY</td>\n",
              "      <td>BOOST</td>\n",
              "      <td>350</td>\n",
              "      <td>V2</td>\n",
              "      <td>CORE</td>\n",
              "      <td>BLACK</td>\n",
              "      <td>RED</td>\n",
              "      <td>NaN</td>\n",
              "      <td>NaN</td>\n",
              "      <td>ADIDAS</td>\n",
              "      <td>YEEZY</td>\n",
              "      <td>BOSST 350</td>\n",
              "    </tr>\n",
              "    <tr>\n",
              "      <th>4</th>\n",
              "      <td>ADIDAS</td>\n",
              "      <td>YEEZY</td>\n",
              "      <td>BOOST</td>\n",
              "      <td>350</td>\n",
              "      <td>V2</td>\n",
              "      <td>CORE</td>\n",
              "      <td>BLACK</td>\n",
              "      <td>RED</td>\n",
              "      <td>2017</td>\n",
              "      <td>NaN</td>\n",
              "      <td>ADIDAS</td>\n",
              "      <td>YEEZY</td>\n",
              "      <td>BOSST 350</td>\n",
              "    </tr>\n",
              "  </tbody>\n",
              "</table>\n",
              "</div>\n",
              "      <button class=\"colab-df-convert\" onclick=\"convertToInteractive('df-46c4f6a9-985a-4bcb-9a52-16563b32e0fa')\"\n",
              "              title=\"Convert this dataframe to an interactive table.\"\n",
              "              style=\"display:none;\">\n",
              "        \n",
              "  <svg xmlns=\"http://www.w3.org/2000/svg\" height=\"24px\"viewBox=\"0 0 24 24\"\n",
              "       width=\"24px\">\n",
              "    <path d=\"M0 0h24v24H0V0z\" fill=\"none\"/>\n",
              "    <path d=\"M18.56 5.44l.94 2.06.94-2.06 2.06-.94-2.06-.94-.94-2.06-.94 2.06-2.06.94zm-11 1L8.5 8.5l.94-2.06 2.06-.94-2.06-.94L8.5 2.5l-.94 2.06-2.06.94zm10 10l.94 2.06.94-2.06 2.06-.94-2.06-.94-.94-2.06-.94 2.06-2.06.94z\"/><path d=\"M17.41 7.96l-1.37-1.37c-.4-.4-.92-.59-1.43-.59-.52 0-1.04.2-1.43.59L10.3 9.45l-7.72 7.72c-.78.78-.78 2.05 0 2.83L4 21.41c.39.39.9.59 1.41.59.51 0 1.02-.2 1.41-.59l7.78-7.78 2.81-2.81c.8-.78.8-2.07 0-2.86zM5.41 20L4 18.59l7.72-7.72 1.47 1.35L5.41 20z\"/>\n",
              "  </svg>\n",
              "      </button>\n",
              "      \n",
              "  <style>\n",
              "    .colab-df-container {\n",
              "      display:flex;\n",
              "      flex-wrap:wrap;\n",
              "      gap: 12px;\n",
              "    }\n",
              "\n",
              "    .colab-df-convert {\n",
              "      background-color: #E8F0FE;\n",
              "      border: none;\n",
              "      border-radius: 50%;\n",
              "      cursor: pointer;\n",
              "      display: none;\n",
              "      fill: #1967D2;\n",
              "      height: 32px;\n",
              "      padding: 0 0 0 0;\n",
              "      width: 32px;\n",
              "    }\n",
              "\n",
              "    .colab-df-convert:hover {\n",
              "      background-color: #E2EBFA;\n",
              "      box-shadow: 0px 1px 2px rgba(60, 64, 67, 0.3), 0px 1px 3px 1px rgba(60, 64, 67, 0.15);\n",
              "      fill: #174EA6;\n",
              "    }\n",
              "\n",
              "    [theme=dark] .colab-df-convert {\n",
              "      background-color: #3B4455;\n",
              "      fill: #D2E3FC;\n",
              "    }\n",
              "\n",
              "    [theme=dark] .colab-df-convert:hover {\n",
              "      background-color: #434B5C;\n",
              "      box-shadow: 0px 1px 3px 1px rgba(0, 0, 0, 0.15);\n",
              "      filter: drop-shadow(0px 1px 2px rgba(0, 0, 0, 0.3));\n",
              "      fill: #FFFFFF;\n",
              "    }\n",
              "  </style>\n",
              "\n",
              "      <script>\n",
              "        const buttonEl =\n",
              "          document.querySelector('#df-46c4f6a9-985a-4bcb-9a52-16563b32e0fa button.colab-df-convert');\n",
              "        buttonEl.style.display =\n",
              "          google.colab.kernel.accessAllowed ? 'block' : 'none';\n",
              "\n",
              "        async function convertToInteractive(key) {\n",
              "          const element = document.querySelector('#df-46c4f6a9-985a-4bcb-9a52-16563b32e0fa');\n",
              "          const dataTable =\n",
              "            await google.colab.kernel.invokeFunction('convertToInteractive',\n",
              "                                                     [key], {});\n",
              "          if (!dataTable) return;\n",
              "\n",
              "          const docLinkHtml = 'Like what you see? Visit the ' +\n",
              "            '<a target=\"_blank\" href=https://colab.research.google.com/notebooks/data_table.ipynb>data table notebook</a>'\n",
              "            + ' to learn more about interactive tables.';\n",
              "          element.innerHTML = '';\n",
              "          dataTable['output_type'] = 'display_data';\n",
              "          await google.colab.output.renderOutput(dataTable, element);\n",
              "          const docLink = document.createElement('div');\n",
              "          docLink.innerHTML = docLinkHtml;\n",
              "          element.appendChild(docLink);\n",
              "        }\n",
              "      </script>\n",
              "    </div>\n",
              "  </div>\n",
              "  "
            ]
          },
          "metadata": {},
          "execution_count": 42
        }
      ]
    },
    {
      "cell_type": "code",
      "source": [
        "print('\\n','*'*50,'\\n Silueta :', stockx_df1['silhouette'].unique(),'\\n','*'*50)"
      ],
      "metadata": {
        "colab": {
          "base_uri": "https://localhost:8080/"
        },
        "id": "NYch33SDZI-P",
        "outputId": "6804c762-e3af-4b50-f74e-5b24ead5bcaf"
      },
      "execution_count": null,
      "outputs": [
        {
          "output_type": "stream",
          "name": "stdout",
          "text": [
            "\n",
            " ************************************************** \n",
            " Silueta : ['BOSST 350' 'AIR MAX' 'AIR PRESTO' 'AIR VAPORMAX' 'JORDAN 1' 'BLAZER MID'\n",
            " 'AIR FORCE' 'REACT HYPERDUNK' 'FLY ZOOM'] \n",
            " **************************************************\n"
          ]
        }
      ]
    },
    {
      "cell_type": "markdown",
      "source": [
        "### Unión de bases "
      ],
      "metadata": {
        "id": "l-D1oqaDdl-q"
      }
    },
    {
      "cell_type": "code",
      "source": [
        "#adiciono las columnas con la correcta clasificacion \n",
        "stockx_df = stockx_df.assign(brand1  =  stockx_df1['brand'])\n",
        "stockx_df.head(4)"
      ],
      "metadata": {
        "colab": {
          "base_uri": "https://localhost:8080/",
          "height": 174
        },
        "id": "1iEZTwqdeWdl",
        "outputId": "46da54a5-15a5-4cce-945b-92f637bc87f5"
      },
      "execution_count": null,
      "outputs": [
        {
          "output_type": "execute_result",
          "data": {
            "text/plain": [
              "  order_date   brand                                 sneaker_name  sale_price  \\\n",
              "0 2017-09-01   Yeezy         ADIDAS-YEEZY-BOOST-350-LOW-V2-BELUGA        1097   \n",
              "1 2017-09-01   Yeezy  ADIDAS-YEEZY-BOOST-350-V2-CORE-BLACK-COPPER         685   \n",
              "2 2017-09-01   Yeezy   ADIDAS-YEEZY-BOOST-350-V2-CORE-BLACK-GREEN         690   \n",
              "3 2017-09-01   Yeezy     ADIDAS-YEEZY-BOOST-350-V2-CORE-BLACK-RED        1075   \n",
              "\n",
              "   retail_price release_date  shoe_size buyer_region  brand1  \n",
              "0           220   2016-09-24       11.0   California  ADIDAS  \n",
              "1           220   2016-11-23       11.0   California  ADIDAS  \n",
              "2           220   2016-11-23       11.0   California  ADIDAS  \n",
              "3           220   2016-11-23       11.5     Kentucky  ADIDAS  "
            ],
            "text/html": [
              "\n",
              "  <div id=\"df-26db53d5-438d-4b61-8f95-824460629425\">\n",
              "    <div class=\"colab-df-container\">\n",
              "      <div>\n",
              "<style scoped>\n",
              "    .dataframe tbody tr th:only-of-type {\n",
              "        vertical-align: middle;\n",
              "    }\n",
              "\n",
              "    .dataframe tbody tr th {\n",
              "        vertical-align: top;\n",
              "    }\n",
              "\n",
              "    .dataframe thead th {\n",
              "        text-align: right;\n",
              "    }\n",
              "</style>\n",
              "<table border=\"1\" class=\"dataframe\">\n",
              "  <thead>\n",
              "    <tr style=\"text-align: right;\">\n",
              "      <th></th>\n",
              "      <th>order_date</th>\n",
              "      <th>brand</th>\n",
              "      <th>sneaker_name</th>\n",
              "      <th>sale_price</th>\n",
              "      <th>retail_price</th>\n",
              "      <th>release_date</th>\n",
              "      <th>shoe_size</th>\n",
              "      <th>buyer_region</th>\n",
              "      <th>brand1</th>\n",
              "    </tr>\n",
              "  </thead>\n",
              "  <tbody>\n",
              "    <tr>\n",
              "      <th>0</th>\n",
              "      <td>2017-09-01</td>\n",
              "      <td>Yeezy</td>\n",
              "      <td>ADIDAS-YEEZY-BOOST-350-LOW-V2-BELUGA</td>\n",
              "      <td>1097</td>\n",
              "      <td>220</td>\n",
              "      <td>2016-09-24</td>\n",
              "      <td>11.0</td>\n",
              "      <td>California</td>\n",
              "      <td>ADIDAS</td>\n",
              "    </tr>\n",
              "    <tr>\n",
              "      <th>1</th>\n",
              "      <td>2017-09-01</td>\n",
              "      <td>Yeezy</td>\n",
              "      <td>ADIDAS-YEEZY-BOOST-350-V2-CORE-BLACK-COPPER</td>\n",
              "      <td>685</td>\n",
              "      <td>220</td>\n",
              "      <td>2016-11-23</td>\n",
              "      <td>11.0</td>\n",
              "      <td>California</td>\n",
              "      <td>ADIDAS</td>\n",
              "    </tr>\n",
              "    <tr>\n",
              "      <th>2</th>\n",
              "      <td>2017-09-01</td>\n",
              "      <td>Yeezy</td>\n",
              "      <td>ADIDAS-YEEZY-BOOST-350-V2-CORE-BLACK-GREEN</td>\n",
              "      <td>690</td>\n",
              "      <td>220</td>\n",
              "      <td>2016-11-23</td>\n",
              "      <td>11.0</td>\n",
              "      <td>California</td>\n",
              "      <td>ADIDAS</td>\n",
              "    </tr>\n",
              "    <tr>\n",
              "      <th>3</th>\n",
              "      <td>2017-09-01</td>\n",
              "      <td>Yeezy</td>\n",
              "      <td>ADIDAS-YEEZY-BOOST-350-V2-CORE-BLACK-RED</td>\n",
              "      <td>1075</td>\n",
              "      <td>220</td>\n",
              "      <td>2016-11-23</td>\n",
              "      <td>11.5</td>\n",
              "      <td>Kentucky</td>\n",
              "      <td>ADIDAS</td>\n",
              "    </tr>\n",
              "  </tbody>\n",
              "</table>\n",
              "</div>\n",
              "      <button class=\"colab-df-convert\" onclick=\"convertToInteractive('df-26db53d5-438d-4b61-8f95-824460629425')\"\n",
              "              title=\"Convert this dataframe to an interactive table.\"\n",
              "              style=\"display:none;\">\n",
              "        \n",
              "  <svg xmlns=\"http://www.w3.org/2000/svg\" height=\"24px\"viewBox=\"0 0 24 24\"\n",
              "       width=\"24px\">\n",
              "    <path d=\"M0 0h24v24H0V0z\" fill=\"none\"/>\n",
              "    <path d=\"M18.56 5.44l.94 2.06.94-2.06 2.06-.94-2.06-.94-.94-2.06-.94 2.06-2.06.94zm-11 1L8.5 8.5l.94-2.06 2.06-.94-2.06-.94L8.5 2.5l-.94 2.06-2.06.94zm10 10l.94 2.06.94-2.06 2.06-.94-2.06-.94-.94-2.06-.94 2.06-2.06.94z\"/><path d=\"M17.41 7.96l-1.37-1.37c-.4-.4-.92-.59-1.43-.59-.52 0-1.04.2-1.43.59L10.3 9.45l-7.72 7.72c-.78.78-.78 2.05 0 2.83L4 21.41c.39.39.9.59 1.41.59.51 0 1.02-.2 1.41-.59l7.78-7.78 2.81-2.81c.8-.78.8-2.07 0-2.86zM5.41 20L4 18.59l7.72-7.72 1.47 1.35L5.41 20z\"/>\n",
              "  </svg>\n",
              "      </button>\n",
              "      \n",
              "  <style>\n",
              "    .colab-df-container {\n",
              "      display:flex;\n",
              "      flex-wrap:wrap;\n",
              "      gap: 12px;\n",
              "    }\n",
              "\n",
              "    .colab-df-convert {\n",
              "      background-color: #E8F0FE;\n",
              "      border: none;\n",
              "      border-radius: 50%;\n",
              "      cursor: pointer;\n",
              "      display: none;\n",
              "      fill: #1967D2;\n",
              "      height: 32px;\n",
              "      padding: 0 0 0 0;\n",
              "      width: 32px;\n",
              "    }\n",
              "\n",
              "    .colab-df-convert:hover {\n",
              "      background-color: #E2EBFA;\n",
              "      box-shadow: 0px 1px 2px rgba(60, 64, 67, 0.3), 0px 1px 3px 1px rgba(60, 64, 67, 0.15);\n",
              "      fill: #174EA6;\n",
              "    }\n",
              "\n",
              "    [theme=dark] .colab-df-convert {\n",
              "      background-color: #3B4455;\n",
              "      fill: #D2E3FC;\n",
              "    }\n",
              "\n",
              "    [theme=dark] .colab-df-convert:hover {\n",
              "      background-color: #434B5C;\n",
              "      box-shadow: 0px 1px 3px 1px rgba(0, 0, 0, 0.15);\n",
              "      filter: drop-shadow(0px 1px 2px rgba(0, 0, 0, 0.3));\n",
              "      fill: #FFFFFF;\n",
              "    }\n",
              "  </style>\n",
              "\n",
              "      <script>\n",
              "        const buttonEl =\n",
              "          document.querySelector('#df-26db53d5-438d-4b61-8f95-824460629425 button.colab-df-convert');\n",
              "        buttonEl.style.display =\n",
              "          google.colab.kernel.accessAllowed ? 'block' : 'none';\n",
              "\n",
              "        async function convertToInteractive(key) {\n",
              "          const element = document.querySelector('#df-26db53d5-438d-4b61-8f95-824460629425');\n",
              "          const dataTable =\n",
              "            await google.colab.kernel.invokeFunction('convertToInteractive',\n",
              "                                                     [key], {});\n",
              "          if (!dataTable) return;\n",
              "\n",
              "          const docLinkHtml = 'Like what you see? Visit the ' +\n",
              "            '<a target=\"_blank\" href=https://colab.research.google.com/notebooks/data_table.ipynb>data table notebook</a>'\n",
              "            + ' to learn more about interactive tables.';\n",
              "          element.innerHTML = '';\n",
              "          dataTable['output_type'] = 'display_data';\n",
              "          await google.colab.output.renderOutput(dataTable, element);\n",
              "          const docLink = document.createElement('div');\n",
              "          docLink.innerHTML = docLinkHtml;\n",
              "          element.appendChild(docLink);\n",
              "        }\n",
              "      </script>\n",
              "    </div>\n",
              "  </div>\n",
              "  "
            ]
          },
          "metadata": {},
          "execution_count": 44
        }
      ]
    },
    {
      "cell_type": "code",
      "source": [
        "#adiciono las columnas con la correcta clasificacion\n",
        "stockx_df = stockx_df.assign(colaboration  =  stockx_df1['colaboration'])\n",
        "stockx_df.head(4)"
      ],
      "metadata": {
        "colab": {
          "base_uri": "https://localhost:8080/",
          "height": 174
        },
        "id": "-2vjdZex6-76",
        "outputId": "1419ab29-acbe-4c8a-db54-4dbe7e48ec73"
      },
      "execution_count": null,
      "outputs": [
        {
          "output_type": "execute_result",
          "data": {
            "text/plain": [
              "  order_date   brand                                 sneaker_name  sale_price  \\\n",
              "0 2017-09-01   Yeezy         ADIDAS-YEEZY-BOOST-350-LOW-V2-BELUGA        1097   \n",
              "1 2017-09-01   Yeezy  ADIDAS-YEEZY-BOOST-350-V2-CORE-BLACK-COPPER         685   \n",
              "2 2017-09-01   Yeezy   ADIDAS-YEEZY-BOOST-350-V2-CORE-BLACK-GREEN         690   \n",
              "3 2017-09-01   Yeezy     ADIDAS-YEEZY-BOOST-350-V2-CORE-BLACK-RED        1075   \n",
              "\n",
              "   retail_price release_date  shoe_size buyer_region  brand1 colaboration  \n",
              "0           220   2016-09-24       11.0   California  ADIDAS        YEEZY  \n",
              "1           220   2016-11-23       11.0   California  ADIDAS        YEEZY  \n",
              "2           220   2016-11-23       11.0   California  ADIDAS        YEEZY  \n",
              "3           220   2016-11-23       11.5     Kentucky  ADIDAS        YEEZY  "
            ],
            "text/html": [
              "\n",
              "  <div id=\"df-3efbbef9-b4b9-4ebf-baa9-3d3d2ff73bcb\">\n",
              "    <div class=\"colab-df-container\">\n",
              "      <div>\n",
              "<style scoped>\n",
              "    .dataframe tbody tr th:only-of-type {\n",
              "        vertical-align: middle;\n",
              "    }\n",
              "\n",
              "    .dataframe tbody tr th {\n",
              "        vertical-align: top;\n",
              "    }\n",
              "\n",
              "    .dataframe thead th {\n",
              "        text-align: right;\n",
              "    }\n",
              "</style>\n",
              "<table border=\"1\" class=\"dataframe\">\n",
              "  <thead>\n",
              "    <tr style=\"text-align: right;\">\n",
              "      <th></th>\n",
              "      <th>order_date</th>\n",
              "      <th>brand</th>\n",
              "      <th>sneaker_name</th>\n",
              "      <th>sale_price</th>\n",
              "      <th>retail_price</th>\n",
              "      <th>release_date</th>\n",
              "      <th>shoe_size</th>\n",
              "      <th>buyer_region</th>\n",
              "      <th>brand1</th>\n",
              "      <th>colaboration</th>\n",
              "    </tr>\n",
              "  </thead>\n",
              "  <tbody>\n",
              "    <tr>\n",
              "      <th>0</th>\n",
              "      <td>2017-09-01</td>\n",
              "      <td>Yeezy</td>\n",
              "      <td>ADIDAS-YEEZY-BOOST-350-LOW-V2-BELUGA</td>\n",
              "      <td>1097</td>\n",
              "      <td>220</td>\n",
              "      <td>2016-09-24</td>\n",
              "      <td>11.0</td>\n",
              "      <td>California</td>\n",
              "      <td>ADIDAS</td>\n",
              "      <td>YEEZY</td>\n",
              "    </tr>\n",
              "    <tr>\n",
              "      <th>1</th>\n",
              "      <td>2017-09-01</td>\n",
              "      <td>Yeezy</td>\n",
              "      <td>ADIDAS-YEEZY-BOOST-350-V2-CORE-BLACK-COPPER</td>\n",
              "      <td>685</td>\n",
              "      <td>220</td>\n",
              "      <td>2016-11-23</td>\n",
              "      <td>11.0</td>\n",
              "      <td>California</td>\n",
              "      <td>ADIDAS</td>\n",
              "      <td>YEEZY</td>\n",
              "    </tr>\n",
              "    <tr>\n",
              "      <th>2</th>\n",
              "      <td>2017-09-01</td>\n",
              "      <td>Yeezy</td>\n",
              "      <td>ADIDAS-YEEZY-BOOST-350-V2-CORE-BLACK-GREEN</td>\n",
              "      <td>690</td>\n",
              "      <td>220</td>\n",
              "      <td>2016-11-23</td>\n",
              "      <td>11.0</td>\n",
              "      <td>California</td>\n",
              "      <td>ADIDAS</td>\n",
              "      <td>YEEZY</td>\n",
              "    </tr>\n",
              "    <tr>\n",
              "      <th>3</th>\n",
              "      <td>2017-09-01</td>\n",
              "      <td>Yeezy</td>\n",
              "      <td>ADIDAS-YEEZY-BOOST-350-V2-CORE-BLACK-RED</td>\n",
              "      <td>1075</td>\n",
              "      <td>220</td>\n",
              "      <td>2016-11-23</td>\n",
              "      <td>11.5</td>\n",
              "      <td>Kentucky</td>\n",
              "      <td>ADIDAS</td>\n",
              "      <td>YEEZY</td>\n",
              "    </tr>\n",
              "  </tbody>\n",
              "</table>\n",
              "</div>\n",
              "      <button class=\"colab-df-convert\" onclick=\"convertToInteractive('df-3efbbef9-b4b9-4ebf-baa9-3d3d2ff73bcb')\"\n",
              "              title=\"Convert this dataframe to an interactive table.\"\n",
              "              style=\"display:none;\">\n",
              "        \n",
              "  <svg xmlns=\"http://www.w3.org/2000/svg\" height=\"24px\"viewBox=\"0 0 24 24\"\n",
              "       width=\"24px\">\n",
              "    <path d=\"M0 0h24v24H0V0z\" fill=\"none\"/>\n",
              "    <path d=\"M18.56 5.44l.94 2.06.94-2.06 2.06-.94-2.06-.94-.94-2.06-.94 2.06-2.06.94zm-11 1L8.5 8.5l.94-2.06 2.06-.94-2.06-.94L8.5 2.5l-.94 2.06-2.06.94zm10 10l.94 2.06.94-2.06 2.06-.94-2.06-.94-.94-2.06-.94 2.06-2.06.94z\"/><path d=\"M17.41 7.96l-1.37-1.37c-.4-.4-.92-.59-1.43-.59-.52 0-1.04.2-1.43.59L10.3 9.45l-7.72 7.72c-.78.78-.78 2.05 0 2.83L4 21.41c.39.39.9.59 1.41.59.51 0 1.02-.2 1.41-.59l7.78-7.78 2.81-2.81c.8-.78.8-2.07 0-2.86zM5.41 20L4 18.59l7.72-7.72 1.47 1.35L5.41 20z\"/>\n",
              "  </svg>\n",
              "      </button>\n",
              "      \n",
              "  <style>\n",
              "    .colab-df-container {\n",
              "      display:flex;\n",
              "      flex-wrap:wrap;\n",
              "      gap: 12px;\n",
              "    }\n",
              "\n",
              "    .colab-df-convert {\n",
              "      background-color: #E8F0FE;\n",
              "      border: none;\n",
              "      border-radius: 50%;\n",
              "      cursor: pointer;\n",
              "      display: none;\n",
              "      fill: #1967D2;\n",
              "      height: 32px;\n",
              "      padding: 0 0 0 0;\n",
              "      width: 32px;\n",
              "    }\n",
              "\n",
              "    .colab-df-convert:hover {\n",
              "      background-color: #E2EBFA;\n",
              "      box-shadow: 0px 1px 2px rgba(60, 64, 67, 0.3), 0px 1px 3px 1px rgba(60, 64, 67, 0.15);\n",
              "      fill: #174EA6;\n",
              "    }\n",
              "\n",
              "    [theme=dark] .colab-df-convert {\n",
              "      background-color: #3B4455;\n",
              "      fill: #D2E3FC;\n",
              "    }\n",
              "\n",
              "    [theme=dark] .colab-df-convert:hover {\n",
              "      background-color: #434B5C;\n",
              "      box-shadow: 0px 1px 3px 1px rgba(0, 0, 0, 0.15);\n",
              "      filter: drop-shadow(0px 1px 2px rgba(0, 0, 0, 0.3));\n",
              "      fill: #FFFFFF;\n",
              "    }\n",
              "  </style>\n",
              "\n",
              "      <script>\n",
              "        const buttonEl =\n",
              "          document.querySelector('#df-3efbbef9-b4b9-4ebf-baa9-3d3d2ff73bcb button.colab-df-convert');\n",
              "        buttonEl.style.display =\n",
              "          google.colab.kernel.accessAllowed ? 'block' : 'none';\n",
              "\n",
              "        async function convertToInteractive(key) {\n",
              "          const element = document.querySelector('#df-3efbbef9-b4b9-4ebf-baa9-3d3d2ff73bcb');\n",
              "          const dataTable =\n",
              "            await google.colab.kernel.invokeFunction('convertToInteractive',\n",
              "                                                     [key], {});\n",
              "          if (!dataTable) return;\n",
              "\n",
              "          const docLinkHtml = 'Like what you see? Visit the ' +\n",
              "            '<a target=\"_blank\" href=https://colab.research.google.com/notebooks/data_table.ipynb>data table notebook</a>'\n",
              "            + ' to learn more about interactive tables.';\n",
              "          element.innerHTML = '';\n",
              "          dataTable['output_type'] = 'display_data';\n",
              "          await google.colab.output.renderOutput(dataTable, element);\n",
              "          const docLink = document.createElement('div');\n",
              "          docLink.innerHTML = docLinkHtml;\n",
              "          element.appendChild(docLink);\n",
              "        }\n",
              "      </script>\n",
              "    </div>\n",
              "  </div>\n",
              "  "
            ]
          },
          "metadata": {},
          "execution_count": 45
        }
      ]
    },
    {
      "cell_type": "code",
      "source": [
        "#adiciono las columnas con la correcta clasificacion\n",
        "stockx_df = stockx_df.assign(silhouette  =  stockx_df1['silhouette'])\n",
        "stockx_df.head(4)"
      ],
      "metadata": {
        "colab": {
          "base_uri": "https://localhost:8080/",
          "height": 174
        },
        "id": "cqxPVF6y7MpS",
        "outputId": "427a9f49-2eed-4041-ce57-9b1b43cefb69"
      },
      "execution_count": null,
      "outputs": [
        {
          "output_type": "execute_result",
          "data": {
            "text/plain": [
              "  order_date   brand                                 sneaker_name  sale_price  \\\n",
              "0 2017-09-01   Yeezy         ADIDAS-YEEZY-BOOST-350-LOW-V2-BELUGA        1097   \n",
              "1 2017-09-01   Yeezy  ADIDAS-YEEZY-BOOST-350-V2-CORE-BLACK-COPPER         685   \n",
              "2 2017-09-01   Yeezy   ADIDAS-YEEZY-BOOST-350-V2-CORE-BLACK-GREEN         690   \n",
              "3 2017-09-01   Yeezy     ADIDAS-YEEZY-BOOST-350-V2-CORE-BLACK-RED        1075   \n",
              "\n",
              "   retail_price release_date  shoe_size buyer_region  brand1 colaboration  \\\n",
              "0           220   2016-09-24       11.0   California  ADIDAS        YEEZY   \n",
              "1           220   2016-11-23       11.0   California  ADIDAS        YEEZY   \n",
              "2           220   2016-11-23       11.0   California  ADIDAS        YEEZY   \n",
              "3           220   2016-11-23       11.5     Kentucky  ADIDAS        YEEZY   \n",
              "\n",
              "  silhouette  \n",
              "0  BOSST 350  \n",
              "1  BOSST 350  \n",
              "2  BOSST 350  \n",
              "3  BOSST 350  "
            ],
            "text/html": [
              "\n",
              "  <div id=\"df-a4e1fdd6-9aad-42e5-aa5d-e2ad7add7568\">\n",
              "    <div class=\"colab-df-container\">\n",
              "      <div>\n",
              "<style scoped>\n",
              "    .dataframe tbody tr th:only-of-type {\n",
              "        vertical-align: middle;\n",
              "    }\n",
              "\n",
              "    .dataframe tbody tr th {\n",
              "        vertical-align: top;\n",
              "    }\n",
              "\n",
              "    .dataframe thead th {\n",
              "        text-align: right;\n",
              "    }\n",
              "</style>\n",
              "<table border=\"1\" class=\"dataframe\">\n",
              "  <thead>\n",
              "    <tr style=\"text-align: right;\">\n",
              "      <th></th>\n",
              "      <th>order_date</th>\n",
              "      <th>brand</th>\n",
              "      <th>sneaker_name</th>\n",
              "      <th>sale_price</th>\n",
              "      <th>retail_price</th>\n",
              "      <th>release_date</th>\n",
              "      <th>shoe_size</th>\n",
              "      <th>buyer_region</th>\n",
              "      <th>brand1</th>\n",
              "      <th>colaboration</th>\n",
              "      <th>silhouette</th>\n",
              "    </tr>\n",
              "  </thead>\n",
              "  <tbody>\n",
              "    <tr>\n",
              "      <th>0</th>\n",
              "      <td>2017-09-01</td>\n",
              "      <td>Yeezy</td>\n",
              "      <td>ADIDAS-YEEZY-BOOST-350-LOW-V2-BELUGA</td>\n",
              "      <td>1097</td>\n",
              "      <td>220</td>\n",
              "      <td>2016-09-24</td>\n",
              "      <td>11.0</td>\n",
              "      <td>California</td>\n",
              "      <td>ADIDAS</td>\n",
              "      <td>YEEZY</td>\n",
              "      <td>BOSST 350</td>\n",
              "    </tr>\n",
              "    <tr>\n",
              "      <th>1</th>\n",
              "      <td>2017-09-01</td>\n",
              "      <td>Yeezy</td>\n",
              "      <td>ADIDAS-YEEZY-BOOST-350-V2-CORE-BLACK-COPPER</td>\n",
              "      <td>685</td>\n",
              "      <td>220</td>\n",
              "      <td>2016-11-23</td>\n",
              "      <td>11.0</td>\n",
              "      <td>California</td>\n",
              "      <td>ADIDAS</td>\n",
              "      <td>YEEZY</td>\n",
              "      <td>BOSST 350</td>\n",
              "    </tr>\n",
              "    <tr>\n",
              "      <th>2</th>\n",
              "      <td>2017-09-01</td>\n",
              "      <td>Yeezy</td>\n",
              "      <td>ADIDAS-YEEZY-BOOST-350-V2-CORE-BLACK-GREEN</td>\n",
              "      <td>690</td>\n",
              "      <td>220</td>\n",
              "      <td>2016-11-23</td>\n",
              "      <td>11.0</td>\n",
              "      <td>California</td>\n",
              "      <td>ADIDAS</td>\n",
              "      <td>YEEZY</td>\n",
              "      <td>BOSST 350</td>\n",
              "    </tr>\n",
              "    <tr>\n",
              "      <th>3</th>\n",
              "      <td>2017-09-01</td>\n",
              "      <td>Yeezy</td>\n",
              "      <td>ADIDAS-YEEZY-BOOST-350-V2-CORE-BLACK-RED</td>\n",
              "      <td>1075</td>\n",
              "      <td>220</td>\n",
              "      <td>2016-11-23</td>\n",
              "      <td>11.5</td>\n",
              "      <td>Kentucky</td>\n",
              "      <td>ADIDAS</td>\n",
              "      <td>YEEZY</td>\n",
              "      <td>BOSST 350</td>\n",
              "    </tr>\n",
              "  </tbody>\n",
              "</table>\n",
              "</div>\n",
              "      <button class=\"colab-df-convert\" onclick=\"convertToInteractive('df-a4e1fdd6-9aad-42e5-aa5d-e2ad7add7568')\"\n",
              "              title=\"Convert this dataframe to an interactive table.\"\n",
              "              style=\"display:none;\">\n",
              "        \n",
              "  <svg xmlns=\"http://www.w3.org/2000/svg\" height=\"24px\"viewBox=\"0 0 24 24\"\n",
              "       width=\"24px\">\n",
              "    <path d=\"M0 0h24v24H0V0z\" fill=\"none\"/>\n",
              "    <path d=\"M18.56 5.44l.94 2.06.94-2.06 2.06-.94-2.06-.94-.94-2.06-.94 2.06-2.06.94zm-11 1L8.5 8.5l.94-2.06 2.06-.94-2.06-.94L8.5 2.5l-.94 2.06-2.06.94zm10 10l.94 2.06.94-2.06 2.06-.94-2.06-.94-.94-2.06-.94 2.06-2.06.94z\"/><path d=\"M17.41 7.96l-1.37-1.37c-.4-.4-.92-.59-1.43-.59-.52 0-1.04.2-1.43.59L10.3 9.45l-7.72 7.72c-.78.78-.78 2.05 0 2.83L4 21.41c.39.39.9.59 1.41.59.51 0 1.02-.2 1.41-.59l7.78-7.78 2.81-2.81c.8-.78.8-2.07 0-2.86zM5.41 20L4 18.59l7.72-7.72 1.47 1.35L5.41 20z\"/>\n",
              "  </svg>\n",
              "      </button>\n",
              "      \n",
              "  <style>\n",
              "    .colab-df-container {\n",
              "      display:flex;\n",
              "      flex-wrap:wrap;\n",
              "      gap: 12px;\n",
              "    }\n",
              "\n",
              "    .colab-df-convert {\n",
              "      background-color: #E8F0FE;\n",
              "      border: none;\n",
              "      border-radius: 50%;\n",
              "      cursor: pointer;\n",
              "      display: none;\n",
              "      fill: #1967D2;\n",
              "      height: 32px;\n",
              "      padding: 0 0 0 0;\n",
              "      width: 32px;\n",
              "    }\n",
              "\n",
              "    .colab-df-convert:hover {\n",
              "      background-color: #E2EBFA;\n",
              "      box-shadow: 0px 1px 2px rgba(60, 64, 67, 0.3), 0px 1px 3px 1px rgba(60, 64, 67, 0.15);\n",
              "      fill: #174EA6;\n",
              "    }\n",
              "\n",
              "    [theme=dark] .colab-df-convert {\n",
              "      background-color: #3B4455;\n",
              "      fill: #D2E3FC;\n",
              "    }\n",
              "\n",
              "    [theme=dark] .colab-df-convert:hover {\n",
              "      background-color: #434B5C;\n",
              "      box-shadow: 0px 1px 3px 1px rgba(0, 0, 0, 0.15);\n",
              "      filter: drop-shadow(0px 1px 2px rgba(0, 0, 0, 0.3));\n",
              "      fill: #FFFFFF;\n",
              "    }\n",
              "  </style>\n",
              "\n",
              "      <script>\n",
              "        const buttonEl =\n",
              "          document.querySelector('#df-a4e1fdd6-9aad-42e5-aa5d-e2ad7add7568 button.colab-df-convert');\n",
              "        buttonEl.style.display =\n",
              "          google.colab.kernel.accessAllowed ? 'block' : 'none';\n",
              "\n",
              "        async function convertToInteractive(key) {\n",
              "          const element = document.querySelector('#df-a4e1fdd6-9aad-42e5-aa5d-e2ad7add7568');\n",
              "          const dataTable =\n",
              "            await google.colab.kernel.invokeFunction('convertToInteractive',\n",
              "                                                     [key], {});\n",
              "          if (!dataTable) return;\n",
              "\n",
              "          const docLinkHtml = 'Like what you see? Visit the ' +\n",
              "            '<a target=\"_blank\" href=https://colab.research.google.com/notebooks/data_table.ipynb>data table notebook</a>'\n",
              "            + ' to learn more about interactive tables.';\n",
              "          element.innerHTML = '';\n",
              "          dataTable['output_type'] = 'display_data';\n",
              "          await google.colab.output.renderOutput(dataTable, element);\n",
              "          const docLink = document.createElement('div');\n",
              "          docLink.innerHTML = docLinkHtml;\n",
              "          element.appendChild(docLink);\n",
              "        }\n",
              "      </script>\n",
              "    </div>\n",
              "  </div>\n",
              "  "
            ]
          },
          "metadata": {},
          "execution_count": 46
        }
      ]
    },
    {
      "cell_type": "code",
      "source": [
        "#creao una columna para la creacion de los dias que se mantienen en stock los zapatos \n",
        "stockx_df = stockx_df.assign(stock_rotation  =  stockx_df['order_date']-stockx_df['release_date'])\n",
        "stockx_df.head(4)"
      ],
      "metadata": {
        "colab": {
          "base_uri": "https://localhost:8080/",
          "height": 236
        },
        "id": "ODV-8Oke7XDM",
        "outputId": "fb4d3fb1-8376-4406-fa5b-8796802340a1"
      },
      "execution_count": null,
      "outputs": [
        {
          "output_type": "execute_result",
          "data": {
            "text/plain": [
              "  order_date   brand                                 sneaker_name  sale_price  \\\n",
              "0 2017-09-01   Yeezy         ADIDAS-YEEZY-BOOST-350-LOW-V2-BELUGA        1097   \n",
              "1 2017-09-01   Yeezy  ADIDAS-YEEZY-BOOST-350-V2-CORE-BLACK-COPPER         685   \n",
              "2 2017-09-01   Yeezy   ADIDAS-YEEZY-BOOST-350-V2-CORE-BLACK-GREEN         690   \n",
              "3 2017-09-01   Yeezy     ADIDAS-YEEZY-BOOST-350-V2-CORE-BLACK-RED        1075   \n",
              "\n",
              "   retail_price release_date  shoe_size buyer_region  brand1 colaboration  \\\n",
              "0           220   2016-09-24       11.0   California  ADIDAS        YEEZY   \n",
              "1           220   2016-11-23       11.0   California  ADIDAS        YEEZY   \n",
              "2           220   2016-11-23       11.0   California  ADIDAS        YEEZY   \n",
              "3           220   2016-11-23       11.5     Kentucky  ADIDAS        YEEZY   \n",
              "\n",
              "  silhouette stock_rotation  \n",
              "0  BOSST 350       342 days  \n",
              "1  BOSST 350       282 days  \n",
              "2  BOSST 350       282 days  \n",
              "3  BOSST 350       282 days  "
            ],
            "text/html": [
              "\n",
              "  <div id=\"df-d79fe9a3-c52c-4a4f-ab93-9a8673c3c113\">\n",
              "    <div class=\"colab-df-container\">\n",
              "      <div>\n",
              "<style scoped>\n",
              "    .dataframe tbody tr th:only-of-type {\n",
              "        vertical-align: middle;\n",
              "    }\n",
              "\n",
              "    .dataframe tbody tr th {\n",
              "        vertical-align: top;\n",
              "    }\n",
              "\n",
              "    .dataframe thead th {\n",
              "        text-align: right;\n",
              "    }\n",
              "</style>\n",
              "<table border=\"1\" class=\"dataframe\">\n",
              "  <thead>\n",
              "    <tr style=\"text-align: right;\">\n",
              "      <th></th>\n",
              "      <th>order_date</th>\n",
              "      <th>brand</th>\n",
              "      <th>sneaker_name</th>\n",
              "      <th>sale_price</th>\n",
              "      <th>retail_price</th>\n",
              "      <th>release_date</th>\n",
              "      <th>shoe_size</th>\n",
              "      <th>buyer_region</th>\n",
              "      <th>brand1</th>\n",
              "      <th>colaboration</th>\n",
              "      <th>silhouette</th>\n",
              "      <th>stock_rotation</th>\n",
              "    </tr>\n",
              "  </thead>\n",
              "  <tbody>\n",
              "    <tr>\n",
              "      <th>0</th>\n",
              "      <td>2017-09-01</td>\n",
              "      <td>Yeezy</td>\n",
              "      <td>ADIDAS-YEEZY-BOOST-350-LOW-V2-BELUGA</td>\n",
              "      <td>1097</td>\n",
              "      <td>220</td>\n",
              "      <td>2016-09-24</td>\n",
              "      <td>11.0</td>\n",
              "      <td>California</td>\n",
              "      <td>ADIDAS</td>\n",
              "      <td>YEEZY</td>\n",
              "      <td>BOSST 350</td>\n",
              "      <td>342 days</td>\n",
              "    </tr>\n",
              "    <tr>\n",
              "      <th>1</th>\n",
              "      <td>2017-09-01</td>\n",
              "      <td>Yeezy</td>\n",
              "      <td>ADIDAS-YEEZY-BOOST-350-V2-CORE-BLACK-COPPER</td>\n",
              "      <td>685</td>\n",
              "      <td>220</td>\n",
              "      <td>2016-11-23</td>\n",
              "      <td>11.0</td>\n",
              "      <td>California</td>\n",
              "      <td>ADIDAS</td>\n",
              "      <td>YEEZY</td>\n",
              "      <td>BOSST 350</td>\n",
              "      <td>282 days</td>\n",
              "    </tr>\n",
              "    <tr>\n",
              "      <th>2</th>\n",
              "      <td>2017-09-01</td>\n",
              "      <td>Yeezy</td>\n",
              "      <td>ADIDAS-YEEZY-BOOST-350-V2-CORE-BLACK-GREEN</td>\n",
              "      <td>690</td>\n",
              "      <td>220</td>\n",
              "      <td>2016-11-23</td>\n",
              "      <td>11.0</td>\n",
              "      <td>California</td>\n",
              "      <td>ADIDAS</td>\n",
              "      <td>YEEZY</td>\n",
              "      <td>BOSST 350</td>\n",
              "      <td>282 days</td>\n",
              "    </tr>\n",
              "    <tr>\n",
              "      <th>3</th>\n",
              "      <td>2017-09-01</td>\n",
              "      <td>Yeezy</td>\n",
              "      <td>ADIDAS-YEEZY-BOOST-350-V2-CORE-BLACK-RED</td>\n",
              "      <td>1075</td>\n",
              "      <td>220</td>\n",
              "      <td>2016-11-23</td>\n",
              "      <td>11.5</td>\n",
              "      <td>Kentucky</td>\n",
              "      <td>ADIDAS</td>\n",
              "      <td>YEEZY</td>\n",
              "      <td>BOSST 350</td>\n",
              "      <td>282 days</td>\n",
              "    </tr>\n",
              "  </tbody>\n",
              "</table>\n",
              "</div>\n",
              "      <button class=\"colab-df-convert\" onclick=\"convertToInteractive('df-d79fe9a3-c52c-4a4f-ab93-9a8673c3c113')\"\n",
              "              title=\"Convert this dataframe to an interactive table.\"\n",
              "              style=\"display:none;\">\n",
              "        \n",
              "  <svg xmlns=\"http://www.w3.org/2000/svg\" height=\"24px\"viewBox=\"0 0 24 24\"\n",
              "       width=\"24px\">\n",
              "    <path d=\"M0 0h24v24H0V0z\" fill=\"none\"/>\n",
              "    <path d=\"M18.56 5.44l.94 2.06.94-2.06 2.06-.94-2.06-.94-.94-2.06-.94 2.06-2.06.94zm-11 1L8.5 8.5l.94-2.06 2.06-.94-2.06-.94L8.5 2.5l-.94 2.06-2.06.94zm10 10l.94 2.06.94-2.06 2.06-.94-2.06-.94-.94-2.06-.94 2.06-2.06.94z\"/><path d=\"M17.41 7.96l-1.37-1.37c-.4-.4-.92-.59-1.43-.59-.52 0-1.04.2-1.43.59L10.3 9.45l-7.72 7.72c-.78.78-.78 2.05 0 2.83L4 21.41c.39.39.9.59 1.41.59.51 0 1.02-.2 1.41-.59l7.78-7.78 2.81-2.81c.8-.78.8-2.07 0-2.86zM5.41 20L4 18.59l7.72-7.72 1.47 1.35L5.41 20z\"/>\n",
              "  </svg>\n",
              "      </button>\n",
              "      \n",
              "  <style>\n",
              "    .colab-df-container {\n",
              "      display:flex;\n",
              "      flex-wrap:wrap;\n",
              "      gap: 12px;\n",
              "    }\n",
              "\n",
              "    .colab-df-convert {\n",
              "      background-color: #E8F0FE;\n",
              "      border: none;\n",
              "      border-radius: 50%;\n",
              "      cursor: pointer;\n",
              "      display: none;\n",
              "      fill: #1967D2;\n",
              "      height: 32px;\n",
              "      padding: 0 0 0 0;\n",
              "      width: 32px;\n",
              "    }\n",
              "\n",
              "    .colab-df-convert:hover {\n",
              "      background-color: #E2EBFA;\n",
              "      box-shadow: 0px 1px 2px rgba(60, 64, 67, 0.3), 0px 1px 3px 1px rgba(60, 64, 67, 0.15);\n",
              "      fill: #174EA6;\n",
              "    }\n",
              "\n",
              "    [theme=dark] .colab-df-convert {\n",
              "      background-color: #3B4455;\n",
              "      fill: #D2E3FC;\n",
              "    }\n",
              "\n",
              "    [theme=dark] .colab-df-convert:hover {\n",
              "      background-color: #434B5C;\n",
              "      box-shadow: 0px 1px 3px 1px rgba(0, 0, 0, 0.15);\n",
              "      filter: drop-shadow(0px 1px 2px rgba(0, 0, 0, 0.3));\n",
              "      fill: #FFFFFF;\n",
              "    }\n",
              "  </style>\n",
              "\n",
              "      <script>\n",
              "        const buttonEl =\n",
              "          document.querySelector('#df-d79fe9a3-c52c-4a4f-ab93-9a8673c3c113 button.colab-df-convert');\n",
              "        buttonEl.style.display =\n",
              "          google.colab.kernel.accessAllowed ? 'block' : 'none';\n",
              "\n",
              "        async function convertToInteractive(key) {\n",
              "          const element = document.querySelector('#df-d79fe9a3-c52c-4a4f-ab93-9a8673c3c113');\n",
              "          const dataTable =\n",
              "            await google.colab.kernel.invokeFunction('convertToInteractive',\n",
              "                                                     [key], {});\n",
              "          if (!dataTable) return;\n",
              "\n",
              "          const docLinkHtml = 'Like what you see? Visit the ' +\n",
              "            '<a target=\"_blank\" href=https://colab.research.google.com/notebooks/data_table.ipynb>data table notebook</a>'\n",
              "            + ' to learn more about interactive tables.';\n",
              "          element.innerHTML = '';\n",
              "          dataTable['output_type'] = 'display_data';\n",
              "          await google.colab.output.renderOutput(dataTable, element);\n",
              "          const docLink = document.createElement('div');\n",
              "          docLink.innerHTML = docLinkHtml;\n",
              "          element.appendChild(docLink);\n",
              "        }\n",
              "      </script>\n",
              "    </div>\n",
              "  </div>\n",
              "  "
            ]
          },
          "metadata": {},
          "execution_count": 47
        }
      ]
    },
    {
      "cell_type": "code",
      "source": [
        "stockx_df = stockx_df.drop(columns = ['brand'])\n",
        "stockx_df.head(4)"
      ],
      "metadata": {
        "colab": {
          "base_uri": "https://localhost:8080/",
          "height": 174
        },
        "id": "pvnNbxi9-s-5",
        "outputId": "7c805f12-17a7-4722-c3f7-6bf1eaa39011"
      },
      "execution_count": null,
      "outputs": [
        {
          "output_type": "execute_result",
          "data": {
            "text/plain": [
              "  order_date                                 sneaker_name  sale_price  \\\n",
              "0 2017-09-01         ADIDAS-YEEZY-BOOST-350-LOW-V2-BELUGA        1097   \n",
              "1 2017-09-01  ADIDAS-YEEZY-BOOST-350-V2-CORE-BLACK-COPPER         685   \n",
              "2 2017-09-01   ADIDAS-YEEZY-BOOST-350-V2-CORE-BLACK-GREEN         690   \n",
              "3 2017-09-01     ADIDAS-YEEZY-BOOST-350-V2-CORE-BLACK-RED        1075   \n",
              "\n",
              "   retail_price release_date  shoe_size buyer_region  brand1 colaboration  \\\n",
              "0           220   2016-09-24       11.0   California  ADIDAS        YEEZY   \n",
              "1           220   2016-11-23       11.0   California  ADIDAS        YEEZY   \n",
              "2           220   2016-11-23       11.0   California  ADIDAS        YEEZY   \n",
              "3           220   2016-11-23       11.5     Kentucky  ADIDAS        YEEZY   \n",
              "\n",
              "  silhouette stock_rotation  \n",
              "0  BOSST 350       342 days  \n",
              "1  BOSST 350       282 days  \n",
              "2  BOSST 350       282 days  \n",
              "3  BOSST 350       282 days  "
            ],
            "text/html": [
              "\n",
              "  <div id=\"df-797163a9-5c4d-4f0d-a79f-562ab13611f2\">\n",
              "    <div class=\"colab-df-container\">\n",
              "      <div>\n",
              "<style scoped>\n",
              "    .dataframe tbody tr th:only-of-type {\n",
              "        vertical-align: middle;\n",
              "    }\n",
              "\n",
              "    .dataframe tbody tr th {\n",
              "        vertical-align: top;\n",
              "    }\n",
              "\n",
              "    .dataframe thead th {\n",
              "        text-align: right;\n",
              "    }\n",
              "</style>\n",
              "<table border=\"1\" class=\"dataframe\">\n",
              "  <thead>\n",
              "    <tr style=\"text-align: right;\">\n",
              "      <th></th>\n",
              "      <th>order_date</th>\n",
              "      <th>sneaker_name</th>\n",
              "      <th>sale_price</th>\n",
              "      <th>retail_price</th>\n",
              "      <th>release_date</th>\n",
              "      <th>shoe_size</th>\n",
              "      <th>buyer_region</th>\n",
              "      <th>brand1</th>\n",
              "      <th>colaboration</th>\n",
              "      <th>silhouette</th>\n",
              "      <th>stock_rotation</th>\n",
              "    </tr>\n",
              "  </thead>\n",
              "  <tbody>\n",
              "    <tr>\n",
              "      <th>0</th>\n",
              "      <td>2017-09-01</td>\n",
              "      <td>ADIDAS-YEEZY-BOOST-350-LOW-V2-BELUGA</td>\n",
              "      <td>1097</td>\n",
              "      <td>220</td>\n",
              "      <td>2016-09-24</td>\n",
              "      <td>11.0</td>\n",
              "      <td>California</td>\n",
              "      <td>ADIDAS</td>\n",
              "      <td>YEEZY</td>\n",
              "      <td>BOSST 350</td>\n",
              "      <td>342 days</td>\n",
              "    </tr>\n",
              "    <tr>\n",
              "      <th>1</th>\n",
              "      <td>2017-09-01</td>\n",
              "      <td>ADIDAS-YEEZY-BOOST-350-V2-CORE-BLACK-COPPER</td>\n",
              "      <td>685</td>\n",
              "      <td>220</td>\n",
              "      <td>2016-11-23</td>\n",
              "      <td>11.0</td>\n",
              "      <td>California</td>\n",
              "      <td>ADIDAS</td>\n",
              "      <td>YEEZY</td>\n",
              "      <td>BOSST 350</td>\n",
              "      <td>282 days</td>\n",
              "    </tr>\n",
              "    <tr>\n",
              "      <th>2</th>\n",
              "      <td>2017-09-01</td>\n",
              "      <td>ADIDAS-YEEZY-BOOST-350-V2-CORE-BLACK-GREEN</td>\n",
              "      <td>690</td>\n",
              "      <td>220</td>\n",
              "      <td>2016-11-23</td>\n",
              "      <td>11.0</td>\n",
              "      <td>California</td>\n",
              "      <td>ADIDAS</td>\n",
              "      <td>YEEZY</td>\n",
              "      <td>BOSST 350</td>\n",
              "      <td>282 days</td>\n",
              "    </tr>\n",
              "    <tr>\n",
              "      <th>3</th>\n",
              "      <td>2017-09-01</td>\n",
              "      <td>ADIDAS-YEEZY-BOOST-350-V2-CORE-BLACK-RED</td>\n",
              "      <td>1075</td>\n",
              "      <td>220</td>\n",
              "      <td>2016-11-23</td>\n",
              "      <td>11.5</td>\n",
              "      <td>Kentucky</td>\n",
              "      <td>ADIDAS</td>\n",
              "      <td>YEEZY</td>\n",
              "      <td>BOSST 350</td>\n",
              "      <td>282 days</td>\n",
              "    </tr>\n",
              "  </tbody>\n",
              "</table>\n",
              "</div>\n",
              "      <button class=\"colab-df-convert\" onclick=\"convertToInteractive('df-797163a9-5c4d-4f0d-a79f-562ab13611f2')\"\n",
              "              title=\"Convert this dataframe to an interactive table.\"\n",
              "              style=\"display:none;\">\n",
              "        \n",
              "  <svg xmlns=\"http://www.w3.org/2000/svg\" height=\"24px\"viewBox=\"0 0 24 24\"\n",
              "       width=\"24px\">\n",
              "    <path d=\"M0 0h24v24H0V0z\" fill=\"none\"/>\n",
              "    <path d=\"M18.56 5.44l.94 2.06.94-2.06 2.06-.94-2.06-.94-.94-2.06-.94 2.06-2.06.94zm-11 1L8.5 8.5l.94-2.06 2.06-.94-2.06-.94L8.5 2.5l-.94 2.06-2.06.94zm10 10l.94 2.06.94-2.06 2.06-.94-2.06-.94-.94-2.06-.94 2.06-2.06.94z\"/><path d=\"M17.41 7.96l-1.37-1.37c-.4-.4-.92-.59-1.43-.59-.52 0-1.04.2-1.43.59L10.3 9.45l-7.72 7.72c-.78.78-.78 2.05 0 2.83L4 21.41c.39.39.9.59 1.41.59.51 0 1.02-.2 1.41-.59l7.78-7.78 2.81-2.81c.8-.78.8-2.07 0-2.86zM5.41 20L4 18.59l7.72-7.72 1.47 1.35L5.41 20z\"/>\n",
              "  </svg>\n",
              "      </button>\n",
              "      \n",
              "  <style>\n",
              "    .colab-df-container {\n",
              "      display:flex;\n",
              "      flex-wrap:wrap;\n",
              "      gap: 12px;\n",
              "    }\n",
              "\n",
              "    .colab-df-convert {\n",
              "      background-color: #E8F0FE;\n",
              "      border: none;\n",
              "      border-radius: 50%;\n",
              "      cursor: pointer;\n",
              "      display: none;\n",
              "      fill: #1967D2;\n",
              "      height: 32px;\n",
              "      padding: 0 0 0 0;\n",
              "      width: 32px;\n",
              "    }\n",
              "\n",
              "    .colab-df-convert:hover {\n",
              "      background-color: #E2EBFA;\n",
              "      box-shadow: 0px 1px 2px rgba(60, 64, 67, 0.3), 0px 1px 3px 1px rgba(60, 64, 67, 0.15);\n",
              "      fill: #174EA6;\n",
              "    }\n",
              "\n",
              "    [theme=dark] .colab-df-convert {\n",
              "      background-color: #3B4455;\n",
              "      fill: #D2E3FC;\n",
              "    }\n",
              "\n",
              "    [theme=dark] .colab-df-convert:hover {\n",
              "      background-color: #434B5C;\n",
              "      box-shadow: 0px 1px 3px 1px rgba(0, 0, 0, 0.15);\n",
              "      filter: drop-shadow(0px 1px 2px rgba(0, 0, 0, 0.3));\n",
              "      fill: #FFFFFF;\n",
              "    }\n",
              "  </style>\n",
              "\n",
              "      <script>\n",
              "        const buttonEl =\n",
              "          document.querySelector('#df-797163a9-5c4d-4f0d-a79f-562ab13611f2 button.colab-df-convert');\n",
              "        buttonEl.style.display =\n",
              "          google.colab.kernel.accessAllowed ? 'block' : 'none';\n",
              "\n",
              "        async function convertToInteractive(key) {\n",
              "          const element = document.querySelector('#df-797163a9-5c4d-4f0d-a79f-562ab13611f2');\n",
              "          const dataTable =\n",
              "            await google.colab.kernel.invokeFunction('convertToInteractive',\n",
              "                                                     [key], {});\n",
              "          if (!dataTable) return;\n",
              "\n",
              "          const docLinkHtml = 'Like what you see? Visit the ' +\n",
              "            '<a target=\"_blank\" href=https://colab.research.google.com/notebooks/data_table.ipynb>data table notebook</a>'\n",
              "            + ' to learn more about interactive tables.';\n",
              "          element.innerHTML = '';\n",
              "          dataTable['output_type'] = 'display_data';\n",
              "          await google.colab.output.renderOutput(dataTable, element);\n",
              "          const docLink = document.createElement('div');\n",
              "          docLink.innerHTML = docLinkHtml;\n",
              "          element.appendChild(docLink);\n",
              "        }\n",
              "      </script>\n",
              "    </div>\n",
              "  </div>\n",
              "  "
            ]
          },
          "metadata": {},
          "execution_count": 48
        }
      ]
    },
    {
      "cell_type": "code",
      "source": [
        "stockx_df.info()"
      ],
      "metadata": {
        "colab": {
          "base_uri": "https://localhost:8080/"
        },
        "id": "yBGLlsx28nAF",
        "outputId": "6f79e504-4b88-4354-fa23-e637f8bc8067"
      },
      "execution_count": null,
      "outputs": [
        {
          "output_type": "stream",
          "name": "stdout",
          "text": [
            "<class 'pandas.core.frame.DataFrame'>\n",
            "RangeIndex: 99956 entries, 0 to 99955\n",
            "Data columns (total 11 columns):\n",
            " #   Column          Non-Null Count  Dtype          \n",
            "---  ------          --------------  -----          \n",
            " 0   order_date      99956 non-null  datetime64[ns] \n",
            " 1   sneaker_name    99956 non-null  category       \n",
            " 2   sale_price      99956 non-null  int64          \n",
            " 3   retail_price    99956 non-null  int64          \n",
            " 4   release_date    99956 non-null  datetime64[ns] \n",
            " 5   shoe_size       99956 non-null  float64        \n",
            " 6   buyer_region    99956 non-null  category       \n",
            " 7   brand1          99956 non-null  object         \n",
            " 8   colaboration    99956 non-null  object         \n",
            " 9   silhouette      99956 non-null  object         \n",
            " 10  stock_rotation  99956 non-null  timedelta64[ns]\n",
            "dtypes: category(2), datetime64[ns](2), float64(1), int64(2), object(3), timedelta64[ns](1)\n",
            "memory usage: 7.1+ MB\n"
          ]
        }
      ]
    },
    {
      "cell_type": "code",
      "source": [
        "#en el siguiente codigo divido mi fecha por dia, mes, año, hora y minuto mediante los codigos sugeridos por la pagina \n",
        "# https://www.projectpro.io/recipes/split-datetime-data-create-multiple-feature-in-python ademas para obtener el nombre del dia de la semana ocupo los codigos\n",
        "#que has sido subidos en la pagina https://es.acervolima.com/obtener-dia-a-partir-de-la-fecha-en-pandas-python/\n",
        "stockx_df['day'] = stockx_df['order_date'].dt.day\n",
        "stockx_df['month'] = stockx_df['order_date'].dt.month\n",
        "stockx_df['year'] = stockx_df['order_date'].dt.year\n",
        "stockx_df['day_of_week'] = stockx_df['order_date'].dt.dayofweek\n",
        "stockx_df['name_day'] = stockx_df['order_date'].dt.day_name()"
      ],
      "metadata": {
        "id": "d_UyjIVK-lNP"
      },
      "execution_count": null,
      "outputs": []
    },
    {
      "cell_type": "code",
      "source": [
        "stockx_df.info()"
      ],
      "metadata": {
        "colab": {
          "base_uri": "https://localhost:8080/"
        },
        "id": "FqFhmtKeBvWl",
        "outputId": "d2a16a24-dff8-46ae-9fb6-eb65da0a4529"
      },
      "execution_count": null,
      "outputs": [
        {
          "output_type": "stream",
          "name": "stdout",
          "text": [
            "<class 'pandas.core.frame.DataFrame'>\n",
            "RangeIndex: 99956 entries, 0 to 99955\n",
            "Data columns (total 16 columns):\n",
            " #   Column          Non-Null Count  Dtype          \n",
            "---  ------          --------------  -----          \n",
            " 0   order_date      99956 non-null  datetime64[ns] \n",
            " 1   sneaker_name    99956 non-null  category       \n",
            " 2   sale_price      99956 non-null  int64          \n",
            " 3   retail_price    99956 non-null  int64          \n",
            " 4   release_date    99956 non-null  datetime64[ns] \n",
            " 5   shoe_size       99956 non-null  float64        \n",
            " 6   buyer_region    99956 non-null  category       \n",
            " 7   brand1          99956 non-null  object         \n",
            " 8   colaboration    99956 non-null  object         \n",
            " 9   silhouette      99956 non-null  object         \n",
            " 10  stock_rotation  99956 non-null  timedelta64[ns]\n",
            " 11  day             99956 non-null  int64          \n",
            " 12  month           99956 non-null  int64          \n",
            " 13  year            99956 non-null  int64          \n",
            " 14  day_of_week     99956 non-null  int64          \n",
            " 15  name_day        99956 non-null  object         \n",
            "dtypes: category(2), datetime64[ns](2), float64(1), int64(6), object(4), timedelta64[ns](1)\n",
            "memory usage: 10.9+ MB\n"
          ]
        }
      ]
    },
    {
      "cell_type": "code",
      "source": [
        "categoricals1 = [\"brand1\",'colaboration','silhouette','name_day', \"sneaker_name\",'month','day','year','day_of_week']\n",
        "\n",
        "for c in categoricals1:\n",
        "  stockx_df[c] = stockx_df[c].astype('category')"
      ],
      "metadata": {
        "id": "guqFi27SCo-s"
      },
      "execution_count": null,
      "outputs": []
    },
    {
      "cell_type": "code",
      "source": [
        "stockx_df['stock_rotation'] = stockx_df['stock_rotation'].dt.days.astype('int')"
      ],
      "metadata": {
        "id": "76foQussEPEO"
      },
      "execution_count": null,
      "outputs": []
    },
    {
      "cell_type": "code",
      "source": [
        "stockx_df.info()"
      ],
      "metadata": {
        "colab": {
          "base_uri": "https://localhost:8080/"
        },
        "id": "TnOGacibDO9M",
        "outputId": "a389b3ee-f6d9-4aa1-e895-f1f7e6b5c8ea"
      },
      "execution_count": null,
      "outputs": [
        {
          "output_type": "stream",
          "name": "stdout",
          "text": [
            "<class 'pandas.core.frame.DataFrame'>\n",
            "RangeIndex: 99956 entries, 0 to 99955\n",
            "Data columns (total 16 columns):\n",
            " #   Column          Non-Null Count  Dtype         \n",
            "---  ------          --------------  -----         \n",
            " 0   order_date      99956 non-null  datetime64[ns]\n",
            " 1   sneaker_name    99956 non-null  category      \n",
            " 2   sale_price      99956 non-null  int64         \n",
            " 3   retail_price    99956 non-null  int64         \n",
            " 4   release_date    99956 non-null  datetime64[ns]\n",
            " 5   shoe_size       99956 non-null  float64       \n",
            " 6   buyer_region    99956 non-null  category      \n",
            " 7   brand1          99956 non-null  category      \n",
            " 8   colaboration    99956 non-null  category      \n",
            " 9   silhouette      99956 non-null  category      \n",
            " 10  stock_rotation  99956 non-null  int64         \n",
            " 11  day             99956 non-null  category      \n",
            " 12  month           99956 non-null  category      \n",
            " 13  year            99956 non-null  category      \n",
            " 14  day_of_week     99956 non-null  category      \n",
            " 15  name_day        99956 non-null  category      \n",
            "dtypes: category(10), datetime64[ns](2), float64(1), int64(3)\n",
            "memory usage: 5.5 MB\n"
          ]
        }
      ]
    },
    {
      "cell_type": "code",
      "source": [
        "stockx_df.head(4)"
      ],
      "metadata": {
        "colab": {
          "base_uri": "https://localhost:8080/",
          "height": 531
        },
        "id": "VaC8LgW7E7oF",
        "outputId": "1beabc38-2e57-4481-db6c-25fe81c17ca1"
      },
      "execution_count": null,
      "outputs": [
        {
          "output_type": "execute_result",
          "data": {
            "text/plain": [
              "  order_date                                 sneaker_name  sale_price  \\\n",
              "0 2017-09-01         ADIDAS-YEEZY-BOOST-350-LOW-V2-BELUGA        1097   \n",
              "1 2017-09-01  ADIDAS-YEEZY-BOOST-350-V2-CORE-BLACK-COPPER         685   \n",
              "2 2017-09-01   ADIDAS-YEEZY-BOOST-350-V2-CORE-BLACK-GREEN         690   \n",
              "3 2017-09-01     ADIDAS-YEEZY-BOOST-350-V2-CORE-BLACK-RED        1075   \n",
              "\n",
              "   retail_price release_date  shoe_size buyer_region  brand1 colaboration  \\\n",
              "0           220   2016-09-24       11.0   California  ADIDAS        YEEZY   \n",
              "1           220   2016-11-23       11.0   California  ADIDAS        YEEZY   \n",
              "2           220   2016-11-23       11.0   California  ADIDAS        YEEZY   \n",
              "3           220   2016-11-23       11.5     Kentucky  ADIDAS        YEEZY   \n",
              "\n",
              "  silhouette  stock_rotation day month  year day_of_week name_day  \n",
              "0  BOSST 350             342   1     9  2017           4   Friday  \n",
              "1  BOSST 350             282   1     9  2017           4   Friday  \n",
              "2  BOSST 350             282   1     9  2017           4   Friday  \n",
              "3  BOSST 350             282   1     9  2017           4   Friday  "
            ],
            "text/html": [
              "\n",
              "  <div id=\"df-457c8fea-5c3b-4155-8417-689704b8e8e8\">\n",
              "    <div class=\"colab-df-container\">\n",
              "      <div>\n",
              "<style scoped>\n",
              "    .dataframe tbody tr th:only-of-type {\n",
              "        vertical-align: middle;\n",
              "    }\n",
              "\n",
              "    .dataframe tbody tr th {\n",
              "        vertical-align: top;\n",
              "    }\n",
              "\n",
              "    .dataframe thead th {\n",
              "        text-align: right;\n",
              "    }\n",
              "</style>\n",
              "<table border=\"1\" class=\"dataframe\">\n",
              "  <thead>\n",
              "    <tr style=\"text-align: right;\">\n",
              "      <th></th>\n",
              "      <th>order_date</th>\n",
              "      <th>sneaker_name</th>\n",
              "      <th>sale_price</th>\n",
              "      <th>retail_price</th>\n",
              "      <th>release_date</th>\n",
              "      <th>shoe_size</th>\n",
              "      <th>buyer_region</th>\n",
              "      <th>brand1</th>\n",
              "      <th>colaboration</th>\n",
              "      <th>silhouette</th>\n",
              "      <th>stock_rotation</th>\n",
              "      <th>day</th>\n",
              "      <th>month</th>\n",
              "      <th>year</th>\n",
              "      <th>day_of_week</th>\n",
              "      <th>name_day</th>\n",
              "    </tr>\n",
              "  </thead>\n",
              "  <tbody>\n",
              "    <tr>\n",
              "      <th>0</th>\n",
              "      <td>2017-09-01</td>\n",
              "      <td>ADIDAS-YEEZY-BOOST-350-LOW-V2-BELUGA</td>\n",
              "      <td>1097</td>\n",
              "      <td>220</td>\n",
              "      <td>2016-09-24</td>\n",
              "      <td>11.0</td>\n",
              "      <td>California</td>\n",
              "      <td>ADIDAS</td>\n",
              "      <td>YEEZY</td>\n",
              "      <td>BOSST 350</td>\n",
              "      <td>342</td>\n",
              "      <td>1</td>\n",
              "      <td>9</td>\n",
              "      <td>2017</td>\n",
              "      <td>4</td>\n",
              "      <td>Friday</td>\n",
              "    </tr>\n",
              "    <tr>\n",
              "      <th>1</th>\n",
              "      <td>2017-09-01</td>\n",
              "      <td>ADIDAS-YEEZY-BOOST-350-V2-CORE-BLACK-COPPER</td>\n",
              "      <td>685</td>\n",
              "      <td>220</td>\n",
              "      <td>2016-11-23</td>\n",
              "      <td>11.0</td>\n",
              "      <td>California</td>\n",
              "      <td>ADIDAS</td>\n",
              "      <td>YEEZY</td>\n",
              "      <td>BOSST 350</td>\n",
              "      <td>282</td>\n",
              "      <td>1</td>\n",
              "      <td>9</td>\n",
              "      <td>2017</td>\n",
              "      <td>4</td>\n",
              "      <td>Friday</td>\n",
              "    </tr>\n",
              "    <tr>\n",
              "      <th>2</th>\n",
              "      <td>2017-09-01</td>\n",
              "      <td>ADIDAS-YEEZY-BOOST-350-V2-CORE-BLACK-GREEN</td>\n",
              "      <td>690</td>\n",
              "      <td>220</td>\n",
              "      <td>2016-11-23</td>\n",
              "      <td>11.0</td>\n",
              "      <td>California</td>\n",
              "      <td>ADIDAS</td>\n",
              "      <td>YEEZY</td>\n",
              "      <td>BOSST 350</td>\n",
              "      <td>282</td>\n",
              "      <td>1</td>\n",
              "      <td>9</td>\n",
              "      <td>2017</td>\n",
              "      <td>4</td>\n",
              "      <td>Friday</td>\n",
              "    </tr>\n",
              "    <tr>\n",
              "      <th>3</th>\n",
              "      <td>2017-09-01</td>\n",
              "      <td>ADIDAS-YEEZY-BOOST-350-V2-CORE-BLACK-RED</td>\n",
              "      <td>1075</td>\n",
              "      <td>220</td>\n",
              "      <td>2016-11-23</td>\n",
              "      <td>11.5</td>\n",
              "      <td>Kentucky</td>\n",
              "      <td>ADIDAS</td>\n",
              "      <td>YEEZY</td>\n",
              "      <td>BOSST 350</td>\n",
              "      <td>282</td>\n",
              "      <td>1</td>\n",
              "      <td>9</td>\n",
              "      <td>2017</td>\n",
              "      <td>4</td>\n",
              "      <td>Friday</td>\n",
              "    </tr>\n",
              "  </tbody>\n",
              "</table>\n",
              "</div>\n",
              "      <button class=\"colab-df-convert\" onclick=\"convertToInteractive('df-457c8fea-5c3b-4155-8417-689704b8e8e8')\"\n",
              "              title=\"Convert this dataframe to an interactive table.\"\n",
              "              style=\"display:none;\">\n",
              "        \n",
              "  <svg xmlns=\"http://www.w3.org/2000/svg\" height=\"24px\"viewBox=\"0 0 24 24\"\n",
              "       width=\"24px\">\n",
              "    <path d=\"M0 0h24v24H0V0z\" fill=\"none\"/>\n",
              "    <path d=\"M18.56 5.44l.94 2.06.94-2.06 2.06-.94-2.06-.94-.94-2.06-.94 2.06-2.06.94zm-11 1L8.5 8.5l.94-2.06 2.06-.94-2.06-.94L8.5 2.5l-.94 2.06-2.06.94zm10 10l.94 2.06.94-2.06 2.06-.94-2.06-.94-.94-2.06-.94 2.06-2.06.94z\"/><path d=\"M17.41 7.96l-1.37-1.37c-.4-.4-.92-.59-1.43-.59-.52 0-1.04.2-1.43.59L10.3 9.45l-7.72 7.72c-.78.78-.78 2.05 0 2.83L4 21.41c.39.39.9.59 1.41.59.51 0 1.02-.2 1.41-.59l7.78-7.78 2.81-2.81c.8-.78.8-2.07 0-2.86zM5.41 20L4 18.59l7.72-7.72 1.47 1.35L5.41 20z\"/>\n",
              "  </svg>\n",
              "      </button>\n",
              "      \n",
              "  <style>\n",
              "    .colab-df-container {\n",
              "      display:flex;\n",
              "      flex-wrap:wrap;\n",
              "      gap: 12px;\n",
              "    }\n",
              "\n",
              "    .colab-df-convert {\n",
              "      background-color: #E8F0FE;\n",
              "      border: none;\n",
              "      border-radius: 50%;\n",
              "      cursor: pointer;\n",
              "      display: none;\n",
              "      fill: #1967D2;\n",
              "      height: 32px;\n",
              "      padding: 0 0 0 0;\n",
              "      width: 32px;\n",
              "    }\n",
              "\n",
              "    .colab-df-convert:hover {\n",
              "      background-color: #E2EBFA;\n",
              "      box-shadow: 0px 1px 2px rgba(60, 64, 67, 0.3), 0px 1px 3px 1px rgba(60, 64, 67, 0.15);\n",
              "      fill: #174EA6;\n",
              "    }\n",
              "\n",
              "    [theme=dark] .colab-df-convert {\n",
              "      background-color: #3B4455;\n",
              "      fill: #D2E3FC;\n",
              "    }\n",
              "\n",
              "    [theme=dark] .colab-df-convert:hover {\n",
              "      background-color: #434B5C;\n",
              "      box-shadow: 0px 1px 3px 1px rgba(0, 0, 0, 0.15);\n",
              "      filter: drop-shadow(0px 1px 2px rgba(0, 0, 0, 0.3));\n",
              "      fill: #FFFFFF;\n",
              "    }\n",
              "  </style>\n",
              "\n",
              "      <script>\n",
              "        const buttonEl =\n",
              "          document.querySelector('#df-457c8fea-5c3b-4155-8417-689704b8e8e8 button.colab-df-convert');\n",
              "        buttonEl.style.display =\n",
              "          google.colab.kernel.accessAllowed ? 'block' : 'none';\n",
              "\n",
              "        async function convertToInteractive(key) {\n",
              "          const element = document.querySelector('#df-457c8fea-5c3b-4155-8417-689704b8e8e8');\n",
              "          const dataTable =\n",
              "            await google.colab.kernel.invokeFunction('convertToInteractive',\n",
              "                                                     [key], {});\n",
              "          if (!dataTable) return;\n",
              "\n",
              "          const docLinkHtml = 'Like what you see? Visit the ' +\n",
              "            '<a target=\"_blank\" href=https://colab.research.google.com/notebooks/data_table.ipynb>data table notebook</a>'\n",
              "            + ' to learn more about interactive tables.';\n",
              "          element.innerHTML = '';\n",
              "          dataTable['output_type'] = 'display_data';\n",
              "          await google.colab.output.renderOutput(dataTable, element);\n",
              "          const docLink = document.createElement('div');\n",
              "          docLink.innerHTML = docLinkHtml;\n",
              "          element.appendChild(docLink);\n",
              "        }\n",
              "      </script>\n",
              "    </div>\n",
              "  </div>\n",
              "  "
            ]
          },
          "metadata": {},
          "execution_count": 55
        }
      ]
    },
    {
      "cell_type": "markdown",
      "source": [
        "## Estadística descriptiva"
      ],
      "metadata": {
        "id": "PBwuo_sSQge1"
      }
    },
    {
      "cell_type": "code",
      "source": [
        "sns.set(rc = {'figure.figsize':(15,8)})"
      ],
      "metadata": {
        "id": "pm_5JCxaVHtc"
      },
      "execution_count": null,
      "outputs": []
    },
    {
      "cell_type": "code",
      "source": [
        "sns.boxplot(x = 'brand1', y = 'sale_price', data = stockx_df, palette = 'flare' )"
      ],
      "metadata": {
        "id": "Yx-xNy4XQ7wU",
        "colab": {
          "base_uri": "https://localhost:8080/",
          "height": 519
        },
        "outputId": "f0183e10-39a1-45d8-ba53-0560df80c34c"
      },
      "execution_count": null,
      "outputs": [
        {
          "output_type": "execute_result",
          "data": {
            "text/plain": [
              "<matplotlib.axes._subplots.AxesSubplot at 0x7f34c3c53410>"
            ]
          },
          "metadata": {},
          "execution_count": 98
        },
        {
          "output_type": "display_data",
          "data": {
            "text/plain": [
              "<Figure size 1080x576 with 1 Axes>"
            ],
            "image/png": "[encoded data removed]"
          },
          "metadata": {}
        }
      ]
    },
    {
      "cell_type": "code",
      "source": [
        "sns.boxplot(x = 'silhouette', y = 'sale_price', data = stockx_df, palette = 'flare' )"
      ],
      "metadata": {
        "colab": {
          "base_uri": "https://localhost:8080/",
          "height": 519
        },
        "id": "kKgwCNM2SHN9",
        "outputId": "33f2f5d0-e204-44be-fc4a-42aaa5b55d5d"
      },
      "execution_count": null,
      "outputs": [
        {
          "output_type": "execute_result",
          "data": {
            "text/plain": [
              "<matplotlib.axes._subplots.AxesSubplot at 0x7f34c3c39350>"
            ]
          },
          "metadata": {},
          "execution_count": 99
        },
        {
          "output_type": "display_data",
          "data": {
            "text/plain": [
              "<Figure size 1080x576 with 1 Axes>"
            ],
            "image/png": "[encoded data removed]"
          },
          "metadata": {}
        }
      ]
    },
    {
      "cell_type": "code",
      "source": [
        "pd.crosstab(index = stockx_df['brand1'], columns = stockx_df['name_day'], margins = True).apply(lambda n:n/len(stockx_df) *100,axis = 1)"
      ],
      "metadata": {
        "colab": {
          "base_uri": "https://localhost:8080/",
          "height": 174
        },
        "id": "K-A8CRREWXRL",
        "outputId": "2eeeb48b-f5c6-46af-a068-ea5563823155"
      },
      "execution_count": null,
      "outputs": [
        {
          "output_type": "execute_result",
          "data": {
            "text/plain": [
              "name_day     Friday     Monday   Saturday     Sunday   Thursday    Tuesday  \\\n",
              "brand1                                                                       \n",
              "ADIDAS    13.129777   9.756293  10.747729   8.283645  10.502621   9.373124   \n",
              "NIKE       4.186842   3.983753   3.263436   2.817240   4.500980   4.023770   \n",
              "All       17.316619  13.740046  14.011165  11.100884  15.003602  13.396895   \n",
              "\n",
              "name_day  Wednesday         All  \n",
              "brand1                           \n",
              "ADIDAS    10.400576   72.193765  \n",
              "NIKE       5.030213   27.806235  \n",
              "All       15.430790  100.000000  "
            ],
            "text/html": [
              "\n",
              "  <div id=\"df-d10eb9ce-8679-44f7-9a3b-5a65b3e77e86\">\n",
              "    <div class=\"colab-df-container\">\n",
              "      <div>\n",
              "<style scoped>\n",
              "    .dataframe tbody tr th:only-of-type {\n",
              "        vertical-align: middle;\n",
              "    }\n",
              "\n",
              "    .dataframe tbody tr th {\n",
              "        vertical-align: top;\n",
              "    }\n",
              "\n",
              "    .dataframe thead th {\n",
              "        text-align: right;\n",
              "    }\n",
              "</style>\n",
              "<table border=\"1\" class=\"dataframe\">\n",
              "  <thead>\n",
              "    <tr style=\"text-align: right;\">\n",
              "      <th>name_day</th>\n",
              "      <th>Friday</th>\n",
              "      <th>Monday</th>\n",
              "      <th>Saturday</th>\n",
              "      <th>Sunday</th>\n",
              "      <th>Thursday</th>\n",
              "      <th>Tuesday</th>\n",
              "      <th>Wednesday</th>\n",
              "      <th>All</th>\n",
              "    </tr>\n",
              "    <tr>\n",
              "      <th>brand1</th>\n",
              "      <th></th>\n",
              "      <th></th>\n",
              "      <th></th>\n",
              "      <th></th>\n",
              "      <th></th>\n",
              "      <th></th>\n",
              "      <th></th>\n",
              "      <th></th>\n",
              "    </tr>\n",
              "  </thead>\n",
              "  <tbody>\n",
              "    <tr>\n",
              "      <th>ADIDAS</th>\n",
              "      <td>13.129777</td>\n",
              "      <td>9.756293</td>\n",
              "      <td>10.747729</td>\n",
              "      <td>8.283645</td>\n",
              "      <td>10.502621</td>\n",
              "      <td>9.373124</td>\n",
              "      <td>10.400576</td>\n",
              "      <td>72.193765</td>\n",
              "    </tr>\n",
              "    <tr>\n",
              "      <th>NIKE</th>\n",
              "      <td>4.186842</td>\n",
              "      <td>3.983753</td>\n",
              "      <td>3.263436</td>\n",
              "      <td>2.817240</td>\n",
              "      <td>4.500980</td>\n",
              "      <td>4.023770</td>\n",
              "      <td>5.030213</td>\n",
              "      <td>27.806235</td>\n",
              "    </tr>\n",
              "    <tr>\n",
              "      <th>All</th>\n",
              "      <td>17.316619</td>\n",
              "      <td>13.740046</td>\n",
              "      <td>14.011165</td>\n",
              "      <td>11.100884</td>\n",
              "      <td>15.003602</td>\n",
              "      <td>13.396895</td>\n",
              "      <td>15.430790</td>\n",
              "      <td>100.000000</td>\n",
              "    </tr>\n",
              "  </tbody>\n",
              "</table>\n",
              "</div>\n",
              "      <button class=\"colab-df-convert\" onclick=\"convertToInteractive('df-d10eb9ce-8679-44f7-9a3b-5a65b3e77e86')\"\n",
              "              title=\"Convert this dataframe to an interactive table.\"\n",
              "              style=\"display:none;\">\n",
              "        \n",
              "  <svg xmlns=\"http://www.w3.org/2000/svg\" height=\"24px\"viewBox=\"0 0 24 24\"\n",
              "       width=\"24px\">\n",
              "    <path d=\"M0 0h24v24H0V0z\" fill=\"none\"/>\n",
              "    <path d=\"M18.56 5.44l.94 2.06.94-2.06 2.06-.94-2.06-.94-.94-2.06-.94 2.06-2.06.94zm-11 1L8.5 8.5l.94-2.06 2.06-.94-2.06-.94L8.5 2.5l-.94 2.06-2.06.94zm10 10l.94 2.06.94-2.06 2.06-.94-2.06-.94-.94-2.06-.94 2.06-2.06.94z\"/><path d=\"M17.41 7.96l-1.37-1.37c-.4-.4-.92-.59-1.43-.59-.52 0-1.04.2-1.43.59L10.3 9.45l-7.72 7.72c-.78.78-.78 2.05 0 2.83L4 21.41c.39.39.9.59 1.41.59.51 0 1.02-.2 1.41-.59l7.78-7.78 2.81-2.81c.8-.78.8-2.07 0-2.86zM5.41 20L4 18.59l7.72-7.72 1.47 1.35L5.41 20z\"/>\n",
              "  </svg>\n",
              "      </button>\n",
              "      \n",
              "  <style>\n",
              "    .colab-df-container {\n",
              "      display:flex;\n",
              "      flex-wrap:wrap;\n",
              "      gap: 12px;\n",
              "    }\n",
              "\n",
              "    .colab-df-convert {\n",
              "      background-color: #E8F0FE;\n",
              "      border: none;\n",
              "      border-radius: 50%;\n",
              "      cursor: pointer;\n",
              "      display: none;\n",
              "      fill: #1967D2;\n",
              "      height: 32px;\n",
              "      padding: 0 0 0 0;\n",
              "      width: 32px;\n",
              "    }\n",
              "\n",
              "    .colab-df-convert:hover {\n",
              "      background-color: #E2EBFA;\n",
              "      box-shadow: 0px 1px 2px rgba(60, 64, 67, 0.3), 0px 1px 3px 1px rgba(60, 64, 67, 0.15);\n",
              "      fill: #174EA6;\n",
              "    }\n",
              "\n",
              "    [theme=dark] .colab-df-convert {\n",
              "      background-color: #3B4455;\n",
              "      fill: #D2E3FC;\n",
              "    }\n",
              "\n",
              "    [theme=dark] .colab-df-convert:hover {\n",
              "      background-color: #434B5C;\n",
              "      box-shadow: 0px 1px 3px 1px rgba(0, 0, 0, 0.15);\n",
              "      filter: drop-shadow(0px 1px 2px rgba(0, 0, 0, 0.3));\n",
              "      fill: #FFFFFF;\n",
              "    }\n",
              "  </style>\n",
              "\n",
              "      <script>\n",
              "        const buttonEl =\n",
              "          document.querySelector('#df-d10eb9ce-8679-44f7-9a3b-5a65b3e77e86 button.colab-df-convert');\n",
              "        buttonEl.style.display =\n",
              "          google.colab.kernel.accessAllowed ? 'block' : 'none';\n",
              "\n",
              "        async function convertToInteractive(key) {\n",
              "          const element = document.querySelector('#df-d10eb9ce-8679-44f7-9a3b-5a65b3e77e86');\n",
              "          const dataTable =\n",
              "            await google.colab.kernel.invokeFunction('convertToInteractive',\n",
              "                                                     [key], {});\n",
              "          if (!dataTable) return;\n",
              "\n",
              "          const docLinkHtml = 'Like what you see? Visit the ' +\n",
              "            '<a target=\"_blank\" href=https://colab.research.google.com/notebooks/data_table.ipynb>data table notebook</a>'\n",
              "            + ' to learn more about interactive tables.';\n",
              "          element.innerHTML = '';\n",
              "          dataTable['output_type'] = 'display_data';\n",
              "          await google.colab.output.renderOutput(dataTable, element);\n",
              "          const docLink = document.createElement('div');\n",
              "          docLink.innerHTML = docLinkHtml;\n",
              "          element.appendChild(docLink);\n",
              "        }\n",
              "      </script>\n",
              "    </div>\n",
              "  </div>\n",
              "  "
            ]
          },
          "metadata": {},
          "execution_count": 97
        }
      ]
    },
    {
      "cell_type": "code",
      "source": [
        "plot = stockx_df['name_day'].value_counts().plot(kind='pie', autopct='%.2f', figsize=(6, 6),title='Ventas por el dia de la semana', colormap = 'flare')"
      ],
      "metadata": {
        "colab": {
          "base_uri": "https://localhost:8080/",
          "height": 373
        },
        "id": "Lv_5l0E4Wr0d",
        "outputId": "66543c46-fd10-4df5-bcee-040ed76e9686"
      },
      "execution_count": null,
      "outputs": [
        {
          "output_type": "display_data",
          "data": {
            "text/plain": [
              "<Figure size 432x432 with 1 Axes>"
            ],
            "image/png": "[encoded data removed]"
          },
          "metadata": {}
        }
      ]
    },
    {
      "cell_type": "code",
      "source": [
        "round(stockx_df.groupby([\"brand1\"])[\"retail_price\"].mean(),2).plot(kind = \"bar\", colormap = \"inferno\")"
      ],
      "metadata": {
        "colab": {
          "base_uri": "https://localhost:8080/",
          "height": 551
        },
        "id": "zEb8i5e2gwyH",
        "outputId": "744ccb65-98da-4ee4-ebfe-3aa5ec36f11f"
      },
      "execution_count": null,
      "outputs": [
        {
          "output_type": "execute_result",
          "data": {
            "text/plain": [
              "<matplotlib.axes._subplots.AxesSubplot at 0x7f34c3b07550>"
            ]
          },
          "metadata": {},
          "execution_count": 101
        },
        {
          "output_type": "display_data",
          "data": {
            "text/plain": [
              "<Figure size 1080x576 with 1 Axes>"
            ],
            "image/png": "[encoded data removed]"
          },
          "metadata": {}
        }
      ]
    },
    {
      "cell_type": "code",
      "source": [
        "round(stockx_df.groupby([\"brand1\"])[\"sale_price\"].mean(),2).plot(kind = \"bar\", colormap = \"inferno\")"
      ],
      "metadata": {
        "colab": {
          "base_uri": "https://localhost:8080/",
          "height": 552
        },
        "id": "jTvLRwaYg9Gb",
        "outputId": "9062a919-dbac-4d82-8e47-8436e3ac0279"
      },
      "execution_count": null,
      "outputs": [
        {
          "output_type": "execute_result",
          "data": {
            "text/plain": [
              "<matplotlib.axes._subplots.AxesSubplot at 0x7f34c3a68750>"
            ]
          },
          "metadata": {},
          "execution_count": 103
        },
        {
          "output_type": "display_data",
          "data": {
            "text/plain": [
              "<Figure size 1080x576 with 1 Axes>"
            ],
            "image/png": "[encoded data removed]"
          },
          "metadata": {}
        }
      ]
    },
    {
      "cell_type": "markdown",
      "source": [
        "## Modelización "
      ],
      "metadata": {
        "id": "5e6KTyDbDbur"
      }
    },
    {
      "cell_type": "code",
      "source": [
        "#graficpos de distribucion de mis variables continuas \n",
        "stockx_df.loc[:,['sale_price', 'retail_price', 'shoe_size', 'stock_rotation']].hist( figsize=(18,18), xlabelsize='10', ylabelsize='10', xrot= 0 )"
      ],
      "metadata": {
        "colab": {
          "base_uri": "https://localhost:8080/",
          "height": 1000
        },
        "id": "SGOfkgfVDbXi",
        "outputId": "ec1e302d-c8f9-4f91-ce19-3de77c7c8abc"
      },
      "execution_count": null,
      "outputs": [
        {
          "output_type": "execute_result",
          "data": {
            "text/plain": [
              "array([[<matplotlib.axes._subplots.AxesSubplot object at 0x7f34c5f36790>,\n",
              "        <matplotlib.axes._subplots.AxesSubplot object at 0x7f34c5ee41d0>],\n",
              "       [<matplotlib.axes._subplots.AxesSubplot object at 0x7f34c5e96d50>,\n",
              "        <matplotlib.axes._subplots.AxesSubplot object at 0x7f34c5ec8310>]],\n",
              "      dtype=object)"
            ]
          },
          "metadata": {},
          "execution_count": 56
        },
        {
          "output_type": "display_data",
          "data": {
            "text/plain": [
              "<Figure size 1296x1296 with 4 Axes>"
            ],
            "image/png": "[encoded data removed]"
          },
          "metadata": {
            "needs_background": "light"
          }
        }
      ]
    },
    {
      "cell_type": "code",
      "source": [
        "stockx_corr= round(stockx_df.corr(),2) #el comando .corr de la libreria de regresion no permite observar la no multicolinealidad, para evitar que un dato este abserviendo la \n",
        "#informacion de los otros datos\n",
        "stockx_corr"
      ],
      "metadata": {
        "colab": {
          "base_uri": "https://localhost:8080/",
          "height": 174
        },
        "id": "Qsrt6kcSG19n",
        "outputId": "bc5ce7b0-ae34-4061-d5f4-b90d771514b3"
      },
      "execution_count": null,
      "outputs": [
        {
          "output_type": "execute_result",
          "data": {
            "text/plain": [
              "                sale_price  retail_price  shoe_size  stock_rotation\n",
              "sale_price            1.00         -0.36       0.08           -0.09\n",
              "retail_price         -0.36          1.00      -0.05            0.25\n",
              "shoe_size             0.08         -0.05       1.00            0.02\n",
              "stock_rotation       -0.09          0.25       0.02            1.00"
            ],
            "text/html": [
              "\n",
              "  <div id=\"df-b5188a9e-a114-43a9-ae55-146fcc37ff7f\">\n",
              "    <div class=\"colab-df-container\">\n",
              "      <div>\n",
              "<style scoped>\n",
              "    .dataframe tbody tr th:only-of-type {\n",
              "        vertical-align: middle;\n",
              "    }\n",
              "\n",
              "    .dataframe tbody tr th {\n",
              "        vertical-align: top;\n",
              "    }\n",
              "\n",
              "    .dataframe thead th {\n",
              "        text-align: right;\n",
              "    }\n",
              "</style>\n",
              "<table border=\"1\" class=\"dataframe\">\n",
              "  <thead>\n",
              "    <tr style=\"text-align: right;\">\n",
              "      <th></th>\n",
              "      <th>sale_price</th>\n",
              "      <th>retail_price</th>\n",
              "      <th>shoe_size</th>\n",
              "      <th>stock_rotation</th>\n",
              "    </tr>\n",
              "  </thead>\n",
              "  <tbody>\n",
              "    <tr>\n",
              "      <th>sale_price</th>\n",
              "      <td>1.00</td>\n",
              "      <td>-0.36</td>\n",
              "      <td>0.08</td>\n",
              "      <td>-0.09</td>\n",
              "    </tr>\n",
              "    <tr>\n",
              "      <th>retail_price</th>\n",
              "      <td>-0.36</td>\n",
              "      <td>1.00</td>\n",
              "      <td>-0.05</td>\n",
              "      <td>0.25</td>\n",
              "    </tr>\n",
              "    <tr>\n",
              "      <th>shoe_size</th>\n",
              "      <td>0.08</td>\n",
              "      <td>-0.05</td>\n",
              "      <td>1.00</td>\n",
              "      <td>0.02</td>\n",
              "    </tr>\n",
              "    <tr>\n",
              "      <th>stock_rotation</th>\n",
              "      <td>-0.09</td>\n",
              "      <td>0.25</td>\n",
              "      <td>0.02</td>\n",
              "      <td>1.00</td>\n",
              "    </tr>\n",
              "  </tbody>\n",
              "</table>\n",
              "</div>\n",
              "      <button class=\"colab-df-convert\" onclick=\"convertToInteractive('df-b5188a9e-a114-43a9-ae55-146fcc37ff7f')\"\n",
              "              title=\"Convert this dataframe to an interactive table.\"\n",
              "              style=\"display:none;\">\n",
              "        \n",
              "  <svg xmlns=\"http://www.w3.org/2000/svg\" height=\"24px\"viewBox=\"0 0 24 24\"\n",
              "       width=\"24px\">\n",
              "    <path d=\"M0 0h24v24H0V0z\" fill=\"none\"/>\n",
              "    <path d=\"M18.56 5.44l.94 2.06.94-2.06 2.06-.94-2.06-.94-.94-2.06-.94 2.06-2.06.94zm-11 1L8.5 8.5l.94-2.06 2.06-.94-2.06-.94L8.5 2.5l-.94 2.06-2.06.94zm10 10l.94 2.06.94-2.06 2.06-.94-2.06-.94-.94-2.06-.94 2.06-2.06.94z\"/><path d=\"M17.41 7.96l-1.37-1.37c-.4-.4-.92-.59-1.43-.59-.52 0-1.04.2-1.43.59L10.3 9.45l-7.72 7.72c-.78.78-.78 2.05 0 2.83L4 21.41c.39.39.9.59 1.41.59.51 0 1.02-.2 1.41-.59l7.78-7.78 2.81-2.81c.8-.78.8-2.07 0-2.86zM5.41 20L4 18.59l7.72-7.72 1.47 1.35L5.41 20z\"/>\n",
              "  </svg>\n",
              "      </button>\n",
              "      \n",
              "  <style>\n",
              "    .colab-df-container {\n",
              "      display:flex;\n",
              "      flex-wrap:wrap;\n",
              "      gap: 12px;\n",
              "    }\n",
              "\n",
              "    .colab-df-convert {\n",
              "      background-color: #E8F0FE;\n",
              "      border: none;\n",
              "      border-radius: 50%;\n",
              "      cursor: pointer;\n",
              "      display: none;\n",
              "      fill: #1967D2;\n",
              "      height: 32px;\n",
              "      padding: 0 0 0 0;\n",
              "      width: 32px;\n",
              "    }\n",
              "\n",
              "    .colab-df-convert:hover {\n",
              "      background-color: #E2EBFA;\n",
              "      box-shadow: 0px 1px 2px rgba(60, 64, 67, 0.3), 0px 1px 3px 1px rgba(60, 64, 67, 0.15);\n",
              "      fill: #174EA6;\n",
              "    }\n",
              "\n",
              "    [theme=dark] .colab-df-convert {\n",
              "      background-color: #3B4455;\n",
              "      fill: #D2E3FC;\n",
              "    }\n",
              "\n",
              "    [theme=dark] .colab-df-convert:hover {\n",
              "      background-color: #434B5C;\n",
              "      box-shadow: 0px 1px 3px 1px rgba(0, 0, 0, 0.15);\n",
              "      filter: drop-shadow(0px 1px 2px rgba(0, 0, 0, 0.3));\n",
              "      fill: #FFFFFF;\n",
              "    }\n",
              "  </style>\n",
              "\n",
              "      <script>\n",
              "        const buttonEl =\n",
              "          document.querySelector('#df-b5188a9e-a114-43a9-ae55-146fcc37ff7f button.colab-df-convert');\n",
              "        buttonEl.style.display =\n",
              "          google.colab.kernel.accessAllowed ? 'block' : 'none';\n",
              "\n",
              "        async function convertToInteractive(key) {\n",
              "          const element = document.querySelector('#df-b5188a9e-a114-43a9-ae55-146fcc37ff7f');\n",
              "          const dataTable =\n",
              "            await google.colab.kernel.invokeFunction('convertToInteractive',\n",
              "                                                     [key], {});\n",
              "          if (!dataTable) return;\n",
              "\n",
              "          const docLinkHtml = 'Like what you see? Visit the ' +\n",
              "            '<a target=\"_blank\" href=https://colab.research.google.com/notebooks/data_table.ipynb>data table notebook</a>'\n",
              "            + ' to learn more about interactive tables.';\n",
              "          element.innerHTML = '';\n",
              "          dataTable['output_type'] = 'display_data';\n",
              "          await google.colab.output.renderOutput(dataTable, element);\n",
              "          const docLink = document.createElement('div');\n",
              "          docLink.innerHTML = docLinkHtml;\n",
              "          element.appendChild(docLink);\n",
              "        }\n",
              "      </script>\n",
              "    </div>\n",
              "  </div>\n",
              "  "
            ]
          },
          "metadata": {},
          "execution_count": 57
        }
      ]
    },
    {
      "cell_type": "code",
      "source": [
        "sns.heatmap(stockx_corr, cmap = sns.diverging_palette(240, 10, n=9), annot= True) # el comando cmap= me permite definir el color de la paleta la cual es sns.diverging_palette \n",
        "#esta me permite tener los colores rojo para los valores mas alto apartir de la media ya zules para aquelloos que se alejan de la misma "
      ],
      "metadata": {
        "colab": {
          "base_uri": "https://localhost:8080/",
          "height": 287
        },
        "id": "a61PGkV7IJpk",
        "outputId": "8981f117-3b8c-4d7d-8d55-6801ce278954"
      },
      "execution_count": null,
      "outputs": [
        {
          "output_type": "execute_result",
          "data": {
            "text/plain": [
              "<matplotlib.axes._subplots.AxesSubplot at 0x7f34c5f2a2d0>"
            ]
          },
          "metadata": {},
          "execution_count": 58
        },
        {
          "output_type": "display_data",
          "data": {
            "text/plain": [
              "<Figure size 432x288 with 2 Axes>"
            ],
            "image/png": "[encoded data removed]"
          },
          "metadata": {
            "needs_background": "light"
          }
        }
      ]
    },
    {
      "cell_type": "markdown",
      "source": [
        "##### En el prtesente grafico de correlacion observamos que las variable no cuentan con una alta correlacion entre si lo que nos permite avanzar con el modelado "
      ],
      "metadata": {
        "id": "5pmR-UmJJq1s"
      }
    },
    {
      "cell_type": "code",
      "source": [
        "sns.pairplot(stockx_df,hue='brand1')"
      ],
      "metadata": {
        "colab": {
          "base_uri": "https://localhost:8080/",
          "height": 743
        },
        "id": "zuufFan4VT6X",
        "outputId": "5bccb100-39cf-44b1-8649-276cc41d573b"
      },
      "execution_count": null,
      "outputs": [
        {
          "output_type": "execute_result",
          "data": {
            "text/plain": [
              "<seaborn.axisgrid.PairGrid at 0x7f34c5cb81d0>"
            ]
          },
          "metadata": {},
          "execution_count": 59
        },
        {
          "output_type": "display_data",
          "data": {
            "text/plain": [
              "<Figure size 794.25x720 with 20 Axes>"
            ],
            "image/png": "[encoded data removed]"
          },
          "metadata": {
            "needs_background": "light"
          }
        }
      ]
    },
    {
      "cell_type": "code",
      "source": [
        "stockx_df.columns"
      ],
      "metadata": {
        "colab": {
          "base_uri": "https://localhost:8080/"
        },
        "id": "TDbJ81J-LBkl",
        "outputId": "8eae029d-bded-4867-d490-0e1e7912ae6e"
      },
      "execution_count": null,
      "outputs": [
        {
          "output_type": "execute_result",
          "data": {
            "text/plain": [
              "Index(['order_date', 'sneaker_name', 'sale_price', 'retail_price',\n",
              "       'release_date', 'shoe_size', 'buyer_region', 'brand1', 'colaboration',\n",
              "       'silhouette', 'stock_rotation', 'day', 'month', 'year', 'day_of_week',\n",
              "       'name_day'],\n",
              "      dtype='object')"
            ]
          },
          "metadata": {},
          "execution_count": 60
        }
      ]
    },
    {
      "cell_type": "code",
      "source": [
        "X = stockx_df.loc[:,['retail_price','shoe_size', 'buyer_region', 'brand1', 'colaboration','silhouette', 'stock_rotation','name_day','month']]\n",
        "X.shape"
      ],
      "metadata": {
        "colab": {
          "base_uri": "https://localhost:8080/"
        },
        "id": "k_RJrPUlKaW4",
        "outputId": "a339ac06-f79a-45f6-836c-4401195889e9"
      },
      "execution_count": null,
      "outputs": [
        {
          "output_type": "execute_result",
          "data": {
            "text/plain": [
              "(99956, 9)"
            ]
          },
          "metadata": {},
          "execution_count": 61
        }
      ]
    },
    {
      "cell_type": "code",
      "source": [
        "X = pd.get_dummies(data = X , drop_first= True)\n",
        "X.shape"
      ],
      "metadata": {
        "colab": {
          "base_uri": "https://localhost:8080/"
        },
        "id": "GGRNzojgH5LK",
        "outputId": "a7999769-5ea2-4d5f-fce1-6ca3de50b4ad"
      },
      "execution_count": null,
      "outputs": [
        {
          "output_type": "execute_result",
          "data": {
            "text/plain": [
              "(99956, 80)"
            ]
          },
          "metadata": {},
          "execution_count": 62
        }
      ]
    },
    {
      "cell_type": "code",
      "source": [
        "y = stockx_df.loc[:,'sale_price']\n",
        "y.shape"
      ],
      "metadata": {
        "colab": {
          "base_uri": "https://localhost:8080/"
        },
        "id": "WHUcpFYrNXvk",
        "outputId": "03c3260e-b3af-418b-e4ed-1b05b1987579"
      },
      "execution_count": null,
      "outputs": [
        {
          "output_type": "execute_result",
          "data": {
            "text/plain": [
              "(99956,)"
            ]
          },
          "metadata": {},
          "execution_count": 63
        }
      ]
    },
    {
      "cell_type": "markdown",
      "source": [
        "### División del modelo en conjuntos de entrenamiento y prueba "
      ],
      "metadata": {
        "id": "3d4kik4yaU4c"
      }
    },
    {
      "cell_type": "code",
      "source": [
        "from sklearn.model_selection import train_test_split #herramienta para validacion prueba entrebamiento"
      ],
      "metadata": {
        "id": "xb71NyzzN02z"
      },
      "execution_count": null,
      "outputs": []
    },
    {
      "cell_type": "code",
      "source": [
        "X_train, X_test, y_train, y_test = train_test_split(X, y, test_size=0.2, random_state=0)"
      ],
      "metadata": {
        "id": "YfcfszmVN4Kr"
      },
      "execution_count": null,
      "outputs": []
    },
    {
      "cell_type": "markdown",
      "source": [
        "###Modelo de regresión "
      ],
      "metadata": {
        "id": "kCKdv5hbagLo"
      }
    },
    {
      "cell_type": "code",
      "source": [
        "from sklearn.linear_model import LinearRegression #para realizar regresiones y modelos \n",
        "lreg = LinearRegression(fit_intercept=True)\n",
        "lreg"
      ],
      "metadata": {
        "colab": {
          "base_uri": "https://localhost:8080/"
        },
        "id": "HnkGW5EMTMXn",
        "outputId": "70b40ac3-08d4-4841-caaf-3aae8d24c65d"
      },
      "execution_count": null,
      "outputs": [
        {
          "output_type": "execute_result",
          "data": {
            "text/plain": [
              "LinearRegression()"
            ]
          },
          "metadata": {},
          "execution_count": 66
        }
      ]
    },
    {
      "cell_type": "code",
      "source": [
        "lreg.fit(X,y) "
      ],
      "metadata": {
        "colab": {
          "base_uri": "https://localhost:8080/"
        },
        "id": "AFRC4WtgYyz-",
        "outputId": "038e9dbd-c6fd-4c7b-e809-cd756b1a1172"
      },
      "execution_count": null,
      "outputs": [
        {
          "output_type": "execute_result",
          "data": {
            "text/plain": [
              "LinearRegression()"
            ]
          },
          "metadata": {},
          "execution_count": 67
        }
      ]
    },
    {
      "cell_type": "code",
      "source": [
        "np.around(lreg.predict(X[0:100]),2)"
      ],
      "metadata": {
        "colab": {
          "base_uri": "https://localhost:8080/"
        },
        "id": "NngCEglDYqtp",
        "outputId": "d738e562-414f-4ecd-cd8b-f31f80a4dd8d"
      },
      "execution_count": null,
      "outputs": [
        {
          "output_type": "execute_result",
          "data": {
            "text/plain": [
              "array([435.12, 428.54, 428.54, 457.63, 389.81, 381.62, 425.91, 388.85,\n",
              "       383.23, 392.3 , 397.31, 381.07, 381.58, 409.56, 385.03, 418.24,\n",
              "       379.36, 396.18, 390.39, 364.01, 388.48, 392.94, 434.32, 403.19,\n",
              "       469.63, 406.61, 401.25, 469.68, 423.34, 395.36, 414.27, 403.17,\n",
              "       405.27, 425.87, 402.66, 405.5 , 399.08, 416.21, 467.66, 434.05,\n",
              "       425.91, 411.46, 407.65, 419.76, 414.8 , 385.71, 394.47, 397.53,\n",
              "       406.12, 392.62, 409.92, 396.53, 380.45, 391.43, 435.49, 403.27,\n",
              "       406.73, 396.18, 402.48, 402.81, 397.68, 409.03, 378.55, 403.64,\n",
              "       404.15, 404.93, 385.36, 402.08, 445.4 , 404.57, 413.25, 399.53,\n",
              "       420.17, 404.73, 410.98, 433.47, 409.34, 406.4 , 405.48, 394.37,\n",
              "       388.51, 411.35, 405.48, 380.79, 413.68, 426.58, 385.33, 379.56,\n",
              "       398.99, 412.91, 398.99, 398.73, 429.26, 393.87, 398.66, 412.22,\n",
              "       413.4 , 397.28, 415.23, 431.02])"
            ]
          },
          "metadata": {},
          "execution_count": 68
        }
      ]
    },
    {
      "cell_type": "code",
      "source": [
        "intercept = np.around(lreg.intercept_,2)\n",
        "intercept"
      ],
      "metadata": {
        "colab": {
          "base_uri": "https://localhost:8080/"
        },
        "id": "aiXRvtbUZ-P2",
        "outputId": "4925cb6b-f380-47ea-e8cf-68ecbb1916d7"
      },
      "execution_count": null,
      "outputs": [
        {
          "output_type": "execute_result",
          "data": {
            "text/plain": [
              "637.19"
            ]
          },
          "metadata": {},
          "execution_count": 69
        }
      ]
    },
    {
      "cell_type": "code",
      "source": [
        "r_2 = round(lreg.score(X,y),2)\n",
        "print( 'El valor r cuadrdrado es de:', r_2)"
      ],
      "metadata": {
        "colab": {
          "base_uri": "https://localhost:8080/"
        },
        "id": "6taPe1ZRaDze",
        "outputId": "2dbff08e-0345-42f7-e60b-8b22d7fe2163"
      },
      "execution_count": null,
      "outputs": [
        {
          "output_type": "stream",
          "name": "stdout",
          "text": [
            "El valor r cuadrdrado es de: 0.55\n"
          ]
        }
      ]
    },
    {
      "cell_type": "markdown",
      "source": [
        "##### El modelo muestra un 33% de ajuste sin aver sido validado atarves de los conjuntos de test y prueba "
      ],
      "metadata": {
        "id": "DXcR3I32bds-"
      }
    },
    {
      "cell_type": "code",
      "source": [
        "import statsmodels.api as sm"
      ],
      "metadata": {
        "colab": {
          "base_uri": "https://localhost:8080/"
        },
        "id": "f0xRkG7jaNiW",
        "outputId": "6a1a3b55-846c-4fcf-81d0-fd1fb656d95a"
      },
      "execution_count": null,
      "outputs": [
        {
          "output_type": "stream",
          "name": "stderr",
          "text": [
            "/usr/local/lib/python3.7/dist-packages/statsmodels/tools/_testing.py:19: FutureWarning: pandas.util.testing is deprecated. Use the functions in the public API at pandas.testing instead.\n",
            "  import pandas.util.testing as tm\n"
          ]
        }
      ]
    },
    {
      "cell_type": "code",
      "source": [
        "OLS_model = sm.OLS(y, X)\n",
        "results = OLS_model.fit()\n",
        "print(results.summary())"
      ],
      "metadata": {
        "colab": {
          "base_uri": "https://localhost:8080/"
        },
        "id": "sUtzXlxOcp_K",
        "outputId": "fbdb6151-ac7b-4284-e6ff-c86c9585ef8d"
      },
      "execution_count": null,
      "outputs": [
        {
          "output_type": "stream",
          "name": "stdout",
          "text": [
            "                            OLS Regression Results                            \n",
            "==============================================================================\n",
            "Dep. Variable:             sale_price   R-squared:                       0.546\n",
            "Model:                            OLS   Adj. R-squared:                  0.546\n",
            "Method:                 Least Squares   F-statistic:                     1540.\n",
            "Date:                Sun, 20 Mar 2022   Prob (F-statistic):               0.00\n",
            "Time:                        21:17:46   Log-Likelihood:            -6.5662e+05\n",
            "No. Observations:               99956   AIC:                         1.313e+06\n",
            "Df Residuals:                   99877   BIC:                         1.314e+06\n",
            "Df Model:                          78                                         \n",
            "Covariance Type:            nonrobust                                         \n",
            "=====================================================================================================\n",
            "                                        coef    std err          t      P>|t|      [0.025      0.975]\n",
            "-----------------------------------------------------------------------------------------------------\n",
            "retail_price                         -1.3670      0.134    -10.207      0.000      -1.630      -1.104\n",
            "shoe_size                             5.3583      0.241     22.243      0.000       4.886       5.831\n",
            "stock_rotation                        0.1096      0.003     41.753      0.000       0.104       0.115\n",
            "buyer_region_Alaska                  19.7957     23.523      0.842      0.400     -26.309      65.900\n",
            "buyer_region_Arizona                 11.4379      9.300      1.230      0.219      -6.790      29.666\n",
            "buyer_region_Arkansas                -1.8112     15.403     -0.118      0.906     -32.002      28.379\n",
            "buyer_region_California              30.5302      8.172      3.736      0.000      14.513      46.548\n",
            "buyer_region_Colorado                13.8150      9.818      1.407      0.159      -5.429      33.059\n",
            "buyer_region_Connecticut             -1.9016      9.592     -0.198      0.843     -20.702      16.899\n",
            "buyer_region_Delaware                24.1382      9.464      2.550      0.011       5.589      42.688\n",
            "buyer_region_District of Columbia    15.9708     13.232      1.207      0.227      -9.964      41.905\n",
            "buyer_region_Florida                 11.4887      8.358      1.375      0.169      -4.893      27.870\n",
            "buyer_region_Georgia                 -0.0377      9.018     -0.004      0.997     -17.712      17.637\n",
            "buyer_region_Hawaii                  22.0288     11.959      1.842      0.065      -1.412      45.469\n",
            "buyer_region_Idaho                  -10.7366     18.532     -0.579      0.562     -47.059      25.586\n",
            "buyer_region_Illinois                 1.3779      8.548      0.161      0.872     -15.376      18.132\n",
            "buyer_region_Indiana                 -4.0001      9.704     -0.412      0.680     -23.020      15.020\n",
            "buyer_region_Iowa                    -5.3849     11.402     -0.472      0.637     -27.732      16.963\n",
            "buyer_region_Kansas                   2.4244     12.358      0.196      0.844     -21.797      26.646\n",
            "buyer_region_Kentucky                56.9378     11.233      5.069      0.000      34.922      78.954\n",
            "buyer_region_Louisiana               -5.3015     10.983     -0.483      0.629     -26.829      16.226\n",
            "buyer_region_Maine                  -17.4715     17.052     -1.025      0.306     -50.894      15.951\n",
            "buyer_region_Maryland                 3.8222      9.006      0.424      0.671     -13.829      21.473\n",
            "buyer_region_Massachusetts            7.5249      8.687      0.866      0.386      -9.502      24.552\n",
            "buyer_region_Michigan                 5.7709      8.715      0.662      0.508     -11.310      22.852\n",
            "buyer_region_Minnesota                6.5147     10.307      0.632      0.527     -13.687      26.717\n",
            "buyer_region_Mississippi             -5.5591     15.742     -0.353      0.724     -36.413      25.295\n",
            "buyer_region_Missouri                 2.3114     10.501      0.220      0.826     -18.270      22.893\n",
            "buyer_region_Montana                -12.0421     25.940     -0.464      0.642     -62.885      38.801\n",
            "buyer_region_Nebraska                -5.7677     13.663     -0.422      0.673     -32.547      21.012\n",
            "buyer_region_Nevada                  26.6884     10.145      2.631      0.009       6.805      46.572\n",
            "buyer_region_New Hampshire           -6.7876     13.738     -0.494      0.621     -33.714      20.139\n",
            "buyer_region_New Jersey              13.8234      8.457      1.635      0.102      -2.753      30.399\n",
            "buyer_region_New Mexico              10.6339     13.930      0.763      0.445     -16.669      37.937\n",
            "buyer_region_New York                13.3962      8.188      1.636      0.102      -2.652      29.444\n",
            "buyer_region_North Carolina          -8.3520      9.344     -0.894      0.371     -26.667       9.963\n",
            "buyer_region_North Dakota           -21.2555     23.030     -0.923      0.356     -66.393      23.882\n",
            "buyer_region_Ohio                     3.2877      8.995      0.365      0.715     -14.343      20.919\n",
            "buyer_region_Oklahoma                14.1817     11.724      1.210      0.226      -8.797      37.160\n",
            "buyer_region_Oregon                  13.2666      8.336      1.592      0.111      -3.071      29.605\n",
            "buyer_region_Pennsylvania             4.1244      8.646      0.477      0.633     -12.822      21.071\n",
            "buyer_region_Rhode Island             0.5622     12.289      0.046      0.964     -23.523      24.648\n",
            "buyer_region_South Carolina           2.5602     10.835      0.236      0.813     -18.677      23.797\n",
            "buyer_region_South Dakota            12.5544     24.627      0.510      0.610     -35.714      60.823\n",
            "buyer_region_Tennessee                6.1999     10.291      0.602      0.547     -13.970      26.370\n",
            "buyer_region_Texas                    5.6219      8.381      0.671      0.502     -10.804      22.048\n",
            "buyer_region_Utah                     3.3869     11.462      0.295      0.768     -19.079      25.853\n",
            "buyer_region_Vermont                -18.0461     20.486     -0.881      0.378     -58.198      22.106\n",
            "buyer_region_Virginia                13.5944      8.925      1.523      0.128      -3.899      31.088\n",
            "buyer_region_Washington              14.1732      9.010      1.573      0.116      -3.487      31.834\n",
            "buyer_region_West Virginia          -19.8109     15.637     -1.267      0.205     -50.460      10.838\n",
            "buyer_region_Wisconsin                7.4032     10.031      0.738      0.460     -12.257      27.063\n",
            "buyer_region_Wyoming                -19.0750     28.453     -0.670      0.503     -74.842      36.692\n",
            "brand1_NIKE                         672.1603     24.582     27.344      0.000     623.981     720.340\n",
            "colaboration_YEEZY                  283.6285     15.340     18.489      0.000     253.562     313.695\n",
            "silhouette_AIR MAX                  123.4380      4.660     26.489      0.000     114.304     132.572\n",
            "silhouette_AIR PRESTO               235.2310      4.715     49.894      0.000     225.990     244.472\n",
            "silhouette_AIR VAPORMAX             185.7851     11.668     15.923      0.000     162.917     208.653\n",
            "silhouette_BLAZER MID                38.0932      7.180      5.305      0.000      24.020      52.166\n",
            "silhouette_BOSST 350                283.6285     15.340     18.489      0.000     253.562     313.695\n",
            "silhouette_FLY ZOOM                -163.7404      4.529    -36.153      0.000    -172.617    -154.863\n",
            "silhouette_JORDAN 1                 529.2778      5.001    105.837      0.000     519.476     539.079\n",
            "silhouette_REACT HYPERDUNK            2.2429      9.490      0.236      0.813     -16.357      20.843\n",
            "name_day_Monday                      10.7551      1.980      5.433      0.000       6.875      14.635\n",
            "name_day_Saturday                    14.5709      1.972      7.387      0.000      10.705      18.437\n",
            "name_day_Sunday                      11.2756      2.109      5.347      0.000       7.142      15.409\n",
            "name_day_Thursday                     6.8856      1.934      3.561      0.000       3.096      10.675\n",
            "name_day_Tuesday                      7.8971      1.999      3.951      0.000       3.979      11.815\n",
            "name_day_Wednesday                    7.5259      1.928      3.904      0.000       3.747      11.304\n",
            "month_2                              14.8536      2.488      5.971      0.000       9.978      19.729\n",
            "month_3                             158.1828      3.609     43.831      0.000     151.109     165.256\n",
            "month_4                             109.4862      3.777     28.991      0.000     102.084     116.888\n",
            "month_5                              84.4285      3.378     24.994      0.000      77.808      91.049\n",
            "month_6                             -37.3700      2.885    -12.954      0.000     -43.024     -31.716\n",
            "month_7                             -34.8570      2.503    -13.924      0.000     -39.763     -29.951\n",
            "month_8                             -18.3475      2.756     -6.657      0.000     -23.749     -12.946\n",
            "month_9                              41.6509      2.936     14.184      0.000      35.895      47.406\n",
            "month_10                            -11.7360      2.639     -4.448      0.000     -16.908      -6.565\n",
            "month_11                            -17.5268      2.042     -8.582      0.000     -21.530     -13.524\n",
            "month_12                            -24.6265      1.855    -13.274      0.000     -28.263     -20.990\n",
            "==============================================================================\n",
            "Omnibus:                    70287.147   Durbin-Watson:                   0.798\n",
            "Prob(Omnibus):                  0.000   Jarque-Bera (JB):          1779745.121\n",
            "Skew:                           3.082   Prob(JB):                         0.00\n",
            "Kurtosis:                      22.732   Cond. No.                     1.47e+16\n",
            "==============================================================================\n",
            "\n",
            "Warnings:\n",
            "[1] Standard Errors assume that the covariance matrix of the errors is correctly specified.\n",
            "[2] The smallest eigenvalue is 5.17e-23. This might indicate that there are\n",
            "strong multicollinearity problems or that the design matrix is singular.\n"
          ]
        }
      ]
    },
    {
      "cell_type": "markdown",
      "source": [
        "#### Validación del modelo "
      ],
      "metadata": {
        "id": "JL0J9F04ehPF"
      }
    },
    {
      "cell_type": "code",
      "source": [
        "lreg1 = LinearRegression(fit_intercept=True)\n",
        "lreg1\n",
        "lreg1.fit(X_train,y_train)\n",
        "r_2 = round(lreg1.score(X_train,y_train),2)\n",
        "print( 'El valor r cuadrdrado es de:', r_2)"
      ],
      "metadata": {
        "colab": {
          "base_uri": "https://localhost:8080/"
        },
        "id": "boh7uaXveNLe",
        "outputId": "b39bbbb1-bbf8-4ee3-bf1c-7b4d44456fc0"
      },
      "execution_count": null,
      "outputs": [
        {
          "output_type": "stream",
          "name": "stdout",
          "text": [
            "El valor r cuadrdrado es de: 0.54\n"
          ]
        }
      ]
    },
    {
      "cell_type": "code",
      "source": [
        "lreg1 = LinearRegression(fit_intercept=True)\n",
        "lreg1\n",
        "lreg1.fit(X_test,y_test)\n",
        "r_2 = round(lreg1.score(X_test,y_test),2)\n",
        "print( 'El valor r cuadrdrado es de:', r_2)"
      ],
      "metadata": {
        "colab": {
          "base_uri": "https://localhost:8080/"
        },
        "id": "rRPE8SHbtCsn",
        "outputId": "a820cf5a-90a6-4a52-8bf7-4d458b8cb08d"
      },
      "execution_count": null,
      "outputs": [
        {
          "output_type": "stream",
          "name": "stdout",
          "text": [
            "El valor r cuadrdrado es de: 0.55\n"
          ]
        }
      ]
    },
    {
      "cell_type": "code",
      "source": [
        "np.around(lreg.predict(X_test),2)"
      ],
      "metadata": {
        "colab": {
          "base_uri": "https://localhost:8080/"
        },
        "id": "EHzUpVYAhn1f",
        "outputId": "e08e88b0-ce1d-4100-ccb8-816fc721b22e"
      },
      "execution_count": null,
      "outputs": [
        {
          "output_type": "execute_result",
          "data": {
            "text/plain": [
              "array([382.1 , 319.51, 300.55, ..., 350.58, 346.82, 585.9 ])"
            ]
          },
          "metadata": {},
          "execution_count": 75
        }
      ]
    },
    {
      "cell_type": "markdown",
      "source": [
        "### Modelo de bosque aleatorio "
      ],
      "metadata": {
        "id": "4oDZv61Wk2ew"
      }
    },
    {
      "cell_type": "code",
      "source": [
        "from sklearn.ensemble import RandomForestRegressor #herramienta para la creacion de bosque aleatorio de regresion"
      ],
      "metadata": {
        "id": "zyJYfMbPlX9D"
      },
      "execution_count": null,
      "outputs": []
    },
    {
      "cell_type": "code",
      "source": [
        "stockx_forest = RandomForestRegressor(n_jobs = 5, oob_score= True, n_estimators= 100)\n",
        "stockx_forest.fit(X_train,y_train)"
      ],
      "metadata": {
        "colab": {
          "base_uri": "https://localhost:8080/"
        },
        "id": "tbWbwMLKk22B",
        "outputId": "c67e80ec-0de9-4fcf-ef0d-f032dc5a03fb"
      },
      "execution_count": null,
      "outputs": [
        {
          "output_type": "execute_result",
          "data": {
            "text/plain": [
              "RandomForestRegressor(n_jobs=5, oob_score=True)"
            ]
          },
          "metadata": {},
          "execution_count": 77
        }
      ]
    },
    {
      "cell_type": "code",
      "source": [
        "np.around(stockx_forest.predict(X_test),2)"
      ],
      "metadata": {
        "colab": {
          "base_uri": "https://localhost:8080/"
        },
        "id": "jiydO5xDscPY",
        "outputId": "c98dedf5-f7a5-48d6-9e28-8c980a37cf69"
      },
      "execution_count": null,
      "outputs": [
        {
          "output_type": "execute_result",
          "data": {
            "text/plain": [
              "array([248.93, 307.82, 285.25, ..., 376.44, 234.92, 537.67])"
            ]
          },
          "metadata": {},
          "execution_count": 78
        }
      ]
    },
    {
      "cell_type": "code",
      "source": [
        "score = round(stockx_forest.score(X_test,y_test),2)\n",
        "print( 'El valor de ajuste del modelo es de:', score)"
      ],
      "metadata": {
        "colab": {
          "base_uri": "https://localhost:8080/"
        },
        "id": "3rK5z_zms2L_",
        "outputId": "fb697535-f05a-4c86-e50f-310af0e29f91"
      },
      "execution_count": null,
      "outputs": [
        {
          "output_type": "stream",
          "name": "stdout",
          "text": [
            "El valor de ajuste del modelo es de: 0.92\n"
          ]
        }
      ]
    },
    {
      "cell_type": "code",
      "source": [
        "list(zip(stockx_forest.feature_importances_))"
      ],
      "metadata": {
        "colab": {
          "base_uri": "https://localhost:8080/"
        },
        "id": "eETEJomNvDz5",
        "outputId": "0e598b91-46f3-4d7f-dd87-55e425796964"
      },
      "execution_count": null,
      "outputs": [
        {
          "output_type": "execute_result",
          "data": {
            "text/plain": [
              "[(0.03695818225348452,),\n",
              " (0.041444945396376116,),\n",
              " (0.2312613362420458,),\n",
              " (2.7842272346632942e-05,),\n",
              " (0.00042212960150603615,),\n",
              " (6.224918712562434e-05,),\n",
              " (0.0024348523566642064,),\n",
              " (0.0005696352753682692,),\n",
              " (0.00030893722685799237,),\n",
              " (0.00044387077008032163,),\n",
              " (7.667653164485712e-05,),\n",
              " (0.0015718812212931943,),\n",
              " (0.0007216373067356448,),\n",
              " (0.000211611993541358,),\n",
              " (9.788003803689763e-06,),\n",
              " (0.0006462685042697867,),\n",
              " (0.0003580132847447197,),\n",
              " (0.0003680379039425814,),\n",
              " (0.00011112737689950195,),\n",
              " (0.0013226856711991725,),\n",
              " (0.00012191171608900591,),\n",
              " (4.674782463190745e-05,),\n",
              " (0.0004074406833922627,),\n",
              " (0.0007539742473814715,),\n",
              " (0.0006780989442627871,),\n",
              " (0.0002333300091099107,),\n",
              " (4.192652829747534e-05,),\n",
              " (0.00017302529690645414,),\n",
              " (4.088806122590461e-05,),\n",
              " (9.966609067587304e-05,),\n",
              " (0.0005830962262097688,),\n",
              " (7.138244061835638e-05,),\n",
              " (0.0010925795135846843,),\n",
              " (6.368332535080705e-05,),\n",
              " (0.0022161282938943762,),\n",
              " (0.0004742036564631762,),\n",
              " (5.242832828496613e-06,),\n",
              " (0.0006196733561228799,),\n",
              " (0.00023303279174821483,),\n",
              " (0.0012726233939744723,),\n",
              " (0.0006276078421822142,),\n",
              " (6.40426770569708e-05,),\n",
              " (0.00016993123070012722,),\n",
              " (2.7070457487027607e-05,),\n",
              " (0.00026242324719213917,),\n",
              " (0.0010706414755592738,),\n",
              " (0.00024107760560294954,),\n",
              " (4.261682659894188e-05,),\n",
              " (0.0008468454729459173,),\n",
              " (0.00040469559764741534,),\n",
              " (9.456004911585665e-05,),\n",
              " (0.0004470289121768738,),\n",
              " (1.931779491464332e-05,),\n",
              " (0.056091157088375754,),\n",
              " (0.031288641411592065,),\n",
              " (0.001170275708620507,),\n",
              " (0.01838498636116674,),\n",
              " (0.000637856056460747,),\n",
              " (0.0001809586685061011,),\n",
              " (0.03922056715168193,),\n",
              " (0.053343908126940995,),\n",
              " (0.3080729525854942,),\n",
              " (0.002313559550554056,),\n",
              " (0.003045960257849228,),\n",
              " (0.003071402195231064,),\n",
              " (0.0023864629034719,),\n",
              " (0.0033634959826612143,),\n",
              " (0.0029049736570553346,),\n",
              " (0.003115244648308269,),\n",
              " (0.007983011889775455,),\n",
              " (0.02430250018666169,),\n",
              " (0.01504359561152026,),\n",
              " (0.009083954733267393,),\n",
              " (0.011025436368100525,),\n",
              " (0.012536924502127284,),\n",
              " (0.012149007940564577,),\n",
              " (0.01750877028638911,),\n",
              " (0.012303673040173602,),\n",
              " (0.009356938314864734,),\n",
              " (0.0072355619707066676,)]"
            ]
          },
          "metadata": {},
          "execution_count": 80
        }
      ]
    },
    {
      "cell_type": "code",
      "source": [
        "feat_importance = pd.Series(stockx_forest.feature_importances_, index = X.columns[0:80])\n",
        "feat_importance.nlargest(5).plot(kind = 'barh', colormap = \"inferno\") #obtengo las variables mas importantes del modelo "
      ],
      "metadata": {
        "colab": {
          "base_uri": "https://localhost:8080/",
          "height": 282
        },
        "id": "pG20ZlAZvM0e",
        "outputId": "621f4764-e325-4803-8c9c-68da3c74d965"
      },
      "execution_count": null,
      "outputs": [
        {
          "output_type": "execute_result",
          "data": {
            "text/plain": [
              "<matplotlib.axes._subplots.AxesSubplot at 0x7f34c4beb7d0>"
            ]
          },
          "metadata": {},
          "execution_count": 86
        },
        {
          "output_type": "display_data",
          "data": {
            "text/plain": [
              "<Figure size 432x288 with 1 Axes>"
            ],
            "image/png": "[encoded data removed]"
          },
          "metadata": {
            "needs_background": "light"
          }
        }
      ]
    },
    {
      "cell_type": "markdown",
      "source": [
        "### Metricas de los diferentes modelos "
      ],
      "metadata": {
        "id": "q0bQKg7PopgN"
      }
    },
    {
      "cell_type": "code",
      "source": [
        "# Creo ;la figura donde veremos los diferentes Scores de los modelos.\n",
        "import plotly.graph_objects as go\n",
        "\n",
        "scores_tables = go.Figure(data=[go.Table(\n",
        "    header=dict(values=['Linear Scores', 'Random Forest Scores'],\n",
        "                line_color='darkslategray',\n",
        "                fill_color='lightgray',\n",
        "                align='left'), cells=dict(values=[[r_2], # 1st column\n",
        "                       [score]], # 2nd column\n",
        "               line_color='darkslategray',\n",
        "               fill_color='lightgray',\n",
        "               align='left'))\n",
        "])\n",
        "\n",
        "scores_tables"
      ],
      "metadata": {
        "colab": {
          "base_uri": "https://localhost:8080/",
          "height": 542
        },
        "id": "gzrctWxm6nwo",
        "outputId": "e819d5a7-b849-47c1-e9be-afb6e957f74b"
      },
      "execution_count": null,
      "outputs": [
        {
          "output_type": "display_data",
          "data": {
            "text/html": [
              "<html>\n",
              "<head><meta charset=\"utf-8\" /></head>\n",
              "<body>\n",
              "    <div>            <script src=\"https://cdnjs.cloudflare.com/ajax/libs/mathjax/2.7.5/MathJax.js?config=TeX-AMS-MML_SVG\"></script><script type=\"text/javascript\">if (window.MathJax) {MathJax.Hub.Config({SVG: {font: \"STIX-Web\"}});}</script>                <script type=\"text/javascript\">window.PlotlyConfig = {MathJaxConfig: 'local'};</script>\n",
              "        <script src=\"https://cdn.plot.ly/plotly-2.8.3.min.js\"></script>                <div id=\"926b65d8-81b5-42df-875b-f8e0ac906d6a\" class=\"plotly-graph-div\" style=\"height:525px; width:100%;\"></div>            <script type=\"text/javascript\">                                    window.PLOTLYENV=window.PLOTLYENV || {};                                    if (document.getElementById(\"926b65d8-81b5-42df-875b-f8e0ac906d6a\")) {                    Plotly.newPlot(                        \"926b65d8-81b5-42df-875b-f8e0ac906d6a\",                        [{\"cells\":{\"align\":\"left\",\"fill\":{\"color\":\"lightgray\"},\"line\":{\"color\":\"darkslategray\"},\"values\":[[0.55],[0.92]]},\"header\":{\"align\":\"left\",\"fill\":{\"color\":\"lightgray\"},\"line\":{\"color\":\"darkslategray\"},\"values\":[\"Linear Scores\",\"Random Forest Scores\"]},\"type\":\"table\"}],                        {\"template\":{\"data\":{\"bar\":[{\"error_x\":{\"color\":\"#2a3f5f\"},\"error_y\":{\"color\":\"#2a3f5f\"},\"marker\":{\"line\":{\"color\":\"#E5ECF6\",\"width\":0.5},\"pattern\":{\"fillmode\":\"overlay\",\"size\":10,\"solidity\":0.2}},\"type\":\"bar\"}],\"barpolar\":[{\"marker\":{\"line\":{\"color\":\"#E5ECF6\",\"width\":0.5},\"pattern\":{\"fillmode\":\"overlay\",\"size\":10,\"solidity\":0.2}},\"type\":\"barpolar\"}],\"carpet\":[{\"aaxis\":{\"endlinecolor\":\"#2a3f5f\",\"gridcolor\":\"white\",\"linecolor\":\"white\",\"minorgridcolor\":\"white\",\"startlinecolor\":\"#2a3f5f\"},\"baxis\":{\"endlinecolor\":\"#2a3f5f\",\"gridcolor\":\"white\",\"linecolor\":\"white\",\"minorgridcolor\":\"white\",\"startlinecolor\":\"#2a3f5f\"},\"type\":\"carpet\"}],\"choropleth\":[{\"colorbar\":{\"outlinewidth\":0,\"ticks\":\"\"},\"type\":\"choropleth\"}],\"contour\":[{\"colorbar\":{\"outlinewidth\":0,\"ticks\":\"\"},\"colorscale\":[[0.0,\"#0d0887\"],[0.1111111111111111,\"#46039f\"],[0.2222222222222222,\"#7201a8\"],[0.3333333333333333,\"#9c179e\"],[0.4444444444444444,\"#bd3786\"],[0.5555555555555556,\"#d8576b\"],[0.6666666666666666,\"#ed7953\"],[0.7777777777777778,\"#fb9f3a\"],[0.8888888888888888,\"#fdca26\"],[1.0,\"#f0f921\"]],\"type\":\"contour\"}],\"contourcarpet\":[{\"colorbar\":{\"outlinewidth\":0,\"ticks\":\"\"},\"type\":\"contourcarpet\"}],\"heatmap\":[{\"colorbar\":{\"outlinewidth\":0,\"ticks\":\"\"},\"colorscale\":[[0.0,\"#0d0887\"],[0.1111111111111111,\"#46039f\"],[0.2222222222222222,\"#7201a8\"],[0.3333333333333333,\"#9c179e\"],[0.4444444444444444,\"#bd3786\"],[0.5555555555555556,\"#d8576b\"],[0.6666666666666666,\"#ed7953\"],[0.7777777777777778,\"#fb9f3a\"],[0.8888888888888888,\"#fdca26\"],[1.0,\"#f0f921\"]],\"type\":\"heatmap\"}],\"heatmapgl\":[{\"colorbar\":{\"outlinewidth\":0,\"ticks\":\"\"},\"colorscale\":[[0.0,\"#0d0887\"],[0.1111111111111111,\"#46039f\"],[0.2222222222222222,\"#7201a8\"],[0.3333333333333333,\"#9c179e\"],[0.4444444444444444,\"#bd3786\"],[0.5555555555555556,\"#d8576b\"],[0.6666666666666666,\"#ed7953\"],[0.7777777777777778,\"#fb9f3a\"],[0.8888888888888888,\"#fdca26\"],[1.0,\"#f0f921\"]],\"type\":\"heatmapgl\"}],\"histogram\":[{\"marker\":{\"pattern\":{\"fillmode\":\"overlay\",\"size\":10,\"solidity\":0.2}},\"type\":\"histogram\"}],\"histogram2d\":[{\"colorbar\":{\"outlinewidth\":0,\"ticks\":\"\"},\"colorscale\":[[0.0,\"#0d0887\"],[0.1111111111111111,\"#46039f\"],[0.2222222222222222,\"#7201a8\"],[0.3333333333333333,\"#9c179e\"],[0.4444444444444444,\"#bd3786\"],[0.5555555555555556,\"#d8576b\"],[0.6666666666666666,\"#ed7953\"],[0.7777777777777778,\"#fb9f3a\"],[0.8888888888888888,\"#fdca26\"],[1.0,\"#f0f921\"]],\"type\":\"histogram2d\"}],\"histogram2dcontour\":[{\"colorbar\":{\"outlinewidth\":0,\"ticks\":\"\"},\"colorscale\":[[0.0,\"#0d0887\"],[0.1111111111111111,\"#46039f\"],[0.2222222222222222,\"#7201a8\"],[0.3333333333333333,\"#9c179e\"],[0.4444444444444444,\"#bd3786\"],[0.5555555555555556,\"#d8576b\"],[0.6666666666666666,\"#ed7953\"],[0.7777777777777778,\"#fb9f3a\"],[0.8888888888888888,\"#fdca26\"],[1.0,\"#f0f921\"]],\"type\":\"histogram2dcontour\"}],\"mesh3d\":[{\"colorbar\":{\"outlinewidth\":0,\"ticks\":\"\"},\"type\":\"mesh3d\"}],\"parcoords\":[{\"line\":{\"colorbar\":{\"outlinewidth\":0,\"ticks\":\"\"}},\"type\":\"parcoords\"}],\"pie\":[{\"automargin\":true,\"type\":\"pie\"}],\"scatter\":[{\"marker\":{\"colorbar\":{\"outlinewidth\":0,\"ticks\":\"\"}},\"type\":\"scatter\"}],\"scatter3d\":[{\"line\":{\"colorbar\":{\"outlinewidth\":0,\"ticks\":\"\"}},\"marker\":{\"colorbar\":{\"outlinewidth\":0,\"ticks\":\"\"}},\"type\":\"scatter3d\"}],\"scattercarpet\":[{\"marker\":{\"colorbar\":{\"outlinewidth\":0,\"ticks\":\"\"}},\"type\":\"scattercarpet\"}],\"scattergeo\":[{\"marker\":{\"colorbar\":{\"outlinewidth\":0,\"ticks\":\"\"}},\"type\":\"scattergeo\"}],\"scattergl\":[{\"marker\":{\"colorbar\":{\"outlinewidth\":0,\"ticks\":\"\"}},\"type\":\"scattergl\"}],\"scattermapbox\":[{\"marker\":{\"colorbar\":{\"outlinewidth\":0,\"ticks\":\"\"}},\"type\":\"scattermapbox\"}],\"scatterpolar\":[{\"marker\":{\"colorbar\":{\"outlinewidth\":0,\"ticks\":\"\"}},\"type\":\"scatterpolar\"}],\"scatterpolargl\":[{\"marker\":{\"colorbar\":{\"outlinewidth\":0,\"ticks\":\"\"}},\"type\":\"scatterpolargl\"}],\"scatterternary\":[{\"marker\":{\"colorbar\":{\"outlinewidth\":0,\"ticks\":\"\"}},\"type\":\"scatterternary\"}],\"surface\":[{\"colorbar\":{\"outlinewidth\":0,\"ticks\":\"\"},\"colorscale\":[[0.0,\"#0d0887\"],[0.1111111111111111,\"#46039f\"],[0.2222222222222222,\"#7201a8\"],[0.3333333333333333,\"#9c179e\"],[0.4444444444444444,\"#bd3786\"],[0.5555555555555556,\"#d8576b\"],[0.6666666666666666,\"#ed7953\"],[0.7777777777777778,\"#fb9f3a\"],[0.8888888888888888,\"#fdca26\"],[1.0,\"#f0f921\"]],\"type\":\"surface\"}],\"table\":[{\"cells\":{\"fill\":{\"color\":\"#EBF0F8\"},\"line\":{\"color\":\"white\"}},\"header\":{\"fill\":{\"color\":\"#C8D4E3\"},\"line\":{\"color\":\"white\"}},\"type\":\"table\"}]},\"layout\":{\"annotationdefaults\":{\"arrowcolor\":\"#2a3f5f\",\"arrowhead\":0,\"arrowwidth\":1},\"autotypenumbers\":\"strict\",\"coloraxis\":{\"colorbar\":{\"outlinewidth\":0,\"ticks\":\"\"}},\"colorscale\":{\"diverging\":[[0,\"#8e0152\"],[0.1,\"#c51b7d\"],[0.2,\"#de77ae\"],[0.3,\"#f1b6da\"],[0.4,\"#fde0ef\"],[0.5,\"#f7f7f7\"],[0.6,\"#e6f5d0\"],[0.7,\"#b8e186\"],[0.8,\"#7fbc41\"],[0.9,\"#4d9221\"],[1,\"#276419\"]],\"sequential\":[[0.0,\"#0d0887\"],[0.1111111111111111,\"#46039f\"],[0.2222222222222222,\"#7201a8\"],[0.3333333333333333,\"#9c179e\"],[0.4444444444444444,\"#bd3786\"],[0.5555555555555556,\"#d8576b\"],[0.6666666666666666,\"#ed7953\"],[0.7777777777777778,\"#fb9f3a\"],[0.8888888888888888,\"#fdca26\"],[1.0,\"#f0f921\"]],\"sequentialminus\":[[0.0,\"#0d0887\"],[0.1111111111111111,\"#46039f\"],[0.2222222222222222,\"#7201a8\"],[0.3333333333333333,\"#9c179e\"],[0.4444444444444444,\"#bd3786\"],[0.5555555555555556,\"#d8576b\"],[0.6666666666666666,\"#ed7953\"],[0.7777777777777778,\"#fb9f3a\"],[0.8888888888888888,\"#fdca26\"],[1.0,\"#f0f921\"]]},\"colorway\":[\"#636efa\",\"#EF553B\",\"#00cc96\",\"#ab63fa\",\"#FFA15A\",\"#19d3f3\",\"#FF6692\",\"#B6E880\",\"#FF97FF\",\"#FECB52\"],\"font\":{\"color\":\"#2a3f5f\"},\"geo\":{\"bgcolor\":\"white\",\"lakecolor\":\"white\",\"landcolor\":\"#E5ECF6\",\"showlakes\":true,\"showland\":true,\"subunitcolor\":\"white\"},\"hoverlabel\":{\"align\":\"left\"},\"hovermode\":\"closest\",\"mapbox\":{\"style\":\"light\"},\"paper_bgcolor\":\"white\",\"plot_bgcolor\":\"#E5ECF6\",\"polar\":{\"angularaxis\":{\"gridcolor\":\"white\",\"linecolor\":\"white\",\"ticks\":\"\"},\"bgcolor\":\"#E5ECF6\",\"radialaxis\":{\"gridcolor\":\"white\",\"linecolor\":\"white\",\"ticks\":\"\"}},\"scene\":{\"xaxis\":{\"backgroundcolor\":\"#E5ECF6\",\"gridcolor\":\"white\",\"gridwidth\":2,\"linecolor\":\"white\",\"showbackground\":true,\"ticks\":\"\",\"zerolinecolor\":\"white\"},\"yaxis\":{\"backgroundcolor\":\"#E5ECF6\",\"gridcolor\":\"white\",\"gridwidth\":2,\"linecolor\":\"white\",\"showbackground\":true,\"ticks\":\"\",\"zerolinecolor\":\"white\"},\"zaxis\":{\"backgroundcolor\":\"#E5ECF6\",\"gridcolor\":\"white\",\"gridwidth\":2,\"linecolor\":\"white\",\"showbackground\":true,\"ticks\":\"\",\"zerolinecolor\":\"white\"}},\"shapedefaults\":{\"line\":{\"color\":\"#2a3f5f\"}},\"ternary\":{\"aaxis\":{\"gridcolor\":\"white\",\"linecolor\":\"white\",\"ticks\":\"\"},\"baxis\":{\"gridcolor\":\"white\",\"linecolor\":\"white\",\"ticks\":\"\"},\"bgcolor\":\"#E5ECF6\",\"caxis\":{\"gridcolor\":\"white\",\"linecolor\":\"white\",\"ticks\":\"\"}},\"title\":{\"x\":0.05},\"xaxis\":{\"automargin\":true,\"gridcolor\":\"white\",\"linecolor\":\"white\",\"ticks\":\"\",\"title\":{\"standoff\":15},\"zerolinecolor\":\"white\",\"zerolinewidth\":2},\"yaxis\":{\"automargin\":true,\"gridcolor\":\"white\",\"linecolor\":\"white\",\"ticks\":\"\",\"title\":{\"standoff\":15},\"zerolinecolor\":\"white\",\"zerolinewidth\":2}}}},                        {\"responsive\": true}                    ).then(function(){\n",
              "                            \n",
              "var gd = document.getElementById('926b65d8-81b5-42df-875b-f8e0ac906d6a');\n",
              "var x = new MutationObserver(function (mutations, observer) {{\n",
              "        var display = window.getComputedStyle(gd).display;\n",
              "        if (!display || display === 'none') {{\n",
              "            console.log([gd, 'removed!']);\n",
              "            Plotly.purge(gd);\n",
              "            observer.disconnect();\n",
              "        }}\n",
              "}});\n",
              "\n",
              "// Listen for the removal of the full notebook cells\n",
              "var notebookContainer = gd.closest('#notebook-container');\n",
              "if (notebookContainer) {{\n",
              "    x.observe(notebookContainer, {childList: true});\n",
              "}}\n",
              "\n",
              "// Listen for the clearing of the current output cell\n",
              "var outputEl = gd.closest('.output');\n",
              "if (outputEl) {{\n",
              "    x.observe(outputEl, {childList: true});\n",
              "}}\n",
              "\n",
              "                        })                };                            </script>        </div>\n",
              "</body>\n",
              "</html>"
            ]
          },
          "metadata": {}
        }
      ]
    }
  ]
}