{
  "nbformat": 4,
  "nbformat_minor": 0,
  "metadata": {
    "colab": {
      "name": "StockX.ipynb",
      "provenance": [],
      "collapsed_sections": [],
      "authorship_tag": "ABX9TyO15Ry+zGYlI5t8epNdk+QF",
      "include_colab_link": true
    },
    "kernelspec": {
      "name": "python3",
      "display_name": "Python 3"
    },
    "language_info": {
      "name": "python"
    }
  },
  "cells": [
    {
      "cell_type": "markdown",
      "metadata": {
        "id": "view-in-github",
        "colab_type": "text"
      },
      "source": [
        "<a href=\"https://colab.research.google.com/github/Carlosmagnobrusil/StockX_sale_price_prediction-/blob/main/StockX.ipynb\" target=\"_parent\"><img src=\"https://colab.research.google.com/assets/colab-badge.svg\" alt=\"Open In Colab\"/></a>"
      ]
    },
    {
      "cell_type": "markdown",
      "source": [
        "#**Estudio de variacion de los precios**\n",
        "## *Creado por: Carlos Brusil*\n",
        "\n",
        "\n",
        "\n",
        "*   Fecha de Creación: 21 de febrero de 2022 \n",
        "*   Fechad de actualización: 22 de febrero de 2022\n",
        "*   Descripción: En el presente script se busca trabajar la base de datos de Sock X una tienda en linea de reventa de zapatos, la cual busca reponder cuales son las variables que determinan el precio de reventa."
      ],
      "metadata": {
        "id": "RtVyhHn8u6KV"
      }
    },
    {
      "cell_type": "code",
      "execution_count": 146,
      "metadata": {
        "colab": {
          "base_uri": "https://localhost:8080/"
        },
        "id": "-rxXGxvxucbD",
        "outputId": "63303218-63dc-45f0-8993-558abd1a41ba"
      },
      "outputs": [
        {
          "output_type": "stream",
          "name": "stdout",
          "text": [
            "Drive already mounted at /content/drive; to attempt to forcibly remount, call drive.mount(\"/content/drive\", force_remount=True).\n"
          ]
        }
      ],
      "source": [
        "from google.colab import drive\n",
        "drive.mount('/content/drive') # uno my Drive al nuevo cuaderno"
      ]
    },
    {
      "cell_type": "code",
      "source": [
        "import pandas as pd #importo la libreria panda permite manipular y molderar los datos \n",
        "import numpy as np #importo la libreria numpy manipular y molderar los datos \n",
        "import matplotlib.pyplot as plt #importo libreria matplotlib que es una libreria que me permite realizar graficas en 2 dimensiones de de mis datos\n",
        "import seaborn as sns #Esta libreria nos permite modificar la vizualizacion de los datos atraves de los coleres y mejorar presetancion de los mismo "
      ],
      "metadata": {
        "id": "GjsO_tNhx9yE"
      },
      "execution_count": 147,
      "outputs": []
    },
    {
      "cell_type": "markdown",
      "source": [
        "## Carga de datos "
      ],
      "metadata": {
        "id": "60_CvcYw8Ogt"
      }
    },
    {
      "cell_type": "code",
      "source": [
        "stock =  '/content/drive/MyDrive/Coding_Dojo/Proyecto 2 /Data/StockX-Data-Contest-2019-3.csv' #Nombro a la base\n",
        "stockx_df = pd.read_csv(stock) #le doy un nombre a la trama tener en cuenta que tipo dearchivo estoy leyendo\n",
        "stockx_df #Observo que los datos hayan sido leidos de forma correcta"
      ],
      "metadata": {
        "colab": {
          "base_uri": "https://localhost:8080/",
          "height": 423
        },
        "id": "kHo6qBxDwSQ7",
        "outputId": "9445f396-8b5a-45c2-a2b4-d61915c1afc4"
      },
      "execution_count": 148,
      "outputs": [
        {
          "output_type": "execute_result",
          "data": {
            "text/plain": [
              "      Order Date   Brand                                   Sneaker Name  \\\n",
              "0         9/1/17   Yeezy           Adidas-Yeezy-Boost-350-Low-V2-Beluga   \n",
              "1         9/1/17   Yeezy    Adidas-Yeezy-Boost-350-V2-Core-Black-Copper   \n",
              "2         9/1/17   Yeezy     Adidas-Yeezy-Boost-350-V2-Core-Black-Green   \n",
              "3         9/1/17   Yeezy       Adidas-Yeezy-Boost-350-V2-Core-Black-Red   \n",
              "4         9/1/17   Yeezy  Adidas-Yeezy-Boost-350-V2-Core-Black-Red-2017   \n",
              "...          ...     ...                                            ...   \n",
              "99951    2/13/19   Yeezy    adidas-Yeezy-Boost-350-V2-Static-Reflective   \n",
              "99952    2/13/19   Yeezy    adidas-Yeezy-Boost-350-V2-Static-Reflective   \n",
              "99953    2/13/19   Yeezy    adidas-Yeezy-Boost-350-V2-Static-Reflective   \n",
              "99954    2/13/19   Yeezy    adidas-Yeezy-Boost-350-V2-Static-Reflective   \n",
              "99955    2/13/19   Yeezy    adidas-Yeezy-Boost-350-V2-Static-Reflective   \n",
              "\n",
              "      Sale Price Retail Price Release Date  Shoe Size  Buyer Region  \n",
              "0         $1,097         $220      9/24/16       11.0    California  \n",
              "1           $685         $220     11/23/16       11.0    California  \n",
              "2           $690         $220     11/23/16       11.0    California  \n",
              "3         $1,075         $220     11/23/16       11.5      Kentucky  \n",
              "4           $828         $220      2/11/17       11.0  Rhode Island  \n",
              "...          ...          ...          ...        ...           ...  \n",
              "99951       $565         $220     12/26/18        8.0        Oregon  \n",
              "99952       $598         $220     12/26/18        8.5    California  \n",
              "99953       $605         $220     12/26/18        5.5      New York  \n",
              "99954       $650         $220     12/26/18       11.0    California  \n",
              "99955       $640         $220     12/26/18       11.5         Texas  \n",
              "\n",
              "[99956 rows x 8 columns]"
            ],
            "text/html": [
              "\n",
              "  <div id=\"df-828895fd-aaf5-42ce-a1a5-d9cacaa1da67\">\n",
              "    <div class=\"colab-df-container\">\n",
              "      <div>\n",
              "<style scoped>\n",
              "    .dataframe tbody tr th:only-of-type {\n",
              "        vertical-align: middle;\n",
              "    }\n",
              "\n",
              "    .dataframe tbody tr th {\n",
              "        vertical-align: top;\n",
              "    }\n",
              "\n",
              "    .dataframe thead th {\n",
              "        text-align: right;\n",
              "    }\n",
              "</style>\n",
              "<table border=\"1\" class=\"dataframe\">\n",
              "  <thead>\n",
              "    <tr style=\"text-align: right;\">\n",
              "      <th></th>\n",
              "      <th>Order Date</th>\n",
              "      <th>Brand</th>\n",
              "      <th>Sneaker Name</th>\n",
              "      <th>Sale Price</th>\n",
              "      <th>Retail Price</th>\n",
              "      <th>Release Date</th>\n",
              "      <th>Shoe Size</th>\n",
              "      <th>Buyer Region</th>\n",
              "    </tr>\n",
              "  </thead>\n",
              "  <tbody>\n",
              "    <tr>\n",
              "      <th>0</th>\n",
              "      <td>9/1/17</td>\n",
              "      <td>Yeezy</td>\n",
              "      <td>Adidas-Yeezy-Boost-350-Low-V2-Beluga</td>\n",
              "      <td>$1,097</td>\n",
              "      <td>$220</td>\n",
              "      <td>9/24/16</td>\n",
              "      <td>11.0</td>\n",
              "      <td>California</td>\n",
              "    </tr>\n",
              "    <tr>\n",
              "      <th>1</th>\n",
              "      <td>9/1/17</td>\n",
              "      <td>Yeezy</td>\n",
              "      <td>Adidas-Yeezy-Boost-350-V2-Core-Black-Copper</td>\n",
              "      <td>$685</td>\n",
              "      <td>$220</td>\n",
              "      <td>11/23/16</td>\n",
              "      <td>11.0</td>\n",
              "      <td>California</td>\n",
              "    </tr>\n",
              "    <tr>\n",
              "      <th>2</th>\n",
              "      <td>9/1/17</td>\n",
              "      <td>Yeezy</td>\n",
              "      <td>Adidas-Yeezy-Boost-350-V2-Core-Black-Green</td>\n",
              "      <td>$690</td>\n",
              "      <td>$220</td>\n",
              "      <td>11/23/16</td>\n",
              "      <td>11.0</td>\n",
              "      <td>California</td>\n",
              "    </tr>\n",
              "    <tr>\n",
              "      <th>3</th>\n",
              "      <td>9/1/17</td>\n",
              "      <td>Yeezy</td>\n",
              "      <td>Adidas-Yeezy-Boost-350-V2-Core-Black-Red</td>\n",
              "      <td>$1,075</td>\n",
              "      <td>$220</td>\n",
              "      <td>11/23/16</td>\n",
              "      <td>11.5</td>\n",
              "      <td>Kentucky</td>\n",
              "    </tr>\n",
              "    <tr>\n",
              "      <th>4</th>\n",
              "      <td>9/1/17</td>\n",
              "      <td>Yeezy</td>\n",
              "      <td>Adidas-Yeezy-Boost-350-V2-Core-Black-Red-2017</td>\n",
              "      <td>$828</td>\n",
              "      <td>$220</td>\n",
              "      <td>2/11/17</td>\n",
              "      <td>11.0</td>\n",
              "      <td>Rhode Island</td>\n",
              "    </tr>\n",
              "    <tr>\n",
              "      <th>...</th>\n",
              "      <td>...</td>\n",
              "      <td>...</td>\n",
              "      <td>...</td>\n",
              "      <td>...</td>\n",
              "      <td>...</td>\n",
              "      <td>...</td>\n",
              "      <td>...</td>\n",
              "      <td>...</td>\n",
              "    </tr>\n",
              "    <tr>\n",
              "      <th>99951</th>\n",
              "      <td>2/13/19</td>\n",
              "      <td>Yeezy</td>\n",
              "      <td>adidas-Yeezy-Boost-350-V2-Static-Reflective</td>\n",
              "      <td>$565</td>\n",
              "      <td>$220</td>\n",
              "      <td>12/26/18</td>\n",
              "      <td>8.0</td>\n",
              "      <td>Oregon</td>\n",
              "    </tr>\n",
              "    <tr>\n",
              "      <th>99952</th>\n",
              "      <td>2/13/19</td>\n",
              "      <td>Yeezy</td>\n",
              "      <td>adidas-Yeezy-Boost-350-V2-Static-Reflective</td>\n",
              "      <td>$598</td>\n",
              "      <td>$220</td>\n",
              "      <td>12/26/18</td>\n",
              "      <td>8.5</td>\n",
              "      <td>California</td>\n",
              "    </tr>\n",
              "    <tr>\n",
              "      <th>99953</th>\n",
              "      <td>2/13/19</td>\n",
              "      <td>Yeezy</td>\n",
              "      <td>adidas-Yeezy-Boost-350-V2-Static-Reflective</td>\n",
              "      <td>$605</td>\n",
              "      <td>$220</td>\n",
              "      <td>12/26/18</td>\n",
              "      <td>5.5</td>\n",
              "      <td>New York</td>\n",
              "    </tr>\n",
              "    <tr>\n",
              "      <th>99954</th>\n",
              "      <td>2/13/19</td>\n",
              "      <td>Yeezy</td>\n",
              "      <td>adidas-Yeezy-Boost-350-V2-Static-Reflective</td>\n",
              "      <td>$650</td>\n",
              "      <td>$220</td>\n",
              "      <td>12/26/18</td>\n",
              "      <td>11.0</td>\n",
              "      <td>California</td>\n",
              "    </tr>\n",
              "    <tr>\n",
              "      <th>99955</th>\n",
              "      <td>2/13/19</td>\n",
              "      <td>Yeezy</td>\n",
              "      <td>adidas-Yeezy-Boost-350-V2-Static-Reflective</td>\n",
              "      <td>$640</td>\n",
              "      <td>$220</td>\n",
              "      <td>12/26/18</td>\n",
              "      <td>11.5</td>\n",
              "      <td>Texas</td>\n",
              "    </tr>\n",
              "  </tbody>\n",
              "</table>\n",
              "<p>99956 rows × 8 columns</p>\n",
              "</div>\n",
              "      <button class=\"colab-df-convert\" onclick=\"convertToInteractive('df-828895fd-aaf5-42ce-a1a5-d9cacaa1da67')\"\n",
              "              title=\"Convert this dataframe to an interactive table.\"\n",
              "              style=\"display:none;\">\n",
              "        \n",
              "  <svg xmlns=\"http://www.w3.org/2000/svg\" height=\"24px\"viewBox=\"0 0 24 24\"\n",
              "       width=\"24px\">\n",
              "    <path d=\"M0 0h24v24H0V0z\" fill=\"none\"/>\n",
              "    <path d=\"M18.56 5.44l.94 2.06.94-2.06 2.06-.94-2.06-.94-.94-2.06-.94 2.06-2.06.94zm-11 1L8.5 8.5l.94-2.06 2.06-.94-2.06-.94L8.5 2.5l-.94 2.06-2.06.94zm10 10l.94 2.06.94-2.06 2.06-.94-2.06-.94-.94-2.06-.94 2.06-2.06.94z\"/><path d=\"M17.41 7.96l-1.37-1.37c-.4-.4-.92-.59-1.43-.59-.52 0-1.04.2-1.43.59L10.3 9.45l-7.72 7.72c-.78.78-.78 2.05 0 2.83L4 21.41c.39.39.9.59 1.41.59.51 0 1.02-.2 1.41-.59l7.78-7.78 2.81-2.81c.8-.78.8-2.07 0-2.86zM5.41 20L4 18.59l7.72-7.72 1.47 1.35L5.41 20z\"/>\n",
              "  </svg>\n",
              "      </button>\n",
              "      \n",
              "  <style>\n",
              "    .colab-df-container {\n",
              "      display:flex;\n",
              "      flex-wrap:wrap;\n",
              "      gap: 12px;\n",
              "    }\n",
              "\n",
              "    .colab-df-convert {\n",
              "      background-color: #E8F0FE;\n",
              "      border: none;\n",
              "      border-radius: 50%;\n",
              "      cursor: pointer;\n",
              "      display: none;\n",
              "      fill: #1967D2;\n",
              "      height: 32px;\n",
              "      padding: 0 0 0 0;\n",
              "      width: 32px;\n",
              "    }\n",
              "\n",
              "    .colab-df-convert:hover {\n",
              "      background-color: #E2EBFA;\n",
              "      box-shadow: 0px 1px 2px rgba(60, 64, 67, 0.3), 0px 1px 3px 1px rgba(60, 64, 67, 0.15);\n",
              "      fill: #174EA6;\n",
              "    }\n",
              "\n",
              "    [theme=dark] .colab-df-convert {\n",
              "      background-color: #3B4455;\n",
              "      fill: #D2E3FC;\n",
              "    }\n",
              "\n",
              "    [theme=dark] .colab-df-convert:hover {\n",
              "      background-color: #434B5C;\n",
              "      box-shadow: 0px 1px 3px 1px rgba(0, 0, 0, 0.15);\n",
              "      filter: drop-shadow(0px 1px 2px rgba(0, 0, 0, 0.3));\n",
              "      fill: #FFFFFF;\n",
              "    }\n",
              "  </style>\n",
              "\n",
              "      <script>\n",
              "        const buttonEl =\n",
              "          document.querySelector('#df-828895fd-aaf5-42ce-a1a5-d9cacaa1da67 button.colab-df-convert');\n",
              "        buttonEl.style.display =\n",
              "          google.colab.kernel.accessAllowed ? 'block' : 'none';\n",
              "\n",
              "        async function convertToInteractive(key) {\n",
              "          const element = document.querySelector('#df-828895fd-aaf5-42ce-a1a5-d9cacaa1da67');\n",
              "          const dataTable =\n",
              "            await google.colab.kernel.invokeFunction('convertToInteractive',\n",
              "                                                     [key], {});\n",
              "          if (!dataTable) return;\n",
              "\n",
              "          const docLinkHtml = 'Like what you see? Visit the ' +\n",
              "            '<a target=\"_blank\" href=https://colab.research.google.com/notebooks/data_table.ipynb>data table notebook</a>'\n",
              "            + ' to learn more about interactive tables.';\n",
              "          element.innerHTML = '';\n",
              "          dataTable['output_type'] = 'display_data';\n",
              "          await google.colab.output.renderOutput(dataTable, element);\n",
              "          const docLink = document.createElement('div');\n",
              "          docLink.innerHTML = docLinkHtml;\n",
              "          element.appendChild(docLink);\n",
              "        }\n",
              "      </script>\n",
              "    </div>\n",
              "  </div>\n",
              "  "
            ]
          },
          "metadata": {},
          "execution_count": 148
        }
      ]
    },
    {
      "cell_type": "markdown",
      "source": [
        "## Exploración de la base "
      ],
      "metadata": {
        "id": "1f7HDExH8Tfd"
      }
    },
    {
      "cell_type": "code",
      "source": [
        "stockx_df.info()"
      ],
      "metadata": {
        "colab": {
          "base_uri": "https://localhost:8080/"
        },
        "id": "7CQla69qyiQ4",
        "outputId": "5891533c-c14e-4da5-8de8-bf0199b13c49"
      },
      "execution_count": 149,
      "outputs": [
        {
          "output_type": "stream",
          "name": "stdout",
          "text": [
            "<class 'pandas.core.frame.DataFrame'>\n",
            "RangeIndex: 99956 entries, 0 to 99955\n",
            "Data columns (total 8 columns):\n",
            " #   Column        Non-Null Count  Dtype  \n",
            "---  ------        --------------  -----  \n",
            " 0   Order Date    99956 non-null  object \n",
            " 1   Brand         99956 non-null  object \n",
            " 2   Sneaker Name  99956 non-null  object \n",
            " 3   Sale Price    99956 non-null  object \n",
            " 4   Retail Price  99956 non-null  object \n",
            " 5   Release Date  99956 non-null  object \n",
            " 6   Shoe Size     99956 non-null  float64\n",
            " 7   Buyer Region  99956 non-null  object \n",
            "dtypes: float64(1), object(7)\n",
            "memory usage: 6.1+ MB\n"
          ]
        }
      ]
    },
    {
      "cell_type": "code",
      "source": [
        "stockx_df.columns= stockx_df.columns.str.lower()#primero defino a todos los nombres de las columnas en letra minuscula"
      ],
      "metadata": {
        "id": "tDqh0VG27RnY"
      },
      "execution_count": 150,
      "outputs": []
    },
    {
      "cell_type": "code",
      "source": [
        "stockx_df.columns = stockx_df.columns.str.replace(' ', '_') #en esta linea realizo el cambio de los espacios del nombre de las columnas por \n",
        "#el '_' "
      ],
      "metadata": {
        "id": "woVlTPLO7anK"
      },
      "execution_count": 151,
      "outputs": []
    },
    {
      "cell_type": "code",
      "source": [
        "stockx_df.info()"
      ],
      "metadata": {
        "colab": {
          "base_uri": "https://localhost:8080/"
        },
        "id": "Nr6iLVir7lQh",
        "outputId": "82fdf65d-f7a6-4f96-8e1d-f6001fcbd6ba"
      },
      "execution_count": 152,
      "outputs": [
        {
          "output_type": "stream",
          "name": "stdout",
          "text": [
            "<class 'pandas.core.frame.DataFrame'>\n",
            "RangeIndex: 99956 entries, 0 to 99955\n",
            "Data columns (total 8 columns):\n",
            " #   Column        Non-Null Count  Dtype  \n",
            "---  ------        --------------  -----  \n",
            " 0   order_date    99956 non-null  object \n",
            " 1   brand         99956 non-null  object \n",
            " 2   sneaker_name  99956 non-null  object \n",
            " 3   sale_price    99956 non-null  object \n",
            " 4   retail_price  99956 non-null  object \n",
            " 5   release_date  99956 non-null  object \n",
            " 6   shoe_size     99956 non-null  float64\n",
            " 7   buyer_region  99956 non-null  object \n",
            "dtypes: float64(1), object(7)\n",
            "memory usage: 6.1+ MB\n"
          ]
        }
      ]
    },
    {
      "cell_type": "code",
      "source": [
        "stockx_df['brand'].unique()"
      ],
      "metadata": {
        "colab": {
          "base_uri": "https://localhost:8080/"
        },
        "id": "CNdBlPBfyqCc",
        "outputId": "02bb28e3-b830-4235-b1b9-9cd2f9e0917f"
      },
      "execution_count": 153,
      "outputs": [
        {
          "output_type": "execute_result",
          "data": {
            "text/plain": [
              "array([' Yeezy', 'Off-White'], dtype=object)"
            ]
          },
          "metadata": {},
          "execution_count": 153
        }
      ]
    },
    {
      "cell_type": "code",
      "source": [
        "stockx_df['sneaker_name'].unique()"
      ],
      "metadata": {
        "colab": {
          "base_uri": "https://localhost:8080/"
        },
        "id": "IQWEdQzv2Psl",
        "outputId": "7f6b563e-2fe9-4915-cbd5-8552f6cec803"
      },
      "execution_count": 154,
      "outputs": [
        {
          "output_type": "execute_result",
          "data": {
            "text/plain": [
              "array(['Adidas-Yeezy-Boost-350-Low-V2-Beluga',\n",
              "       'Adidas-Yeezy-Boost-350-V2-Core-Black-Copper',\n",
              "       'Adidas-Yeezy-Boost-350-V2-Core-Black-Green',\n",
              "       'Adidas-Yeezy-Boost-350-V2-Core-Black-Red',\n",
              "       'Adidas-Yeezy-Boost-350-V2-Core-Black-Red-2017',\n",
              "       'Adidas-Yeezy-Boost-350-V2-Core-Black-White',\n",
              "       'Adidas-Yeezy-Boost-350-V2-Cream-White',\n",
              "       'Adidas-Yeezy-Boost-350-V2-Zebra',\n",
              "       'Adidas-Yeezy-Boost-350-Low-Moonrock', 'Nike-Air-Max-90-Off-White',\n",
              "       'Nike-Air-Presto-Off-White', 'Nike-Air-VaporMax-Off-White',\n",
              "       'Air-Jordan-1-Retro-High-Off-White-Chicago',\n",
              "       'Nike-Blazer-Mid-Off-White',\n",
              "       'Adidas-Yeezy-Boost-350-Low-Pirate-Black-2016',\n",
              "       'Adidas-Yeezy-Boost-350-Low-Oxford-Tan',\n",
              "       'Adidas-Yeezy-Boost-350-Low-Turtledove',\n",
              "       'Adidas-Yeezy-Boost-350-Low-Pirate-Black-2015',\n",
              "       'Adidas-Yeezy-Boost-350-V2-Semi-Frozen-Yellow',\n",
              "       'Nike-Air-Force-1-Low-Off-White', 'Nike-Air-Max-97-Off-White',\n",
              "       'Nike-Air-Force-1-Low-Virgil-Abloh-Off-White-AF100',\n",
              "       'Nike-React-Hyperdunk-2017-Flyknit-Off-White',\n",
              "       'Nike-Zoom-Fly-Off-White', 'Adidas-Yeezy-Boost-350-V2-Beluga-2pt0',\n",
              "       'Adidas-Yeezy-Boost-350-V2-Blue-Tint',\n",
              "       'Nike-Air-VaporMax-Off-White-2018',\n",
              "       'Air-Jordan-1-Retro-High-Off-White-White',\n",
              "       'Nike-Air-VaporMax-Off-White-Black',\n",
              "       'Air-Jordan-1-Retro-High-Off-White-University-Blue',\n",
              "       'Nike-Air-Presto-Off-White-Black-2018',\n",
              "       'Nike-Air-Presto-Off-White-White-2018',\n",
              "       'Nike-Zoom-Fly-Mercurial-Off-White-Black',\n",
              "       'Nike-Zoom-Fly-Mercurial-Off-White-Total-Orange',\n",
              "       'adidas-Yeezy-Boost-350-V2-Butter',\n",
              "       'Nike-Air-Max-97-Off-White-Elemental-Rose-Queen',\n",
              "       'Nike-Blazer-Mid-Off-White-All-Hallows-Eve',\n",
              "       'Nike-Blazer-Mid-Off-White-Grim-Reaper',\n",
              "       'Adidas-Yeezy-Boost-350-V2-Sesame',\n",
              "       'Nike-Blazer-Mid-Off-White-Wolf-Grey',\n",
              "       'Nike-Air-Max-97-Off-White-Menta',\n",
              "       'Nike-Air-Max-97-Off-White-Black',\n",
              "       'Nike-Zoom-Fly-Off-White-Black-Silver',\n",
              "       'Nike-Zoom-Fly-Off-White-Pink',\n",
              "       'Nike-Air-Force-1-Low-Off-White-Volt',\n",
              "       'Nike-Air-Force-1-Low-Off-White-Black-White',\n",
              "       'adidas-Yeezy-Boost-350-V2-Static',\n",
              "       'adidas-Yeezy-Boost-350-V2-Static-Reflective',\n",
              "       'Nike-Air-Max-90-Off-White-Black',\n",
              "       'Nike-Air-Max-90-Off-White-Desert-Ore'], dtype=object)"
            ]
          },
          "metadata": {},
          "execution_count": 154
        }
      ]
    },
    {
      "cell_type": "code",
      "source": [
        "number_of_siluettes = len(stockx_df['sneaker_name'].unique())\n",
        "print(\"Numero de Siluetas  que existen en la base de datos:\", number_of_siluettes)"
      ],
      "metadata": {
        "colab": {
          "base_uri": "https://localhost:8080/"
        },
        "id": "zowH5CR06hG6",
        "outputId": "48ee41d9-6947-4696-f933-092ace45fcad"
      },
      "execution_count": 155,
      "outputs": [
        {
          "output_type": "stream",
          "name": "stdout",
          "text": [
            "Numero de Siluetas  que existen en la base de datos: 50\n"
          ]
        }
      ]
    },
    {
      "cell_type": "markdown",
      "source": [
        "##### Durante la priemra explaración se ha tomado un pequeño vistazo a la base, esta base parce bastante limpia ya que no cuenta con valores perdidos, además se revisa dos de las varables mas importantes dentro del **\"Sneaker Game\"** es decir el mecado de reventa de zapatos, estas son la marca donde se devela que el estudio solo cuenta con dos marcas y estas son NIKE en su colaboración con la marca OFF WHITE del difunto diseñador Virgil Abloh y Adidas con su marca YEZZY del rapero y diseñador Kayne West dos iconos de la cultura pop en los ultimos años. dentro de esto podemos observar que la marca Nike cuenta con su coleccion de 10 y Adidas con la silueta Yezzy 350 en sus diferentes color ways. \n",
        "\n",
        "##### Para mayor informacion podemos revisar los siguientes Links \n",
        "* https://www.farfetch.com/uk/style-guide/how-to/the-history-of-the-yeezy-boost-350/\n",
        "\n",
        "* https://www.nssmag.com/en/fashion/12262/virgil-abloh-explains-the-off-white-x-nike-collection-the-ten\n",
        "  "
      ],
      "metadata": {
        "id": "eUYL1nFw78f-"
      }
    },
    {
      "cell_type": "code",
      "source": [
        "prices = ['retail_price',\"sale_price\"]\n",
        "\n",
        "for p in prices:\n",
        "    stockx_df[p] = stockx_df[p].str.replace('$','')\n",
        "    \n"
      ],
      "metadata": {
        "colab": {
          "base_uri": "https://localhost:8080/"
        },
        "id": "5F36dK22-_06",
        "outputId": "78c23a24-c996-4424-b3e7-1969d717b21f"
      },
      "execution_count": 156,
      "outputs": [
        {
          "output_type": "stream",
          "name": "stderr",
          "text": [
            "/usr/local/lib/python3.7/dist-packages/ipykernel_launcher.py:4: FutureWarning: The default value of regex will change from True to False in a future version. In addition, single character regular expressions will *not* be treated as literal strings when regex=True.\n",
            "  after removing the cwd from sys.path.\n"
          ]
        }
      ]
    },
    {
      "cell_type": "code",
      "source": [
        "prices = ['retail_price',\"sale_price\"]\n",
        "\n",
        "for p in prices:\n",
        "    stockx_df[p] = stockx_df[p].str.replace(',','')\n",
        "    "
      ],
      "metadata": {
        "id": "T8U35UQ8Arpu"
      },
      "execution_count": 157,
      "outputs": []
    },
    {
      "cell_type": "code",
      "source": [
        "prices = ['retail_price',\"sale_price\"]\n",
        "\n",
        "for p in prices:\n",
        "    stockx_df[p] = stockx_df[p].astype(str).astype(int)"
      ],
      "metadata": {
        "id": "kPvTFj3sAfCV"
      },
      "execution_count": 158,
      "outputs": []
    },
    {
      "cell_type": "code",
      "source": [
        "dates = [\"order_date\",\"release_date\"]\n",
        "\n",
        "for d in dates:\n",
        "    stockx_df[d] = stockx_df[d].astype(\"datetime64\")"
      ],
      "metadata": {
        "id": "moM0RpzsYqX0"
      },
      "execution_count": 159,
      "outputs": []
    },
    {
      "cell_type": "code",
      "source": [
        "categoricals = [\"brand\", \"sneaker_name\", \"buyer_region\" ]\n",
        "\n",
        "for c in categoricals:\n",
        "  stockx_df[c] = stockx_df[c].astype('category')"
      ],
      "metadata": {
        "id": "sf-YkTfcbikk"
      },
      "execution_count": 160,
      "outputs": []
    },
    {
      "cell_type": "code",
      "source": [
        "stockx_df.info()"
      ],
      "metadata": {
        "colab": {
          "base_uri": "https://localhost:8080/"
        },
        "id": "C_KcejUiALAv",
        "outputId": "4c83f37f-dc23-42ec-95ad-c43e6511182d"
      },
      "execution_count": 161,
      "outputs": [
        {
          "output_type": "stream",
          "name": "stdout",
          "text": [
            "<class 'pandas.core.frame.DataFrame'>\n",
            "RangeIndex: 99956 entries, 0 to 99955\n",
            "Data columns (total 8 columns):\n",
            " #   Column        Non-Null Count  Dtype         \n",
            "---  ------        --------------  -----         \n",
            " 0   order_date    99956 non-null  datetime64[ns]\n",
            " 1   brand         99956 non-null  category      \n",
            " 2   sneaker_name  99956 non-null  category      \n",
            " 3   sale_price    99956 non-null  int64         \n",
            " 4   retail_price  99956 non-null  int64         \n",
            " 5   release_date  99956 non-null  datetime64[ns]\n",
            " 6   shoe_size     99956 non-null  float64       \n",
            " 7   buyer_region  99956 non-null  category      \n",
            "dtypes: category(3), datetime64[ns](2), float64(1), int64(2)\n",
            "memory usage: 4.1 MB\n"
          ]
        }
      ]
    },
    {
      "cell_type": "markdown",
      "source": [
        "## Primeras impresiones "
      ],
      "metadata": {
        "id": "CRQ58YZyO2-S"
      }
    },
    {
      "cell_type": "code",
      "source": [
        "round(stockx_df.groupby([\"brand\",\"sneaker_name\"])[\"sale_price\"].mean(),2) #ojo revisar esta clasificación "
      ],
      "metadata": {
        "colab": {
          "base_uri": "https://localhost:8080/"
        },
        "id": "hj8smfdR7HFx",
        "outputId": "b034aa99-ef56-4cf3-eeb3-d2be5070bd87"
      },
      "execution_count": 162,
      "outputs": [
        {
          "output_type": "execute_result",
          "data": {
            "text/plain": [
              "brand      sneaker_name                                \n",
              " Yeezy     Adidas-Yeezy-Boost-350-Low-Moonrock              996.71\n",
              "           Adidas-Yeezy-Boost-350-Low-Oxford-Tan           1011.51\n",
              "           Adidas-Yeezy-Boost-350-Low-Pirate-Black-2015     895.09\n",
              "           Adidas-Yeezy-Boost-350-Low-Pirate-Black-2016     984.24\n",
              "           Adidas-Yeezy-Boost-350-Low-Turtledove           1531.66\n",
              "                                                            ...   \n",
              "Off-White  Nike-Zoom-Fly-Off-White-Black-Silver             316.69\n",
              "           Nike-Zoom-Fly-Off-White-Pink                     271.17\n",
              "           adidas-Yeezy-Boost-350-V2-Butter                    NaN\n",
              "           adidas-Yeezy-Boost-350-V2-Static                    NaN\n",
              "           adidas-Yeezy-Boost-350-V2-Static-Reflective         NaN\n",
              "Name: sale_price, Length: 100, dtype: float64"
            ]
          },
          "metadata": {},
          "execution_count": 162
        }
      ]
    },
    {
      "cell_type": "code",
      "source": [
        "round(stockx_df.groupby([\"brand\"])[\"retail_price\"].mean(),2)"
      ],
      "metadata": {
        "colab": {
          "base_uri": "https://localhost:8080/"
        },
        "id": "XvHJwpeEH0f6",
        "outputId": "7520d653-8b39-4935-8889-b3cb7816a584"
      },
      "execution_count": 163,
      "outputs": [
        {
          "output_type": "execute_result",
          "data": {
            "text/plain": [
              "brand\n",
              " Yeezy       219.87\n",
              "Off-White    179.38\n",
              "Name: retail_price, dtype: float64"
            ]
          },
          "metadata": {},
          "execution_count": 163
        }
      ]
    },
    {
      "cell_type": "code",
      "source": [
        "Yeezy = 219.87\n",
        "OffWhite = 179.38\n",
        "x = Yeezy - OffWhite \n",
        "y = np.around((x / OffWhite)*100,2)\n",
        "print(\"La diferencia de precios de salida de Yeezy supera a Off-White en \", y ,\"%\")"
      ],
      "metadata": {
        "colab": {
          "base_uri": "https://localhost:8080/"
        },
        "id": "s3-W9dnfKsp7",
        "outputId": "783cddbc-e9ce-48dd-df5f-689b81954075"
      },
      "execution_count": 164,
      "outputs": [
        {
          "output_type": "stream",
          "name": "stdout",
          "text": [
            "La diferencia de precios de salida de Yeezy supera a Off-White en  22.57 %\n"
          ]
        }
      ]
    },
    {
      "cell_type": "code",
      "source": [
        "round(stockx_df.groupby([\"brand\"])[\"sale_price\"].mean(),2)"
      ],
      "metadata": {
        "colab": {
          "base_uri": "https://localhost:8080/"
        },
        "id": "z9EIOD36MhUw",
        "outputId": "a187c609-80f3-4ee0-8823-89bb3569487d"
      },
      "execution_count": 165,
      "outputs": [
        {
          "output_type": "execute_result",
          "data": {
            "text/plain": [
              "brand\n",
              " Yeezy       360.03\n",
              "Off-White    671.48\n",
              "Name: sale_price, dtype: float64"
            ]
          },
          "metadata": {},
          "execution_count": 165
        }
      ]
    },
    {
      "cell_type": "code",
      "source": [
        "Yeezys = 360.03\n",
        "OffWhites = 671.48\n",
        "x1 =  OffWhites - Yeezys\n",
        "y1 = np.around((x1 / Yeezys )*100,2)\n",
        "print(\"La diferencia de precios de salida de Yeezy supera a Off-White en \", y1 ,\"%\")"
      ],
      "metadata": {
        "colab": {
          "base_uri": "https://localhost:8080/"
        },
        "id": "pg3jO2WcMlhA",
        "outputId": "b3e3f96c-9f64-4845-d091-c9736d451bfe"
      },
      "execution_count": 166,
      "outputs": [
        {
          "output_type": "stream",
          "name": "stdout",
          "text": [
            "La diferencia de precios de salida de Yeezy supera a Off-White en  86.51 %\n"
          ]
        }
      ]
    },
    {
      "cell_type": "markdown",
      "source": [
        "##### Dentro de esta exploracion preliminar encontramos que la marca Yezzy tiene un precio de salida mayor al de Off-White, con un 22.57% de diferencia, sin embargo, el publico paga mas en reventa por un par Off-white con una diferencia del 86.51%"
      ],
      "metadata": {
        "id": "5GtH1BzjNCLa"
      }
    },
    {
      "cell_type": "markdown",
      "source": [
        "### Graficos de las primeras impresiones "
      ],
      "metadata": {
        "id": "oIT2m0PoPBcr"
      }
    },
    {
      "cell_type": "code",
      "source": [
        "round(stockx_df.groupby([\"brand\"])[\"retail_price\"].mean(),2).plot(kind = \"bar\", colormap = \"inferno\")"
      ],
      "metadata": {
        "colab": {
          "base_uri": "https://localhost:8080/",
          "height": 334
        },
        "id": "SVsyb2AVOxfq",
        "outputId": "cdb250f3-b7e0-4545-d7de-4b9b8b6bfaf9"
      },
      "execution_count": 167,
      "outputs": [
        {
          "output_type": "execute_result",
          "data": {
            "text/plain": [
              "<matplotlib.axes._subplots.AxesSubplot at 0x7fb643ec9fd0>"
            ]
          },
          "metadata": {},
          "execution_count": 167
        },
        {
          "output_type": "display_data",
          "data": {
            "text/plain": [
              "<Figure size 432x288 with 1 Axes>"
            ],
            "image/png": "[encoded data removed]"
          },
          "metadata": {
            "needs_background": "light"
          }
        }
      ]
    },
    {
      "cell_type": "code",
      "source": [
        "round(stockx_df.groupby([\"brand\"])[\"sale_price\"].mean(),2).plot(kind = \"bar\", colormap = \"inferno\")"
      ],
      "metadata": {
        "colab": {
          "base_uri": "https://localhost:8080/",
          "height": 336
        },
        "id": "Lsek-B7n7exi",
        "outputId": "51789c13-69b4-4669-d36a-dc3f29c36ef5"
      },
      "execution_count": 168,
      "outputs": [
        {
          "output_type": "execute_result",
          "data": {
            "text/plain": [
              "<matplotlib.axes._subplots.AxesSubplot at 0x7fb6424115d0>"
            ]
          },
          "metadata": {},
          "execution_count": 168
        },
        {
          "output_type": "display_data",
          "data": {
            "text/plain": [
              "<Figure size 432x288 with 1 Axes>"
            ],
            "image/png": "[encoded data removed]"
          },
          "metadata": {
            "needs_background": "light"
          }
        }
      ]
    },
    {
      "cell_type": "markdown",
      "source": [
        "## Manipulación de la base "
      ],
      "metadata": {
        "id": "8reZ36exDDuj"
      }
    },
    {
      "cell_type": "code",
      "source": [
        "#separo mis base la columna snaker name \n",
        "stockx_df1 = stockx_df.copy()\n",
        "stockx_df1['sneaker_name'] = stockx_df1['sneaker_name'].str.upper() #convierto todos los nombres de mi columna en mayusculas \n"
      ],
      "metadata": {
        "id": "dT8FqjVX7z9E"
      },
      "execution_count": 169,
      "outputs": []
    },
    {
      "cell_type": "code",
      "source": [
        "stockx_df1.head(5)"
      ],
      "metadata": {
        "colab": {
          "base_uri": "https://localhost:8080/",
          "height": 206
        },
        "id": "k-YLxkVxMqPI",
        "outputId": "6fbeb391-7b19-4813-bbe7-7bbe4984085e"
      },
      "execution_count": 170,
      "outputs": [
        {
          "output_type": "execute_result",
          "data": {
            "text/plain": [
              "  order_date   brand                                   sneaker_name  \\\n",
              "0 2017-09-01   Yeezy           ADIDAS-YEEZY-BOOST-350-LOW-V2-BELUGA   \n",
              "1 2017-09-01   Yeezy    ADIDAS-YEEZY-BOOST-350-V2-CORE-BLACK-COPPER   \n",
              "2 2017-09-01   Yeezy     ADIDAS-YEEZY-BOOST-350-V2-CORE-BLACK-GREEN   \n",
              "3 2017-09-01   Yeezy       ADIDAS-YEEZY-BOOST-350-V2-CORE-BLACK-RED   \n",
              "4 2017-09-01   Yeezy  ADIDAS-YEEZY-BOOST-350-V2-CORE-BLACK-RED-2017   \n",
              "\n",
              "   sale_price  retail_price release_date  shoe_size  buyer_region  \n",
              "0        1097           220   2016-09-24       11.0    California  \n",
              "1         685           220   2016-11-23       11.0    California  \n",
              "2         690           220   2016-11-23       11.0    California  \n",
              "3        1075           220   2016-11-23       11.5      Kentucky  \n",
              "4         828           220   2017-02-11       11.0  Rhode Island  "
            ],
            "text/html": [
              "\n",
              "  <div id=\"df-eedb5283-33b2-49d9-89ae-9e940ce93ad6\">\n",
              "    <div class=\"colab-df-container\">\n",
              "      <div>\n",
              "<style scoped>\n",
              "    .dataframe tbody tr th:only-of-type {\n",
              "        vertical-align: middle;\n",
              "    }\n",
              "\n",
              "    .dataframe tbody tr th {\n",
              "        vertical-align: top;\n",
              "    }\n",
              "\n",
              "    .dataframe thead th {\n",
              "        text-align: right;\n",
              "    }\n",
              "</style>\n",
              "<table border=\"1\" class=\"dataframe\">\n",
              "  <thead>\n",
              "    <tr style=\"text-align: right;\">\n",
              "      <th></th>\n",
              "      <th>order_date</th>\n",
              "      <th>brand</th>\n",
              "      <th>sneaker_name</th>\n",
              "      <th>sale_price</th>\n",
              "      <th>retail_price</th>\n",
              "      <th>release_date</th>\n",
              "      <th>shoe_size</th>\n",
              "      <th>buyer_region</th>\n",
              "    </tr>\n",
              "  </thead>\n",
              "  <tbody>\n",
              "    <tr>\n",
              "      <th>0</th>\n",
              "      <td>2017-09-01</td>\n",
              "      <td>Yeezy</td>\n",
              "      <td>ADIDAS-YEEZY-BOOST-350-LOW-V2-BELUGA</td>\n",
              "      <td>1097</td>\n",
              "      <td>220</td>\n",
              "      <td>2016-09-24</td>\n",
              "      <td>11.0</td>\n",
              "      <td>California</td>\n",
              "    </tr>\n",
              "    <tr>\n",
              "      <th>1</th>\n",
              "      <td>2017-09-01</td>\n",
              "      <td>Yeezy</td>\n",
              "      <td>ADIDAS-YEEZY-BOOST-350-V2-CORE-BLACK-COPPER</td>\n",
              "      <td>685</td>\n",
              "      <td>220</td>\n",
              "      <td>2016-11-23</td>\n",
              "      <td>11.0</td>\n",
              "      <td>California</td>\n",
              "    </tr>\n",
              "    <tr>\n",
              "      <th>2</th>\n",
              "      <td>2017-09-01</td>\n",
              "      <td>Yeezy</td>\n",
              "      <td>ADIDAS-YEEZY-BOOST-350-V2-CORE-BLACK-GREEN</td>\n",
              "      <td>690</td>\n",
              "      <td>220</td>\n",
              "      <td>2016-11-23</td>\n",
              "      <td>11.0</td>\n",
              "      <td>California</td>\n",
              "    </tr>\n",
              "    <tr>\n",
              "      <th>3</th>\n",
              "      <td>2017-09-01</td>\n",
              "      <td>Yeezy</td>\n",
              "      <td>ADIDAS-YEEZY-BOOST-350-V2-CORE-BLACK-RED</td>\n",
              "      <td>1075</td>\n",
              "      <td>220</td>\n",
              "      <td>2016-11-23</td>\n",
              "      <td>11.5</td>\n",
              "      <td>Kentucky</td>\n",
              "    </tr>\n",
              "    <tr>\n",
              "      <th>4</th>\n",
              "      <td>2017-09-01</td>\n",
              "      <td>Yeezy</td>\n",
              "      <td>ADIDAS-YEEZY-BOOST-350-V2-CORE-BLACK-RED-2017</td>\n",
              "      <td>828</td>\n",
              "      <td>220</td>\n",
              "      <td>2017-02-11</td>\n",
              "      <td>11.0</td>\n",
              "      <td>Rhode Island</td>\n",
              "    </tr>\n",
              "  </tbody>\n",
              "</table>\n",
              "</div>\n",
              "      <button class=\"colab-df-convert\" onclick=\"convertToInteractive('df-eedb5283-33b2-49d9-89ae-9e940ce93ad6')\"\n",
              "              title=\"Convert this dataframe to an interactive table.\"\n",
              "              style=\"display:none;\">\n",
              "        \n",
              "  <svg xmlns=\"http://www.w3.org/2000/svg\" height=\"24px\"viewBox=\"0 0 24 24\"\n",
              "       width=\"24px\">\n",
              "    <path d=\"M0 0h24v24H0V0z\" fill=\"none\"/>\n",
              "    <path d=\"M18.56 5.44l.94 2.06.94-2.06 2.06-.94-2.06-.94-.94-2.06-.94 2.06-2.06.94zm-11 1L8.5 8.5l.94-2.06 2.06-.94-2.06-.94L8.5 2.5l-.94 2.06-2.06.94zm10 10l.94 2.06.94-2.06 2.06-.94-2.06-.94-.94-2.06-.94 2.06-2.06.94z\"/><path d=\"M17.41 7.96l-1.37-1.37c-.4-.4-.92-.59-1.43-.59-.52 0-1.04.2-1.43.59L10.3 9.45l-7.72 7.72c-.78.78-.78 2.05 0 2.83L4 21.41c.39.39.9.59 1.41.59.51 0 1.02-.2 1.41-.59l7.78-7.78 2.81-2.81c.8-.78.8-2.07 0-2.86zM5.41 20L4 18.59l7.72-7.72 1.47 1.35L5.41 20z\"/>\n",
              "  </svg>\n",
              "      </button>\n",
              "      \n",
              "  <style>\n",
              "    .colab-df-container {\n",
              "      display:flex;\n",
              "      flex-wrap:wrap;\n",
              "      gap: 12px;\n",
              "    }\n",
              "\n",
              "    .colab-df-convert {\n",
              "      background-color: #E8F0FE;\n",
              "      border: none;\n",
              "      border-radius: 50%;\n",
              "      cursor: pointer;\n",
              "      display: none;\n",
              "      fill: #1967D2;\n",
              "      height: 32px;\n",
              "      padding: 0 0 0 0;\n",
              "      width: 32px;\n",
              "    }\n",
              "\n",
              "    .colab-df-convert:hover {\n",
              "      background-color: #E2EBFA;\n",
              "      box-shadow: 0px 1px 2px rgba(60, 64, 67, 0.3), 0px 1px 3px 1px rgba(60, 64, 67, 0.15);\n",
              "      fill: #174EA6;\n",
              "    }\n",
              "\n",
              "    [theme=dark] .colab-df-convert {\n",
              "      background-color: #3B4455;\n",
              "      fill: #D2E3FC;\n",
              "    }\n",
              "\n",
              "    [theme=dark] .colab-df-convert:hover {\n",
              "      background-color: #434B5C;\n",
              "      box-shadow: 0px 1px 3px 1px rgba(0, 0, 0, 0.15);\n",
              "      filter: drop-shadow(0px 1px 2px rgba(0, 0, 0, 0.3));\n",
              "      fill: #FFFFFF;\n",
              "    }\n",
              "  </style>\n",
              "\n",
              "      <script>\n",
              "        const buttonEl =\n",
              "          document.querySelector('#df-eedb5283-33b2-49d9-89ae-9e940ce93ad6 button.colab-df-convert');\n",
              "        buttonEl.style.display =\n",
              "          google.colab.kernel.accessAllowed ? 'block' : 'none';\n",
              "\n",
              "        async function convertToInteractive(key) {\n",
              "          const element = document.querySelector('#df-eedb5283-33b2-49d9-89ae-9e940ce93ad6');\n",
              "          const dataTable =\n",
              "            await google.colab.kernel.invokeFunction('convertToInteractive',\n",
              "                                                     [key], {});\n",
              "          if (!dataTable) return;\n",
              "\n",
              "          const docLinkHtml = 'Like what you see? Visit the ' +\n",
              "            '<a target=\"_blank\" href=https://colab.research.google.com/notebooks/data_table.ipynb>data table notebook</a>'\n",
              "            + ' to learn more about interactive tables.';\n",
              "          element.innerHTML = '';\n",
              "          dataTable['output_type'] = 'display_data';\n",
              "          await google.colab.output.renderOutput(dataTable, element);\n",
              "          const docLink = document.createElement('div');\n",
              "          docLink.innerHTML = docLinkHtml;\n",
              "          element.appendChild(docLink);\n",
              "        }\n",
              "      </script>\n",
              "    </div>\n",
              "  </div>\n",
              "  "
            ]
          },
          "metadata": {},
          "execution_count": 170
        }
      ]
    },
    {
      "cell_type": "code",
      "source": [
        "stockx_df1 = stockx_df1['sneaker_name'].str.split('-',expand = True) #divido el nomebre de mi "
      ],
      "metadata": {
        "id": "6tqpOdoTOyw9"
      },
      "execution_count": 171,
      "outputs": []
    },
    {
      "cell_type": "code",
      "source": [
        "stockx_df1"
      ],
      "metadata": {
        "colab": {
          "base_uri": "https://localhost:8080/",
          "height": 423
        },
        "id": "gPa0H5p9d1R7",
        "outputId": "70882c51-4a9f-4742-9bbc-d1851b23f1ea"
      },
      "execution_count": 172,
      "outputs": [
        {
          "output_type": "execute_result",
          "data": {
            "text/plain": [
              "            0      1      2    3    4       5           6       7     8     9\n",
              "0      ADIDAS  YEEZY  BOOST  350  LOW      V2      BELUGA    None  None  None\n",
              "1      ADIDAS  YEEZY  BOOST  350   V2    CORE       BLACK  COPPER  None  None\n",
              "2      ADIDAS  YEEZY  BOOST  350   V2    CORE       BLACK   GREEN  None  None\n",
              "3      ADIDAS  YEEZY  BOOST  350   V2    CORE       BLACK     RED  None  None\n",
              "4      ADIDAS  YEEZY  BOOST  350   V2    CORE       BLACK     RED  2017  None\n",
              "...       ...    ...    ...  ...  ...     ...         ...     ...   ...   ...\n",
              "99951  ADIDAS  YEEZY  BOOST  350   V2  STATIC  REFLECTIVE    None  None  None\n",
              "99952  ADIDAS  YEEZY  BOOST  350   V2  STATIC  REFLECTIVE    None  None  None\n",
              "99953  ADIDAS  YEEZY  BOOST  350   V2  STATIC  REFLECTIVE    None  None  None\n",
              "99954  ADIDAS  YEEZY  BOOST  350   V2  STATIC  REFLECTIVE    None  None  None\n",
              "99955  ADIDAS  YEEZY  BOOST  350   V2  STATIC  REFLECTIVE    None  None  None\n",
              "\n",
              "[99956 rows x 10 columns]"
            ],
            "text/html": [
              "\n",
              "  <div id=\"df-1ec5300f-698f-4fd1-b43d-c6775fe118a9\">\n",
              "    <div class=\"colab-df-container\">\n",
              "      <div>\n",
              "<style scoped>\n",
              "    .dataframe tbody tr th:only-of-type {\n",
              "        vertical-align: middle;\n",
              "    }\n",
              "\n",
              "    .dataframe tbody tr th {\n",
              "        vertical-align: top;\n",
              "    }\n",
              "\n",
              "    .dataframe thead th {\n",
              "        text-align: right;\n",
              "    }\n",
              "</style>\n",
              "<table border=\"1\" class=\"dataframe\">\n",
              "  <thead>\n",
              "    <tr style=\"text-align: right;\">\n",
              "      <th></th>\n",
              "      <th>0</th>\n",
              "      <th>1</th>\n",
              "      <th>2</th>\n",
              "      <th>3</th>\n",
              "      <th>4</th>\n",
              "      <th>5</th>\n",
              "      <th>6</th>\n",
              "      <th>7</th>\n",
              "      <th>8</th>\n",
              "      <th>9</th>\n",
              "    </tr>\n",
              "  </thead>\n",
              "  <tbody>\n",
              "    <tr>\n",
              "      <th>0</th>\n",
              "      <td>ADIDAS</td>\n",
              "      <td>YEEZY</td>\n",
              "      <td>BOOST</td>\n",
              "      <td>350</td>\n",
              "      <td>LOW</td>\n",
              "      <td>V2</td>\n",
              "      <td>BELUGA</td>\n",
              "      <td>None</td>\n",
              "      <td>None</td>\n",
              "      <td>None</td>\n",
              "    </tr>\n",
              "    <tr>\n",
              "      <th>1</th>\n",
              "      <td>ADIDAS</td>\n",
              "      <td>YEEZY</td>\n",
              "      <td>BOOST</td>\n",
              "      <td>350</td>\n",
              "      <td>V2</td>\n",
              "      <td>CORE</td>\n",
              "      <td>BLACK</td>\n",
              "      <td>COPPER</td>\n",
              "      <td>None</td>\n",
              "      <td>None</td>\n",
              "    </tr>\n",
              "    <tr>\n",
              "      <th>2</th>\n",
              "      <td>ADIDAS</td>\n",
              "      <td>YEEZY</td>\n",
              "      <td>BOOST</td>\n",
              "      <td>350</td>\n",
              "      <td>V2</td>\n",
              "      <td>CORE</td>\n",
              "      <td>BLACK</td>\n",
              "      <td>GREEN</td>\n",
              "      <td>None</td>\n",
              "      <td>None</td>\n",
              "    </tr>\n",
              "    <tr>\n",
              "      <th>3</th>\n",
              "      <td>ADIDAS</td>\n",
              "      <td>YEEZY</td>\n",
              "      <td>BOOST</td>\n",
              "      <td>350</td>\n",
              "      <td>V2</td>\n",
              "      <td>CORE</td>\n",
              "      <td>BLACK</td>\n",
              "      <td>RED</td>\n",
              "      <td>None</td>\n",
              "      <td>None</td>\n",
              "    </tr>\n",
              "    <tr>\n",
              "      <th>4</th>\n",
              "      <td>ADIDAS</td>\n",
              "      <td>YEEZY</td>\n",
              "      <td>BOOST</td>\n",
              "      <td>350</td>\n",
              "      <td>V2</td>\n",
              "      <td>CORE</td>\n",
              "      <td>BLACK</td>\n",
              "      <td>RED</td>\n",
              "      <td>2017</td>\n",
              "      <td>None</td>\n",
              "    </tr>\n",
              "    <tr>\n",
              "      <th>...</th>\n",
              "      <td>...</td>\n",
              "      <td>...</td>\n",
              "      <td>...</td>\n",
              "      <td>...</td>\n",
              "      <td>...</td>\n",
              "      <td>...</td>\n",
              "      <td>...</td>\n",
              "      <td>...</td>\n",
              "      <td>...</td>\n",
              "      <td>...</td>\n",
              "    </tr>\n",
              "    <tr>\n",
              "      <th>99951</th>\n",
              "      <td>ADIDAS</td>\n",
              "      <td>YEEZY</td>\n",
              "      <td>BOOST</td>\n",
              "      <td>350</td>\n",
              "      <td>V2</td>\n",
              "      <td>STATIC</td>\n",
              "      <td>REFLECTIVE</td>\n",
              "      <td>None</td>\n",
              "      <td>None</td>\n",
              "      <td>None</td>\n",
              "    </tr>\n",
              "    <tr>\n",
              "      <th>99952</th>\n",
              "      <td>ADIDAS</td>\n",
              "      <td>YEEZY</td>\n",
              "      <td>BOOST</td>\n",
              "      <td>350</td>\n",
              "      <td>V2</td>\n",
              "      <td>STATIC</td>\n",
              "      <td>REFLECTIVE</td>\n",
              "      <td>None</td>\n",
              "      <td>None</td>\n",
              "      <td>None</td>\n",
              "    </tr>\n",
              "    <tr>\n",
              "      <th>99953</th>\n",
              "      <td>ADIDAS</td>\n",
              "      <td>YEEZY</td>\n",
              "      <td>BOOST</td>\n",
              "      <td>350</td>\n",
              "      <td>V2</td>\n",
              "      <td>STATIC</td>\n",
              "      <td>REFLECTIVE</td>\n",
              "      <td>None</td>\n",
              "      <td>None</td>\n",
              "      <td>None</td>\n",
              "    </tr>\n",
              "    <tr>\n",
              "      <th>99954</th>\n",
              "      <td>ADIDAS</td>\n",
              "      <td>YEEZY</td>\n",
              "      <td>BOOST</td>\n",
              "      <td>350</td>\n",
              "      <td>V2</td>\n",
              "      <td>STATIC</td>\n",
              "      <td>REFLECTIVE</td>\n",
              "      <td>None</td>\n",
              "      <td>None</td>\n",
              "      <td>None</td>\n",
              "    </tr>\n",
              "    <tr>\n",
              "      <th>99955</th>\n",
              "      <td>ADIDAS</td>\n",
              "      <td>YEEZY</td>\n",
              "      <td>BOOST</td>\n",
              "      <td>350</td>\n",
              "      <td>V2</td>\n",
              "      <td>STATIC</td>\n",
              "      <td>REFLECTIVE</td>\n",
              "      <td>None</td>\n",
              "      <td>None</td>\n",
              "      <td>None</td>\n",
              "    </tr>\n",
              "  </tbody>\n",
              "</table>\n",
              "<p>99956 rows × 10 columns</p>\n",
              "</div>\n",
              "      <button class=\"colab-df-convert\" onclick=\"convertToInteractive('df-1ec5300f-698f-4fd1-b43d-c6775fe118a9')\"\n",
              "              title=\"Convert this dataframe to an interactive table.\"\n",
              "              style=\"display:none;\">\n",
              "        \n",
              "  <svg xmlns=\"http://www.w3.org/2000/svg\" height=\"24px\"viewBox=\"0 0 24 24\"\n",
              "       width=\"24px\">\n",
              "    <path d=\"M0 0h24v24H0V0z\" fill=\"none\"/>\n",
              "    <path d=\"M18.56 5.44l.94 2.06.94-2.06 2.06-.94-2.06-.94-.94-2.06-.94 2.06-2.06.94zm-11 1L8.5 8.5l.94-2.06 2.06-.94-2.06-.94L8.5 2.5l-.94 2.06-2.06.94zm10 10l.94 2.06.94-2.06 2.06-.94-2.06-.94-.94-2.06-.94 2.06-2.06.94z\"/><path d=\"M17.41 7.96l-1.37-1.37c-.4-.4-.92-.59-1.43-.59-.52 0-1.04.2-1.43.59L10.3 9.45l-7.72 7.72c-.78.78-.78 2.05 0 2.83L4 21.41c.39.39.9.59 1.41.59.51 0 1.02-.2 1.41-.59l7.78-7.78 2.81-2.81c.8-.78.8-2.07 0-2.86zM5.41 20L4 18.59l7.72-7.72 1.47 1.35L5.41 20z\"/>\n",
              "  </svg>\n",
              "      </button>\n",
              "      \n",
              "  <style>\n",
              "    .colab-df-container {\n",
              "      display:flex;\n",
              "      flex-wrap:wrap;\n",
              "      gap: 12px;\n",
              "    }\n",
              "\n",
              "    .colab-df-convert {\n",
              "      background-color: #E8F0FE;\n",
              "      border: none;\n",
              "      border-radius: 50%;\n",
              "      cursor: pointer;\n",
              "      display: none;\n",
              "      fill: #1967D2;\n",
              "      height: 32px;\n",
              "      padding: 0 0 0 0;\n",
              "      width: 32px;\n",
              "    }\n",
              "\n",
              "    .colab-df-convert:hover {\n",
              "      background-color: #E2EBFA;\n",
              "      box-shadow: 0px 1px 2px rgba(60, 64, 67, 0.3), 0px 1px 3px 1px rgba(60, 64, 67, 0.15);\n",
              "      fill: #174EA6;\n",
              "    }\n",
              "\n",
              "    [theme=dark] .colab-df-convert {\n",
              "      background-color: #3B4455;\n",
              "      fill: #D2E3FC;\n",
              "    }\n",
              "\n",
              "    [theme=dark] .colab-df-convert:hover {\n",
              "      background-color: #434B5C;\n",
              "      box-shadow: 0px 1px 3px 1px rgba(0, 0, 0, 0.15);\n",
              "      filter: drop-shadow(0px 1px 2px rgba(0, 0, 0, 0.3));\n",
              "      fill: #FFFFFF;\n",
              "    }\n",
              "  </style>\n",
              "\n",
              "      <script>\n",
              "        const buttonEl =\n",
              "          document.querySelector('#df-1ec5300f-698f-4fd1-b43d-c6775fe118a9 button.colab-df-convert');\n",
              "        buttonEl.style.display =\n",
              "          google.colab.kernel.accessAllowed ? 'block' : 'none';\n",
              "\n",
              "        async function convertToInteractive(key) {\n",
              "          const element = document.querySelector('#df-1ec5300f-698f-4fd1-b43d-c6775fe118a9');\n",
              "          const dataTable =\n",
              "            await google.colab.kernel.invokeFunction('convertToInteractive',\n",
              "                                                     [key], {});\n",
              "          if (!dataTable) return;\n",
              "\n",
              "          const docLinkHtml = 'Like what you see? Visit the ' +\n",
              "            '<a target=\"_blank\" href=https://colab.research.google.com/notebooks/data_table.ipynb>data table notebook</a>'\n",
              "            + ' to learn more about interactive tables.';\n",
              "          element.innerHTML = '';\n",
              "          dataTable['output_type'] = 'display_data';\n",
              "          await google.colab.output.renderOutput(dataTable, element);\n",
              "          const docLink = document.createElement('div');\n",
              "          docLink.innerHTML = docLinkHtml;\n",
              "          element.appendChild(docLink);\n",
              "        }\n",
              "      </script>\n",
              "    </div>\n",
              "  </div>\n",
              "  "
            ]
          },
          "metadata": {},
          "execution_count": 172
        }
      ]
    },
    {
      "cell_type": "code",
      "source": [
        "stockx_df1.info()"
      ],
      "metadata": {
        "colab": {
          "base_uri": "https://localhost:8080/"
        },
        "id": "LZqtTEDNfuSf",
        "outputId": "a84065ab-bb5b-422b-fbc6-847910bf5e28"
      },
      "execution_count": 173,
      "outputs": [
        {
          "output_type": "stream",
          "name": "stdout",
          "text": [
            "<class 'pandas.core.frame.DataFrame'>\n",
            "RangeIndex: 99956 entries, 0 to 99955\n",
            "Data columns (total 10 columns):\n",
            " #   Column  Non-Null Count  Dtype \n",
            "---  ------  --------------  ----- \n",
            " 0   0       99956 non-null  object\n",
            " 1   1       99956 non-null  object\n",
            " 2   2       99956 non-null  object\n",
            " 3   3       99956 non-null  object\n",
            " 4   4       99956 non-null  object\n",
            " 5   5       97899 non-null  object\n",
            " 6   6       60228 non-null  object\n",
            " 7   7       18053 non-null  object\n",
            " 8   8       6811 non-null   object\n",
            " 9   9       31 non-null     object\n",
            "dtypes: object(10)\n",
            "memory usage: 7.6+ MB\n"
          ]
        }
      ]
    },
    {
      "cell_type": "code",
      "source": [
        "stockx_df1[0].unique()"
      ],
      "metadata": {
        "colab": {
          "base_uri": "https://localhost:8080/"
        },
        "id": "pSLQZpDC1iup",
        "outputId": "4c010a52-913f-4526-f81b-2402fb448a7d"
      },
      "execution_count": 174,
      "outputs": [
        {
          "output_type": "execute_result",
          "data": {
            "text/plain": [
              "array(['ADIDAS', 'NIKE', 'AIR'], dtype=object)"
            ]
          },
          "metadata": {},
          "execution_count": 174
        }
      ]
    },
    {
      "cell_type": "code",
      "source": [
        "stockx_df1[1].unique()"
      ],
      "metadata": {
        "colab": {
          "base_uri": "https://localhost:8080/"
        },
        "id": "QBuewYzj2ggI",
        "outputId": "f4338fc5-abb2-42cb-c133-cc72bcca4d51"
      },
      "execution_count": 175,
      "outputs": [
        {
          "output_type": "execute_result",
          "data": {
            "text/plain": [
              "array(['YEEZY', 'AIR', 'JORDAN', 'BLAZER', 'REACT', 'ZOOM'], dtype=object)"
            ]
          },
          "metadata": {},
          "execution_count": 175
        }
      ]
    },
    {
      "cell_type": "code",
      "source": [
        "stockx_df1.rename(columns={0:\"main_brand\", 1:\"label\", 3:\"silhouette\",4: \"colorway\"})\n"
      ],
      "metadata": {
        "id": "stH5izilIY3B",
        "colab": {
          "base_uri": "https://localhost:8080/",
          "height": 423
        },
        "outputId": "35b9fe6d-479a-4586-cd55-1b02a8e4d163"
      },
      "execution_count": 176,
      "outputs": [
        {
          "output_type": "execute_result",
          "data": {
            "text/plain": [
              "      main_brand  label      2 silhouette colorway       5           6  \\\n",
              "0         ADIDAS  YEEZY  BOOST        350      LOW      V2      BELUGA   \n",
              "1         ADIDAS  YEEZY  BOOST        350       V2    CORE       BLACK   \n",
              "2         ADIDAS  YEEZY  BOOST        350       V2    CORE       BLACK   \n",
              "3         ADIDAS  YEEZY  BOOST        350       V2    CORE       BLACK   \n",
              "4         ADIDAS  YEEZY  BOOST        350       V2    CORE       BLACK   \n",
              "...          ...    ...    ...        ...      ...     ...         ...   \n",
              "99951     ADIDAS  YEEZY  BOOST        350       V2  STATIC  REFLECTIVE   \n",
              "99952     ADIDAS  YEEZY  BOOST        350       V2  STATIC  REFLECTIVE   \n",
              "99953     ADIDAS  YEEZY  BOOST        350       V2  STATIC  REFLECTIVE   \n",
              "99954     ADIDAS  YEEZY  BOOST        350       V2  STATIC  REFLECTIVE   \n",
              "99955     ADIDAS  YEEZY  BOOST        350       V2  STATIC  REFLECTIVE   \n",
              "\n",
              "            7     8     9  \n",
              "0        None  None  None  \n",
              "1      COPPER  None  None  \n",
              "2       GREEN  None  None  \n",
              "3         RED  None  None  \n",
              "4         RED  2017  None  \n",
              "...       ...   ...   ...  \n",
              "99951    None  None  None  \n",
              "99952    None  None  None  \n",
              "99953    None  None  None  \n",
              "99954    None  None  None  \n",
              "99955    None  None  None  \n",
              "\n",
              "[99956 rows x 10 columns]"
            ],
            "text/html": [
              "\n",
              "  <div id=\"df-d12df593-51c9-4884-bad8-a7f9e1a7b3c2\">\n",
              "    <div class=\"colab-df-container\">\n",
              "      <div>\n",
              "<style scoped>\n",
              "    .dataframe tbody tr th:only-of-type {\n",
              "        vertical-align: middle;\n",
              "    }\n",
              "\n",
              "    .dataframe tbody tr th {\n",
              "        vertical-align: top;\n",
              "    }\n",
              "\n",
              "    .dataframe thead th {\n",
              "        text-align: right;\n",
              "    }\n",
              "</style>\n",
              "<table border=\"1\" class=\"dataframe\">\n",
              "  <thead>\n",
              "    <tr style=\"text-align: right;\">\n",
              "      <th></th>\n",
              "      <th>main_brand</th>\n",
              "      <th>label</th>\n",
              "      <th>2</th>\n",
              "      <th>silhouette</th>\n",
              "      <th>colorway</th>\n",
              "      <th>5</th>\n",
              "      <th>6</th>\n",
              "      <th>7</th>\n",
              "      <th>8</th>\n",
              "      <th>9</th>\n",
              "    </tr>\n",
              "  </thead>\n",
              "  <tbody>\n",
              "    <tr>\n",
              "      <th>0</th>\n",
              "      <td>ADIDAS</td>\n",
              "      <td>YEEZY</td>\n",
              "      <td>BOOST</td>\n",
              "      <td>350</td>\n",
              "      <td>LOW</td>\n",
              "      <td>V2</td>\n",
              "      <td>BELUGA</td>\n",
              "      <td>None</td>\n",
              "      <td>None</td>\n",
              "      <td>None</td>\n",
              "    </tr>\n",
              "    <tr>\n",
              "      <th>1</th>\n",
              "      <td>ADIDAS</td>\n",
              "      <td>YEEZY</td>\n",
              "      <td>BOOST</td>\n",
              "      <td>350</td>\n",
              "      <td>V2</td>\n",
              "      <td>CORE</td>\n",
              "      <td>BLACK</td>\n",
              "      <td>COPPER</td>\n",
              "      <td>None</td>\n",
              "      <td>None</td>\n",
              "    </tr>\n",
              "    <tr>\n",
              "      <th>2</th>\n",
              "      <td>ADIDAS</td>\n",
              "      <td>YEEZY</td>\n",
              "      <td>BOOST</td>\n",
              "      <td>350</td>\n",
              "      <td>V2</td>\n",
              "      <td>CORE</td>\n",
              "      <td>BLACK</td>\n",
              "      <td>GREEN</td>\n",
              "      <td>None</td>\n",
              "      <td>None</td>\n",
              "    </tr>\n",
              "    <tr>\n",
              "      <th>3</th>\n",
              "      <td>ADIDAS</td>\n",
              "      <td>YEEZY</td>\n",
              "      <td>BOOST</td>\n",
              "      <td>350</td>\n",
              "      <td>V2</td>\n",
              "      <td>CORE</td>\n",
              "      <td>BLACK</td>\n",
              "      <td>RED</td>\n",
              "      <td>None</td>\n",
              "      <td>None</td>\n",
              "    </tr>\n",
              "    <tr>\n",
              "      <th>4</th>\n",
              "      <td>ADIDAS</td>\n",
              "      <td>YEEZY</td>\n",
              "      <td>BOOST</td>\n",
              "      <td>350</td>\n",
              "      <td>V2</td>\n",
              "      <td>CORE</td>\n",
              "      <td>BLACK</td>\n",
              "      <td>RED</td>\n",
              "      <td>2017</td>\n",
              "      <td>None</td>\n",
              "    </tr>\n",
              "    <tr>\n",
              "      <th>...</th>\n",
              "      <td>...</td>\n",
              "      <td>...</td>\n",
              "      <td>...</td>\n",
              "      <td>...</td>\n",
              "      <td>...</td>\n",
              "      <td>...</td>\n",
              "      <td>...</td>\n",
              "      <td>...</td>\n",
              "      <td>...</td>\n",
              "      <td>...</td>\n",
              "    </tr>\n",
              "    <tr>\n",
              "      <th>99951</th>\n",
              "      <td>ADIDAS</td>\n",
              "      <td>YEEZY</td>\n",
              "      <td>BOOST</td>\n",
              "      <td>350</td>\n",
              "      <td>V2</td>\n",
              "      <td>STATIC</td>\n",
              "      <td>REFLECTIVE</td>\n",
              "      <td>None</td>\n",
              "      <td>None</td>\n",
              "      <td>None</td>\n",
              "    </tr>\n",
              "    <tr>\n",
              "      <th>99952</th>\n",
              "      <td>ADIDAS</td>\n",
              "      <td>YEEZY</td>\n",
              "      <td>BOOST</td>\n",
              "      <td>350</td>\n",
              "      <td>V2</td>\n",
              "      <td>STATIC</td>\n",
              "      <td>REFLECTIVE</td>\n",
              "      <td>None</td>\n",
              "      <td>None</td>\n",
              "      <td>None</td>\n",
              "    </tr>\n",
              "    <tr>\n",
              "      <th>99953</th>\n",
              "      <td>ADIDAS</td>\n",
              "      <td>YEEZY</td>\n",
              "      <td>BOOST</td>\n",
              "      <td>350</td>\n",
              "      <td>V2</td>\n",
              "      <td>STATIC</td>\n",
              "      <td>REFLECTIVE</td>\n",
              "      <td>None</td>\n",
              "      <td>None</td>\n",
              "      <td>None</td>\n",
              "    </tr>\n",
              "    <tr>\n",
              "      <th>99954</th>\n",
              "      <td>ADIDAS</td>\n",
              "      <td>YEEZY</td>\n",
              "      <td>BOOST</td>\n",
              "      <td>350</td>\n",
              "      <td>V2</td>\n",
              "      <td>STATIC</td>\n",
              "      <td>REFLECTIVE</td>\n",
              "      <td>None</td>\n",
              "      <td>None</td>\n",
              "      <td>None</td>\n",
              "    </tr>\n",
              "    <tr>\n",
              "      <th>99955</th>\n",
              "      <td>ADIDAS</td>\n",
              "      <td>YEEZY</td>\n",
              "      <td>BOOST</td>\n",
              "      <td>350</td>\n",
              "      <td>V2</td>\n",
              "      <td>STATIC</td>\n",
              "      <td>REFLECTIVE</td>\n",
              "      <td>None</td>\n",
              "      <td>None</td>\n",
              "      <td>None</td>\n",
              "    </tr>\n",
              "  </tbody>\n",
              "</table>\n",
              "<p>99956 rows × 10 columns</p>\n",
              "</div>\n",
              "      <button class=\"colab-df-convert\" onclick=\"convertToInteractive('df-d12df593-51c9-4884-bad8-a7f9e1a7b3c2')\"\n",
              "              title=\"Convert this dataframe to an interactive table.\"\n",
              "              style=\"display:none;\">\n",
              "        \n",
              "  <svg xmlns=\"http://www.w3.org/2000/svg\" height=\"24px\"viewBox=\"0 0 24 24\"\n",
              "       width=\"24px\">\n",
              "    <path d=\"M0 0h24v24H0V0z\" fill=\"none\"/>\n",
              "    <path d=\"M18.56 5.44l.94 2.06.94-2.06 2.06-.94-2.06-.94-.94-2.06-.94 2.06-2.06.94zm-11 1L8.5 8.5l.94-2.06 2.06-.94-2.06-.94L8.5 2.5l-.94 2.06-2.06.94zm10 10l.94 2.06.94-2.06 2.06-.94-2.06-.94-.94-2.06-.94 2.06-2.06.94z\"/><path d=\"M17.41 7.96l-1.37-1.37c-.4-.4-.92-.59-1.43-.59-.52 0-1.04.2-1.43.59L10.3 9.45l-7.72 7.72c-.78.78-.78 2.05 0 2.83L4 21.41c.39.39.9.59 1.41.59.51 0 1.02-.2 1.41-.59l7.78-7.78 2.81-2.81c.8-.78.8-2.07 0-2.86zM5.41 20L4 18.59l7.72-7.72 1.47 1.35L5.41 20z\"/>\n",
              "  </svg>\n",
              "      </button>\n",
              "      \n",
              "  <style>\n",
              "    .colab-df-container {\n",
              "      display:flex;\n",
              "      flex-wrap:wrap;\n",
              "      gap: 12px;\n",
              "    }\n",
              "\n",
              "    .colab-df-convert {\n",
              "      background-color: #E8F0FE;\n",
              "      border: none;\n",
              "      border-radius: 50%;\n",
              "      cursor: pointer;\n",
              "      display: none;\n",
              "      fill: #1967D2;\n",
              "      height: 32px;\n",
              "      padding: 0 0 0 0;\n",
              "      width: 32px;\n",
              "    }\n",
              "\n",
              "    .colab-df-convert:hover {\n",
              "      background-color: #E2EBFA;\n",
              "      box-shadow: 0px 1px 2px rgba(60, 64, 67, 0.3), 0px 1px 3px 1px rgba(60, 64, 67, 0.15);\n",
              "      fill: #174EA6;\n",
              "    }\n",
              "\n",
              "    [theme=dark] .colab-df-convert {\n",
              "      background-color: #3B4455;\n",
              "      fill: #D2E3FC;\n",
              "    }\n",
              "\n",
              "    [theme=dark] .colab-df-convert:hover {\n",
              "      background-color: #434B5C;\n",
              "      box-shadow: 0px 1px 3px 1px rgba(0, 0, 0, 0.15);\n",
              "      filter: drop-shadow(0px 1px 2px rgba(0, 0, 0, 0.3));\n",
              "      fill: #FFFFFF;\n",
              "    }\n",
              "  </style>\n",
              "\n",
              "      <script>\n",
              "        const buttonEl =\n",
              "          document.querySelector('#df-d12df593-51c9-4884-bad8-a7f9e1a7b3c2 button.colab-df-convert');\n",
              "        buttonEl.style.display =\n",
              "          google.colab.kernel.accessAllowed ? 'block' : 'none';\n",
              "\n",
              "        async function convertToInteractive(key) {\n",
              "          const element = document.querySelector('#df-d12df593-51c9-4884-bad8-a7f9e1a7b3c2');\n",
              "          const dataTable =\n",
              "            await google.colab.kernel.invokeFunction('convertToInteractive',\n",
              "                                                     [key], {});\n",
              "          if (!dataTable) return;\n",
              "\n",
              "          const docLinkHtml = 'Like what you see? Visit the ' +\n",
              "            '<a target=\"_blank\" href=https://colab.research.google.com/notebooks/data_table.ipynb>data table notebook</a>'\n",
              "            + ' to learn more about interactive tables.';\n",
              "          element.innerHTML = '';\n",
              "          dataTable['output_type'] = 'display_data';\n",
              "          await google.colab.output.renderOutput(dataTable, element);\n",
              "          const docLink = document.createElement('div');\n",
              "          docLink.innerHTML = docLinkHtml;\n",
              "          element.appendChild(docLink);\n",
              "        }\n",
              "      </script>\n",
              "    </div>\n",
              "  </div>\n",
              "  "
            ]
          },
          "metadata": {},
          "execution_count": 176
        }
      ]
    },
    {
      "cell_type": "code",
      "source": [
        "stockx_df1.info()"
      ],
      "metadata": {
        "colab": {
          "base_uri": "https://localhost:8080/"
        },
        "id": "5AZQ3wyyJAOp",
        "outputId": "e6dd14a2-09f1-40af-9feb-fe61ffa45817"
      },
      "execution_count": 177,
      "outputs": [
        {
          "output_type": "stream",
          "name": "stdout",
          "text": [
            "<class 'pandas.core.frame.DataFrame'>\n",
            "RangeIndex: 99956 entries, 0 to 99955\n",
            "Data columns (total 10 columns):\n",
            " #   Column  Non-Null Count  Dtype \n",
            "---  ------  --------------  ----- \n",
            " 0   0       99956 non-null  object\n",
            " 1   1       99956 non-null  object\n",
            " 2   2       99956 non-null  object\n",
            " 3   3       99956 non-null  object\n",
            " 4   4       99956 non-null  object\n",
            " 5   5       97899 non-null  object\n",
            " 6   6       60228 non-null  object\n",
            " 7   7       18053 non-null  object\n",
            " 8   8       6811 non-null   object\n",
            " 9   9       31 non-null     object\n",
            "dtypes: object(10)\n",
            "memory usage: 7.6+ MB\n"
          ]
        }
      ]
    },
    {
      "cell_type": "code",
      "source": [
        "print('\\n','*'*50,'\\n Marcas :', stockx_df1[0].unique(),'\\n','*'*50,\n",
        "      '\\n','*'*50,'\\n Colaboración :', stockx_df1[1].unique(),'\\n','*'*50,\n",
        "      '\\n','*'*50,'\\n Siluetas :',stockx_df1[2].unique(),'\\n','*'*50,\n",
        "      '\\n','*'*50,'\\n Colores :',stockx_df1[3].unique(),'\\n','*'*50,\n",
        "      '\\n','*'*50,'\\n Otro1 :',stockx_df1[4].unique(),'\\n','*'*50,\n",
        "      '\\n','*'*50,'\\n Otro2 :',stockx_df1[5].unique(),'\\n','*'*50,\n",
        "      '\\n','*'*50,'\\n Otro3 :',stockx_df1[6].unique(),'\\n','*'*50,\n",
        "      '\\n','*'*50,'\\n Otro4 :',stockx_df1[7].unique(),'\\n','*'*50,\n",
        "      '\\n','*'*50,'\\n Otro5 :',stockx_df1[8].unique(),'\\n','*'*50,\n",
        "      '\\n','*'*50,'\\n Otro6 :',stockx_df1[9].unique(),'\\n','*'*50,)"
      ],
      "metadata": {
        "colab": {
          "base_uri": "https://localhost:8080/"
        },
        "id": "44fT74sIFaQg",
        "outputId": "d164f142-aacc-48be-e20d-b7f9d0f5be83"
      },
      "execution_count": 178,
      "outputs": [
        {
          "output_type": "stream",
          "name": "stdout",
          "text": [
            "\n",
            " ************************************************** \n",
            " Marcas : ['ADIDAS' 'NIKE' 'AIR'] \n",
            " ************************************************** \n",
            " ************************************************** \n",
            " Colaboración : ['YEEZY' 'AIR' 'JORDAN' 'BLAZER' 'REACT' 'ZOOM'] \n",
            " ************************************************** \n",
            " ************************************************** \n",
            " Siluetas : ['BOOST' 'MAX' 'PRESTO' 'VAPORMAX' '1' 'MID' 'FORCE' 'HYPERDUNK' 'FLY'] \n",
            " ************************************************** \n",
            " ************************************************** \n",
            " Colores : ['350' '90' 'OFF' 'RETRO' '1' '97' '2017' 'MERCURIAL'] \n",
            " ************************************************** \n",
            " ************************************************** \n",
            " Otro1 : ['LOW' 'V2' 'OFF' 'WHITE' 'HIGH' 'FLYKNIT'] \n",
            " ************************************************** \n",
            " ************************************************** \n",
            " Otro2 : ['V2' 'CORE' 'CREAM' 'ZEBRA' 'MOONROCK' 'WHITE' None 'OFF' 'PIRATE'\n",
            " 'OXFORD' 'TURTLEDOVE' 'SEMI' 'VIRGIL' 'BELUGA' 'BLUE' '2018' 'BLACK'\n",
            " 'BUTTER' 'ALL' 'GRIM' 'SESAME' 'WOLF' 'PINK' 'STATIC'] \n",
            " ************************************************** \n",
            " ************************************************** \n",
            " Otro3 : ['BELUGA' 'BLACK' 'WHITE' None 'TAN' 'FROZEN' 'ABLOH' '2PT0' 'TINT' '2018'\n",
            " 'TOTAL' 'ELEMENTAL' 'HALLOWS' 'REAPER' 'GREY' 'MENTA' 'SILVER'\n",
            " 'REFLECTIVE' 'DESERT'] \n",
            " ************************************************** \n",
            " ************************************************** \n",
            " Otro4 : [None 'COPPER' 'GREEN' 'RED' 'WHITE' 'CHICAGO' '2016' '2015' 'YELLOW'\n",
            " 'OFF' 'UNIVERSITY' 'ORANGE' 'ROSE' 'EVE' 'VOLT' 'BLACK' 'ORE'] \n",
            " ************************************************** \n",
            " ************************************************** \n",
            " Otro5 : [None '2017' 'WHITE' 'BLUE' 'QUEEN'] \n",
            " ************************************************** \n",
            " ************************************************** \n",
            " Otro6 : [None 'AF100'] \n",
            " **************************************************\n"
          ]
        }
      ]
    },
    {
      "cell_type": "code",
      "source": [
        "stockx_df1[0] = stockx_df1[0].apply(lambda b:'NIKE' if b == 'AIR' or b == 'NIKE' else 'ADIDAS')"
      ],
      "metadata": {
        "id": "4avCSXq4NPlK"
      },
      "execution_count": 179,
      "outputs": []
    },
    {
      "cell_type": "code",
      "source": [
        "print('\\n','*'*50,'\\n Marcas :', stockx_df1[0].unique(),'\\n','*'*50)"
      ],
      "metadata": {
        "colab": {
          "base_uri": "https://localhost:8080/"
        },
        "id": "D77Y3ugCOQga",
        "outputId": "79a5cb4e-489f-41fb-d84b-ae642dd2faba"
      },
      "execution_count": 180,
      "outputs": [
        {
          "output_type": "stream",
          "name": "stdout",
          "text": [
            "\n",
            " ************************************************** \n",
            " Marcas : ['ADIDAS' 'NIKE'] \n",
            " **************************************************\n"
          ]
        }
      ]
    },
    {
      "cell_type": "code",
      "source": [
        "stockx_df1 = stockx_df1.assign(colaboration = stockx_df1[1].apply(lambda c:'YEEZY' if c== 'YEEZY' else 'OFF-WITHE'))\n",
        "stockx_df1.head(5)"
      ],
      "metadata": {
        "colab": {
          "base_uri": "https://localhost:8080/",
          "height": 206
        },
        "id": "-0W5PUdTZ10G",
        "outputId": "bd441e41-aea8-4af3-c41c-562532414c1f"
      },
      "execution_count": 184,
      "outputs": [
        {
          "output_type": "execute_result",
          "data": {
            "text/plain": [
              "        0      1      2    3    4     5       6       7     8     9  \\\n",
              "0  ADIDAS  YEEZY  BOOST  350  LOW    V2  BELUGA    None  None  None   \n",
              "1  ADIDAS  YEEZY  BOOST  350   V2  CORE   BLACK  COPPER  None  None   \n",
              "2  ADIDAS  YEEZY  BOOST  350   V2  CORE   BLACK   GREEN  None  None   \n",
              "3  ADIDAS  YEEZY  BOOST  350   V2  CORE   BLACK     RED  None  None   \n",
              "4  ADIDAS  YEEZY  BOOST  350   V2  CORE   BLACK     RED  2017  None   \n",
              "\n",
              "  colaboration  \n",
              "0        YEEZY  \n",
              "1        YEEZY  \n",
              "2        YEEZY  \n",
              "3        YEEZY  \n",
              "4        YEEZY  "
            ],
            "text/html": [
              "\n",
              "  <div id=\"df-ad616a62-98b5-4928-ad70-969396831efb\">\n",
              "    <div class=\"colab-df-container\">\n",
              "      <div>\n",
              "<style scoped>\n",
              "    .dataframe tbody tr th:only-of-type {\n",
              "        vertical-align: middle;\n",
              "    }\n",
              "\n",
              "    .dataframe tbody tr th {\n",
              "        vertical-align: top;\n",
              "    }\n",
              "\n",
              "    .dataframe thead th {\n",
              "        text-align: right;\n",
              "    }\n",
              "</style>\n",
              "<table border=\"1\" class=\"dataframe\">\n",
              "  <thead>\n",
              "    <tr style=\"text-align: right;\">\n",
              "      <th></th>\n",
              "      <th>0</th>\n",
              "      <th>1</th>\n",
              "      <th>2</th>\n",
              "      <th>3</th>\n",
              "      <th>4</th>\n",
              "      <th>5</th>\n",
              "      <th>6</th>\n",
              "      <th>7</th>\n",
              "      <th>8</th>\n",
              "      <th>9</th>\n",
              "      <th>colaboration</th>\n",
              "    </tr>\n",
              "  </thead>\n",
              "  <tbody>\n",
              "    <tr>\n",
              "      <th>0</th>\n",
              "      <td>ADIDAS</td>\n",
              "      <td>YEEZY</td>\n",
              "      <td>BOOST</td>\n",
              "      <td>350</td>\n",
              "      <td>LOW</td>\n",
              "      <td>V2</td>\n",
              "      <td>BELUGA</td>\n",
              "      <td>None</td>\n",
              "      <td>None</td>\n",
              "      <td>None</td>\n",
              "      <td>YEEZY</td>\n",
              "    </tr>\n",
              "    <tr>\n",
              "      <th>1</th>\n",
              "      <td>ADIDAS</td>\n",
              "      <td>YEEZY</td>\n",
              "      <td>BOOST</td>\n",
              "      <td>350</td>\n",
              "      <td>V2</td>\n",
              "      <td>CORE</td>\n",
              "      <td>BLACK</td>\n",
              "      <td>COPPER</td>\n",
              "      <td>None</td>\n",
              "      <td>None</td>\n",
              "      <td>YEEZY</td>\n",
              "    </tr>\n",
              "    <tr>\n",
              "      <th>2</th>\n",
              "      <td>ADIDAS</td>\n",
              "      <td>YEEZY</td>\n",
              "      <td>BOOST</td>\n",
              "      <td>350</td>\n",
              "      <td>V2</td>\n",
              "      <td>CORE</td>\n",
              "      <td>BLACK</td>\n",
              "      <td>GREEN</td>\n",
              "      <td>None</td>\n",
              "      <td>None</td>\n",
              "      <td>YEEZY</td>\n",
              "    </tr>\n",
              "    <tr>\n",
              "      <th>3</th>\n",
              "      <td>ADIDAS</td>\n",
              "      <td>YEEZY</td>\n",
              "      <td>BOOST</td>\n",
              "      <td>350</td>\n",
              "      <td>V2</td>\n",
              "      <td>CORE</td>\n",
              "      <td>BLACK</td>\n",
              "      <td>RED</td>\n",
              "      <td>None</td>\n",
              "      <td>None</td>\n",
              "      <td>YEEZY</td>\n",
              "    </tr>\n",
              "    <tr>\n",
              "      <th>4</th>\n",
              "      <td>ADIDAS</td>\n",
              "      <td>YEEZY</td>\n",
              "      <td>BOOST</td>\n",
              "      <td>350</td>\n",
              "      <td>V2</td>\n",
              "      <td>CORE</td>\n",
              "      <td>BLACK</td>\n",
              "      <td>RED</td>\n",
              "      <td>2017</td>\n",
              "      <td>None</td>\n",
              "      <td>YEEZY</td>\n",
              "    </tr>\n",
              "  </tbody>\n",
              "</table>\n",
              "</div>\n",
              "      <button class=\"colab-df-convert\" onclick=\"convertToInteractive('df-ad616a62-98b5-4928-ad70-969396831efb')\"\n",
              "              title=\"Convert this dataframe to an interactive table.\"\n",
              "              style=\"display:none;\">\n",
              "        \n",
              "  <svg xmlns=\"http://www.w3.org/2000/svg\" height=\"24px\"viewBox=\"0 0 24 24\"\n",
              "       width=\"24px\">\n",
              "    <path d=\"M0 0h24v24H0V0z\" fill=\"none\"/>\n",
              "    <path d=\"M18.56 5.44l.94 2.06.94-2.06 2.06-.94-2.06-.94-.94-2.06-.94 2.06-2.06.94zm-11 1L8.5 8.5l.94-2.06 2.06-.94-2.06-.94L8.5 2.5l-.94 2.06-2.06.94zm10 10l.94 2.06.94-2.06 2.06-.94-2.06-.94-.94-2.06-.94 2.06-2.06.94z\"/><path d=\"M17.41 7.96l-1.37-1.37c-.4-.4-.92-.59-1.43-.59-.52 0-1.04.2-1.43.59L10.3 9.45l-7.72 7.72c-.78.78-.78 2.05 0 2.83L4 21.41c.39.39.9.59 1.41.59.51 0 1.02-.2 1.41-.59l7.78-7.78 2.81-2.81c.8-.78.8-2.07 0-2.86zM5.41 20L4 18.59l7.72-7.72 1.47 1.35L5.41 20z\"/>\n",
              "  </svg>\n",
              "      </button>\n",
              "      \n",
              "  <style>\n",
              "    .colab-df-container {\n",
              "      display:flex;\n",
              "      flex-wrap:wrap;\n",
              "      gap: 12px;\n",
              "    }\n",
              "\n",
              "    .colab-df-convert {\n",
              "      background-color: #E8F0FE;\n",
              "      border: none;\n",
              "      border-radius: 50%;\n",
              "      cursor: pointer;\n",
              "      display: none;\n",
              "      fill: #1967D2;\n",
              "      height: 32px;\n",
              "      padding: 0 0 0 0;\n",
              "      width: 32px;\n",
              "    }\n",
              "\n",
              "    .colab-df-convert:hover {\n",
              "      background-color: #E2EBFA;\n",
              "      box-shadow: 0px 1px 2px rgba(60, 64, 67, 0.3), 0px 1px 3px 1px rgba(60, 64, 67, 0.15);\n",
              "      fill: #174EA6;\n",
              "    }\n",
              "\n",
              "    [theme=dark] .colab-df-convert {\n",
              "      background-color: #3B4455;\n",
              "      fill: #D2E3FC;\n",
              "    }\n",
              "\n",
              "    [theme=dark] .colab-df-convert:hover {\n",
              "      background-color: #434B5C;\n",
              "      box-shadow: 0px 1px 3px 1px rgba(0, 0, 0, 0.15);\n",
              "      filter: drop-shadow(0px 1px 2px rgba(0, 0, 0, 0.3));\n",
              "      fill: #FFFFFF;\n",
              "    }\n",
              "  </style>\n",
              "\n",
              "      <script>\n",
              "        const buttonEl =\n",
              "          document.querySelector('#df-ad616a62-98b5-4928-ad70-969396831efb button.colab-df-convert');\n",
              "        buttonEl.style.display =\n",
              "          google.colab.kernel.accessAllowed ? 'block' : 'none';\n",
              "\n",
              "        async function convertToInteractive(key) {\n",
              "          const element = document.querySelector('#df-ad616a62-98b5-4928-ad70-969396831efb');\n",
              "          const dataTable =\n",
              "            await google.colab.kernel.invokeFunction('convertToInteractive',\n",
              "                                                     [key], {});\n",
              "          if (!dataTable) return;\n",
              "\n",
              "          const docLinkHtml = 'Like what you see? Visit the ' +\n",
              "            '<a target=\"_blank\" href=https://colab.research.google.com/notebooks/data_table.ipynb>data table notebook</a>'\n",
              "            + ' to learn more about interactive tables.';\n",
              "          element.innerHTML = '';\n",
              "          dataTable['output_type'] = 'display_data';\n",
              "          await google.colab.output.renderOutput(dataTable, element);\n",
              "          const docLink = document.createElement('div');\n",
              "          docLink.innerHTML = docLinkHtml;\n",
              "          element.appendChild(docLink);\n",
              "        }\n",
              "      </script>\n",
              "    </div>\n",
              "  </div>\n",
              "  "
            ]
          },
          "metadata": {},
          "execution_count": 184
        }
      ]
    },
    {
      "cell_type": "code",
      "source": [
        "print('\\n','*'*50,'\\n Marcas :', stockx_df1['colaboration'].unique(),'\\n','*'*50)"
      ],
      "metadata": {
        "colab": {
          "base_uri": "https://localhost:8080/"
        },
        "id": "q1Bln9RDe6UE",
        "outputId": "768768b4-9be3-461d-84fd-9351e2ccfb81"
      },
      "execution_count": 186,
      "outputs": [
        {
          "output_type": "stream",
          "name": "stdout",
          "text": [
            "\n",
            " ************************************************** \n",
            " Marcas : ['YEEZY' 'OFF-WITHE'] \n",
            " **************************************************\n"
          ]
        }
      ]
    }
  ]
}